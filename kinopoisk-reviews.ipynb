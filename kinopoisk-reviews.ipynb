{
  "nbformat": 4,
  "nbformat_minor": 0,
  "metadata": {
    "colab": {
      "name": "Copy of kinopoisk-reviews.ipynb",
      "version": "0.3.2",
      "provenance": [],
      "collapsed_sections": [],
      "toc_visible": true
    },
    "kernelspec": {
      "name": "python3",
      "display_name": "Python 3"
    },
    "accelerator": "GPU"
  },
  "cells": [
    {
      "metadata": {
        "id": "z93VWpTSQ_69",
        "colab_type": "text"
      },
      "cell_type": "markdown",
      "source": [
        "# Обновляем Fast AI"
      ]
    },
    {
      "metadata": {
        "id": "p06bpPTYRFAD",
        "colab_type": "code",
        "colab": {}
      },
      "cell_type": "code",
      "source": [
        "!curl -s https://course.fast.ai/setup/colab | bash\n",
        "# Проверяем версию\n",
        "from fastai.version import __version__; __version__"
      ],
      "execution_count": 0,
      "outputs": []
    },
    {
      "metadata": {
        "id": "vXZiNppUzKTn",
        "colab_type": "text"
      },
      "cell_type": "markdown",
      "source": [
        "Документация по фреймворку Fast AI по работе с текстом: https://docs.fast.ai/text.html"
      ]
    },
    {
      "metadata": {
        "id": "sI4J3DsOn8X1",
        "colab_type": "text"
      },
      "cell_type": "markdown",
      "source": [
        "Импортируем необходимые модули"
      ]
    },
    {
      "metadata": {
        "id": "tYq2IheqQsQD",
        "colab_type": "code",
        "colab": {}
      },
      "cell_type": "code",
      "source": [
        "%reload_ext autoreload\n",
        "%autoreload 2\n",
        "%matplotlib inline\n",
        "from fastai.text import *\n",
        "import os\n",
        "from tqdm import tqdm_notebook"
      ],
      "execution_count": 0,
      "outputs": []
    },
    {
      "metadata": {
        "id": "rGdS-Q5ER1Nz",
        "colab_type": "text"
      },
      "cell_type": "markdown",
      "source": [
        "# Подготавливаем данные"
      ]
    },
    {
      "metadata": {
        "id": "ojT0vDrGmrpl",
        "colab_type": "text"
      },
      "cell_type": "markdown",
      "source": [
        "Сохраните данные для обучени и модели на свой Google-диск:\n",
        "\n",
        "https://drive.google.com/open?id=1rKZLehhvsveyYQoTFreZ3DtQPyaRkXUL\n"
      ]
    },
    {
      "metadata": {
        "id": "6KXYBEm-qDjk",
        "colab_type": "text"
      },
      "cell_type": "markdown",
      "source": [
        "Монтируем Google Drive в Google Colab"
      ]
    },
    {
      "metadata": {
        "id": "3hEIDXRmR5XY",
        "colab_type": "code",
        "colab": {}
      },
      "cell_type": "code",
      "source": [
        "from google.colab import drive\n",
        "drive.mount('/content/gdrive', force_remount=True)\n",
        "root_dir = '/content/gdrive/My Drive'"
      ],
      "execution_count": 0,
      "outputs": []
    },
    {
      "metadata": {
        "id": "4_mXBTHqqA8-",
        "colab_type": "text"
      },
      "cell_type": "markdown",
      "source": [
        "Проверяем, что на Google Drive появилась расшаренная папка `itis-fast-ai-text`"
      ]
    },
    {
      "metadata": {
        "id": "xUOnEOA3pst5",
        "colab_type": "code",
        "colab": {}
      },
      "cell_type": "code",
      "source": [
        "! ls '/content/gdrive/My Drive/itis-fast-ai-text'"
      ],
      "execution_count": 0,
      "outputs": []
    },
    {
      "metadata": {
        "id": "9iIbcOTGq64Y",
        "colab_type": "text"
      },
      "cell_type": "markdown",
      "source": [
        "Копируем данные с Google диска на локальный диск виртуальной машины"
      ]
    },
    {
      "metadata": {
        "id": "XArT5KyPob2G",
        "colab_type": "code",
        "colab": {}
      },
      "cell_type": "code",
      "source": [
        "! cp -r '/content/gdrive/My Drive/itis-fast-ai-text' ml "
      ],
      "execution_count": 0,
      "outputs": []
    },
    {
      "metadata": {
        "id": "aOaKJ4BQsFA3",
        "colab_type": "text"
      },
      "cell_type": "markdown",
      "source": [
        "Определяем корневой путь, с которым будем работать"
      ]
    },
    {
      "metadata": {
        "id": "1mrWQbHgTgZ_",
        "colab_type": "code",
        "colab": {}
      },
      "cell_type": "code",
      "source": [
        "ROOT_PATH = Path('/content/ml')"
      ],
      "execution_count": 0,
      "outputs": []
    },
    {
      "metadata": {
        "id": "WwidhvykTmcZ",
        "colab_type": "code",
        "colab": {}
      },
      "cell_type": "code",
      "source": [
        "list(ROOT_PATH.iterdir())"
      ],
      "execution_count": 0,
      "outputs": []
    },
    {
      "metadata": {
        "id": "1HBJXOlmTp8M",
        "colab_type": "code",
        "colab": {}
      },
      "cell_type": "code",
      "source": [
        "DATA_PATH = ROOT_PATH/'kinopoisk'/'data'"
      ],
      "execution_count": 0,
      "outputs": []
    },
    {
      "metadata": {
        "id": "VYUSeLkXT2Fe",
        "colab_type": "code",
        "colab": {}
      },
      "cell_type": "code",
      "source": [
        "list(DATA_PATH.iterdir())"
      ],
      "execution_count": 0,
      "outputs": []
    },
    {
      "metadata": {
        "id": "7HzNrebdsbq4",
        "colab_type": "text"
      },
      "cell_type": "markdown",
      "source": [
        "### Читаем данные отзывов с помощью Pandas"
      ]
    },
    {
      "metadata": {
        "id": "hopchl7CUATw",
        "colab_type": "code",
        "colab": {}
      },
      "cell_type": "code",
      "source": [
        "names = ['valid', 'train']\n",
        "df_val, df_trn = [pd.read_json(DATA_PATH/f'{name}_reviews.json', lines=True) for name in names]"
      ],
      "execution_count": 0,
      "outputs": []
    },
    {
      "metadata": {
        "id": "Q91wBLTYsloW",
        "colab_type": "text"
      },
      "cell_type": "markdown",
      "source": [
        "Посмотрим, что внутри"
      ]
    },
    {
      "metadata": {
        "id": "Yo51jEbwUeeD",
        "colab_type": "code",
        "colab": {}
      },
      "cell_type": "code",
      "source": [
        "df_val.head()"
      ],
      "execution_count": 0,
      "outputs": []
    },
    {
      "metadata": {
        "id": "yM51hfVzsqI-",
        "colab_type": "text"
      },
      "cell_type": "markdown",
      "source": [
        "Размеры тренировочной и валидационной выборок"
      ]
    },
    {
      "metadata": {
        "id": "VpkazX8yU8S5",
        "colab_type": "code",
        "colab": {}
      },
      "cell_type": "code",
      "source": [
        "df_trn.shape, df_val.shape"
      ],
      "execution_count": 0,
      "outputs": []
    },
    {
      "metadata": {
        "id": "z8C1hIe_Uhsn",
        "colab_type": "code",
        "colab": {}
      },
      "cell_type": "code",
      "source": [
        "df_val['valid'] = True\n",
        "df_trn['valid'] = False\n",
        "df_all = pd.concat((df_trn, df_val))"
      ],
      "execution_count": 0,
      "outputs": []
    },
    {
      "metadata": {
        "id": "VZUQOLJZU4uZ",
        "colab_type": "code",
        "colab": {}
      },
      "cell_type": "code",
      "source": [
        "df_all.shape"
      ],
      "execution_count": 0,
      "outputs": []
    },
    {
      "metadata": {
        "id": "6LiGwzdesfya",
        "colab_type": "text"
      },
      "cell_type": "markdown",
      "source": [
        "# Языковая модель"
      ]
    },
    {
      "metadata": {
        "id": "jnDzCkXjQsQM",
        "colab_type": "text"
      },
      "cell_type": "markdown",
      "source": [
        "## Подготовка данных"
      ]
    },
    {
      "metadata": {
        "id": "R_UCwe-8ufjH",
        "colab_type": "text"
      },
      "cell_type": "markdown",
      "source": [
        "**BatchSize** - основной гиперпараметр сети, определяющий кол-во одновременно обрабатываемых обучающих примеров"
      ]
    },
    {
      "metadata": {
        "id": "156JoFeZQsQa",
        "colab_type": "code",
        "colab": {}
      },
      "cell_type": "code",
      "source": [
        "bs = 32"
      ],
      "execution_count": 0,
      "outputs": []
    },
    {
      "metadata": {
        "id": "pTB7_Qetu8i-",
        "colab_type": "text"
      },
      "cell_type": "markdown",
      "source": [
        "Загружаем словарь"
      ]
    },
    {
      "metadata": {
        "id": "59TyoIwa9cvZ",
        "colab_type": "code",
        "colab": {}
      },
      "cell_type": "code",
      "source": [
        "vocab = Vocab.load(ROOT_PATH/'kinopoisk'/'models'/'kinopoisk_lm_vocab.pkl')"
      ],
      "execution_count": 0,
      "outputs": []
    },
    {
      "metadata": {
        "id": "SsUNwszhtLW6",
        "colab_type": "text"
      },
      "cell_type": "markdown",
      "source": [
        "Определяем набор данных, с помощью читабельного fluent-api:"
      ]
    },
    {
      "metadata": {
        "id": "Qdz4uTdTQsQd",
        "colab_type": "code",
        "colab": {}
      },
      "cell_type": "code",
      "source": [
        "data = TextList.from_df(df_all, cols='reviewBody',\n",
        "                        processor=[TokenizeProcessor(tokenizer=Tokenizer(lang=\"xx\")), \n",
        "                                   NumericalizeProcessor(vocab=vocab)]).\\\n",
        "                split_from_df('valid').\\\n",
        "                label_for_lm().\\\n",
        "                databunch(bs=bs)"
      ],
      "execution_count": 0,
      "outputs": []
    },
    {
      "metadata": {
        "id": "SMFSL-ervNHp",
        "colab_type": "text"
      },
      "cell_type": "markdown",
      "source": [
        "Сохраняем данные для того, чтобы в следующий раз не приходилось заново обрабатывать текст"
      ]
    },
    {
      "metadata": {
        "id": "8IiT7y5uQsQg",
        "colab_type": "code",
        "colab": {}
      },
      "cell_type": "code",
      "source": [
        "data.save(DATA_PATH / \"kinopoisk_lm_data.pkl\")"
      ],
      "execution_count": 0,
      "outputs": []
    },
    {
      "metadata": {
        "id": "HpkfD36rQsQi",
        "colab_type": "code",
        "colab": {}
      },
      "cell_type": "code",
      "source": [
        "data = load_data(DATA_PATH, \"kinopoisk_lm_data.pkl\", bs)"
      ],
      "execution_count": 0,
      "outputs": []
    },
    {
      "metadata": {
        "id": "cNrRVwSOv5Gj",
        "colab_type": "text"
      },
      "cell_type": "markdown",
      "source": [
        "### Посмотрим как выглядят данные"
      ]
    },
    {
      "metadata": {
        "id": "VIytDfTlQsQl",
        "colab_type": "code",
        "colab": {}
      },
      "cell_type": "code",
      "source": [
        "data.show_batch()"
      ],
      "execution_count": 0,
      "outputs": []
    },
    {
      "metadata": {
        "id": "34yG7OeGxBNS",
        "colab_type": "text"
      },
      "cell_type": "markdown",
      "source": [
        "Каждому слову -(токену) ставится в соответсвии порядковый номер из словаря"
      ]
    },
    {
      "metadata": {
        "id": "7e9NgJNdxNWH",
        "colab_type": "code",
        "outputId": "237828db-0f97-4134-dd4e-78d2f4b0823d",
        "colab": {
          "base_uri": "https://localhost:8080/",
          "height": 323
        }
      },
      "cell_type": "code",
      "source": [
        "data.vocab.itos[:17]"
      ],
      "execution_count": 0,
      "outputs": [
        {
          "output_type": "execute_result",
          "data": {
            "text/plain": [
              "['xxunk',\n",
              " 'xxpad',\n",
              " 'xxbos',\n",
              " 'xxeos',\n",
              " 'xxfld',\n",
              " 'xxmaj',\n",
              " 'xxup',\n",
              " 'xxrep',\n",
              " 'xxwrep',\n",
              " ',',\n",
              " '.',\n",
              " 'и',\n",
              " 'в',\n",
              " 'не',\n",
              " '\\r \\n \\r \\n ',\n",
              " '-',\n",
              " 'что']"
            ]
          },
          "metadata": {
            "tags": []
          },
          "execution_count": 24
        }
      ]
    },
    {
      "metadata": {
        "id": "fFmEV0zq1Wd8",
        "colab_type": "text"
      },
      "cell_type": "markdown",
      "source": [
        "xxunk, xxpad и тд - это специальные токены, для представления текста.\n",
        "Например, токен **xxmaj** показывает, что следующее слово в исходном тексте начинается с большой буквы."
      ]
    },
    {
      "metadata": {
        "id": "zpESyqWwtgsQ",
        "colab_type": "text"
      },
      "cell_type": "markdown",
      "source": [
        "Каждому токену соответсвует число из словаря:"
      ]
    },
    {
      "metadata": {
        "id": "WAAppfdqxhgv",
        "colab_type": "code",
        "outputId": "c6a76cb3-a5dc-4102-c80b-ba1eae2ffbb3",
        "colab": {
          "base_uri": "https://localhost:8080/",
          "height": 35
        }
      },
      "cell_type": "code",
      "source": [
        "data.train_ds[0][0].data"
      ],
      "execution_count": 0,
      "outputs": [
        {
          "output_type": "execute_result",
          "data": {
            "text/plain": [
              "array([  2,   5,  28, 210, ..., 273, 145, 189,  10])"
            ]
          },
          "metadata": {
            "tags": []
          },
          "execution_count": 25
        }
      ]
    },
    {
      "metadata": {
        "id": "93Oq0NQGxcjE",
        "colab_type": "text"
      },
      "cell_type": "markdown",
      "source": [
        "Задача нейронной сети при обучении языковой модели - предсказать наиболее вероятное слово, идущее после данной последовательности слов."
      ]
    },
    {
      "metadata": {
        "id": "Tl1w6RjMwLKd",
        "colab_type": "text"
      },
      "cell_type": "markdown",
      "source": [
        "## Обучение модели"
      ]
    },
    {
      "metadata": {
        "id": "kRanSOgnA_ZU",
        "colab_type": "text"
      },
      "cell_type": "markdown",
      "source": [
        "Используемая архитектура сети - реализация [AWD-LSTM](https://arxiv.org/abs/1708.02182) (Average SGD Weights Dropped LSTM)"
      ]
    },
    {
      "metadata": {
        "id": "a3VNYGbjQsQo",
        "colab_type": "code",
        "colab": {}
      },
      "cell_type": "code",
      "source": [
        "# Если мы обрабатываем тексты на английском языке, то Fast AI имеет предобученную на Википедии модель\n",
        "# learn = language_model_learner(data, arch=AWD_LSTM)"
      ],
      "execution_count": 0,
      "outputs": []
    },
    {
      "metadata": {
        "id": "1qKYaR8q1qPm",
        "colab_type": "text"
      },
      "cell_type": "markdown",
      "source": [
        "Мы воспользуемся предобученной моделью на корпусе текстов \"Тайга\".\n",
        "\n",
        "Веса модели взяты взята отсюда: https://github.com/mamamot/Russian-ULMFit\n",
        "\n",
        "Корпус текстов Тайга: https://tatianashavrina.github.io/taiga_site/\n",
        "\n",
        "**Дополнительно**\n",
        "\n",
        "Как обучить языковую модель на википедии: https://github.com/ademyanchuk/ulmfit-multilingual\n",
        "\n",
        "Обсуждение темы на форуме Fast AI: https://forums.fast.ai/t/ulmfit-russian/36312\n",
        "\n"
      ]
    },
    {
      "metadata": {
        "id": "dyg1LaZnQsQr",
        "colab_type": "code",
        "colab": {}
      },
      "cell_type": "code",
      "source": [
        "learn = language_model_learner(data, arch=AWD_LSTM, pretrained=False, pretrained_fnames=('lm_5_ep_lr2-3_5_stlr', 'itos'), path=ROOT_PATH/'russian_lm')\n"
      ],
      "execution_count": 0,
      "outputs": []
    },
    {
      "metadata": {
        "id": "24RvsTA-3VVZ",
        "colab_type": "text"
      },
      "cell_type": "markdown",
      "source": [
        "Проверим, как работает модель"
      ]
    },
    {
      "metadata": {
        "colab_type": "code",
        "id": "2DQCxoitBybY",
        "colab": {}
      },
      "cell_type": "code",
      "source": [
        "TEXT = \"Британские ученые обнаружили\"\n",
        "N_WORDS = 60\n",
        "N_SENTENCES = 2"
      ],
      "execution_count": 0,
      "outputs": []
    },
    {
      "metadata": {
        "colab_type": "code",
        "id": "jhAojYKQBybZ",
        "colab": {}
      },
      "cell_type": "code",
      "source": [
        "print(\"\\n\".join(learn.predict(TEXT, N_WORDS, temperature=0.8) for _ in range(N_SENTENCES)))"
      ],
      "execution_count": 0,
      "outputs": []
    },
    {
      "metadata": {
        "id": "S5DfLE-BQsQu",
        "colab_type": "code",
        "colab": {}
      },
      "cell_type": "code",
      "source": [
        "TEXT = \"Вчера рано утром в Москве\"\n",
        "N_WORDS = 60\n",
        "N_SENTENCES = 2"
      ],
      "execution_count": 0,
      "outputs": []
    },
    {
      "metadata": {
        "id": "ZKSj0vFSQsQw",
        "colab_type": "code",
        "colab": {}
      },
      "cell_type": "code",
      "source": [
        "print(\"\\n\".join(learn.predict(TEXT, N_WORDS, temperature=0.75) for _ in range(N_SENTENCES)))"
      ],
      "execution_count": 0,
      "outputs": []
    },
    {
      "metadata": {
        "id": "Qps1JUsBuwtD",
        "colab_type": "code",
        "colab": {}
      },
      "cell_type": "code",
      "source": [
        "# Введите текст:\n",
        "TEXT = \"\"\n",
        "N_WORDS = 60\n",
        "N_SENTENCES = 2"
      ],
      "execution_count": 0,
      "outputs": []
    },
    {
      "metadata": {
        "id": "Moa-x6nzvUyz",
        "colab_type": "text"
      },
      "cell_type": "markdown",
      "source": [
        "### Поиск оптимального шага обучения"
      ]
    },
    {
      "metadata": {
        "id": "iLXLawq6QsQ2",
        "colab_type": "text"
      },
      "cell_type": "markdown",
      "source": [
        "Перед тем как приступить к обучению языковой модели, мы должно найти оптимальный learning_rate (lr) - это гиперпараметр, который определяет с какой скоростью будет обучаться модель"
      ]
    },
    {
      "metadata": {
        "id": "Qv0ObLZjQsQ3",
        "colab_type": "code",
        "colab": {}
      },
      "cell_type": "code",
      "source": [
        "learn.lr_find()"
      ],
      "execution_count": 0,
      "outputs": []
    },
    {
      "metadata": {
        "id": "s1fej8S8QsQ8",
        "colab_type": "text"
      },
      "cell_type": "markdown",
      "source": [
        "На графике нам нужно выбрать наибольший LR такой, что Loss (функцию потерь) еще достаточно быстро уменьшается. Мы выберем 10e-2. "
      ]
    },
    {
      "metadata": {
        "id": "UHp0_69nQsQ8",
        "colab_type": "code",
        "colab": {}
      },
      "cell_type": "code",
      "source": [
        "learn.recorder.plot(skip_end=15)"
      ],
      "execution_count": 0,
      "outputs": []
    },
    {
      "metadata": {
        "id": "LSd_MUCbvydJ",
        "colab_type": "text"
      },
      "cell_type": "markdown",
      "source": [
        "### ВНИМАНИЕ!!! Обучение языковой модели занимает часы!"
      ]
    },
    {
      "metadata": {
        "id": "TL_JhRlOQsQ_",
        "colab_type": "text"
      },
      "cell_type": "markdown",
      "source": [
        "Так как часть слов в словаре новые и сеть про них ничего не знает, то мы начнем обучать только последний слой и embedding-и новых слов"
      ]
    },
    {
      "metadata": {
        "id": "4_kYemGLQsRA",
        "colab_type": "code",
        "outputId": "bea9cbed-e52b-447e-f5dd-942be6a0e8bd",
        "colab": {}
      },
      "cell_type": "code",
      "source": [
        "learn.fit_one_cycle(1, 1e-2, moms=(0.8,0.7))"
      ],
      "execution_count": 0,
      "outputs": [
        {
          "output_type": "display_data",
          "data": {
            "text/html": [
              "Total time: 29:25 <p><table border=\"1\" class=\"dataframe\">\n",
              "  <thead>\n",
              "    <tr style=\"text-align: left;\">\n",
              "      <th>epoch</th>\n",
              "      <th>train_loss</th>\n",
              "      <th>valid_loss</th>\n",
              "      <th>accuracy</th>\n",
              "      <th>time</th>\n",
              "    </tr>\n",
              "  </thead>\n",
              "  <tbody>\n",
              "    <tr>\n",
              "      <td>0</td>\n",
              "      <td>4.623338</td>\n",
              "      <td>4.057502</td>\n",
              "      <td>0.228571</td>\n",
              "      <td>29:25</td>\n",
              "    </tr>\n",
              "  </tbody>\n",
              "</table>"
            ],
            "text/plain": [
              "<IPython.core.display.HTML object>"
            ]
          },
          "metadata": {
            "tags": []
          }
        }
      ]
    },
    {
      "metadata": {
        "id": "XsLwFGQdQsRD",
        "colab_type": "text"
      },
      "cell_type": "markdown",
      "source": [
        "Сохраняем модель"
      ]
    },
    {
      "metadata": {
        "id": "o5lME48BQsRE",
        "colab_type": "code",
        "colab": {}
      },
      "cell_type": "code",
      "source": [
        "learn.save('kinopoisk_head')"
      ],
      "execution_count": 0,
      "outputs": []
    },
    {
      "metadata": {
        "id": "fIoLX4x9QsRG",
        "colab_type": "code",
        "colab": {}
      },
      "cell_type": "code",
      "source": [
        "learn.load('kinopoisk_head')"
      ],
      "execution_count": 0,
      "outputs": []
    },
    {
      "metadata": {
        "id": "3tqyBXJ6A0ak",
        "colab_type": "text"
      },
      "cell_type": "markdown",
      "source": [
        "Посмотрим из каких слоев состоит нейронная сеть"
      ]
    },
    {
      "metadata": {
        "id": "uT-6XJaRCpu6",
        "colab_type": "code",
        "outputId": "1dd76132-56f4-4be5-b5e2-d2002784e673",
        "colab": {
          "base_uri": "https://localhost:8080/",
          "height": 539
        }
      },
      "cell_type": "code",
      "source": [
        "learn.model"
      ],
      "execution_count": 0,
      "outputs": [
        {
          "output_type": "execute_result",
          "data": {
            "text/plain": [
              "SequentialRNN(\n",
              "  (0): AWD_LSTM(\n",
              "    (encoder): Embedding(60004, 400, padding_idx=1)\n",
              "    (encoder_dp): EmbeddingDropout(\n",
              "      (emb): Embedding(60004, 400, padding_idx=1)\n",
              "    )\n",
              "    (rnns): ModuleList(\n",
              "      (0): WeightDropout(\n",
              "        (module): LSTM(400, 1150, batch_first=True)\n",
              "      )\n",
              "      (1): WeightDropout(\n",
              "        (module): LSTM(1150, 1150, batch_first=True)\n",
              "      )\n",
              "      (2): WeightDropout(\n",
              "        (module): LSTM(1150, 400, batch_first=True)\n",
              "      )\n",
              "    )\n",
              "    (input_dp): RNNDropout()\n",
              "    (hidden_dps): ModuleList(\n",
              "      (0): RNNDropout()\n",
              "      (1): RNNDropout()\n",
              "      (2): RNNDropout()\n",
              "    )\n",
              "  )\n",
              "  (1): LinearDecoder(\n",
              "    (decoder): Linear(in_features=400, out_features=60004, bias=True)\n",
              "    (output_dp): RNNDropout()\n",
              "  )\n",
              ")"
            ]
          },
          "metadata": {
            "tags": []
          },
          "execution_count": 52
        }
      ]
    },
    {
      "metadata": {
        "id": "Ell0wDHLAzhU",
        "colab_type": "code",
        "outputId": "35135d27-bd28-4684-ee3b-d87fc972340a",
        "colab": {
          "base_uri": "https://localhost:8080/",
          "height": 323
        }
      },
      "cell_type": "code",
      "source": [
        "learn.summary()"
      ],
      "execution_count": 0,
      "outputs": [
        {
          "output_type": "execute_result",
          "data": {
            "text/plain": [
              "======================================================================\n",
              "Layer (type)         Output Shape         Param #    Trainable \n",
              "======================================================================\n",
              "RNNDropout           [70, 400]            0          False     \n",
              "______________________________________________________________________\n",
              "RNNDropout           [70, 1150]           0          False     \n",
              "______________________________________________________________________\n",
              "RNNDropout           [70, 1150]           0          False     \n",
              "______________________________________________________________________\n",
              "Linear               [70, 60004]          24,061,604 True      \n",
              "______________________________________________________________________\n",
              "RNNDropout           [70, 400]            0          False     \n",
              "______________________________________________________________________\n",
              "\n",
              "Total params: 24,061,604\n",
              "Total trainable params: 24,061,604\n",
              "Total non-trainable params: 0"
            ]
          },
          "metadata": {
            "tags": []
          },
          "execution_count": 50
        }
      ]
    },
    {
      "metadata": {
        "id": "sFJQx-s3QsRM",
        "colab_type": "text"
      },
      "cell_type": "markdown",
      "source": [
        "Теперь мы \"размораживаем\" все слои и продолжим обучение языковой модели"
      ]
    },
    {
      "metadata": {
        "id": "VUhzUed6QsRN",
        "colab_type": "code",
        "colab": {}
      },
      "cell_type": "code",
      "source": [
        "learn.unfreeze()"
      ],
      "execution_count": 0,
      "outputs": []
    },
    {
      "metadata": {
        "id": "saXP59EaQsRP",
        "colab_type": "code",
        "colab": {}
      },
      "cell_type": "code",
      "source": [
        "from fastai.callbacks import SaveModelCallback"
      ],
      "execution_count": 0,
      "outputs": []
    },
    {
      "metadata": {
        "id": "YIG2pLEkQsRQ",
        "colab_type": "code",
        "outputId": "306e5252-d2a5-45bc-e0f8-7b95ebd3ae37",
        "colab": {}
      },
      "cell_type": "code",
      "source": [
        "learn.fit_one_cycle(10, 1e-3, moms=(0.8, 0.7), \n",
        "                    callbacks=[SaveModelCallback(learn, name='best_kinopoisk')])"
      ],
      "execution_count": 0,
      "outputs": [
        {
          "output_type": "display_data",
          "data": {
            "text/html": [
              "Total time: 5:38:57 <p><table border=\"1\" class=\"dataframe\">\n",
              "  <thead>\n",
              "    <tr style=\"text-align: left;\">\n",
              "      <th>epoch</th>\n",
              "      <th>train_loss</th>\n",
              "      <th>valid_loss</th>\n",
              "      <th>accuracy</th>\n",
              "      <th>time</th>\n",
              "    </tr>\n",
              "  </thead>\n",
              "  <tbody>\n",
              "    <tr>\n",
              "      <td>0</td>\n",
              "      <td>4.374048</td>\n",
              "      <td>3.758804</td>\n",
              "      <td>0.300000</td>\n",
              "      <td>33:44</td>\n",
              "    </tr>\n",
              "    <tr>\n",
              "      <td>1</td>\n",
              "      <td>4.262966</td>\n",
              "      <td>3.546897</td>\n",
              "      <td>0.328571</td>\n",
              "      <td>33:48</td>\n",
              "    </tr>\n",
              "    <tr>\n",
              "      <td>2</td>\n",
              "      <td>4.226732</td>\n",
              "      <td>3.489769</td>\n",
              "      <td>0.371429</td>\n",
              "      <td>33:50</td>\n",
              "    </tr>\n",
              "    <tr>\n",
              "      <td>3</td>\n",
              "      <td>4.159681</td>\n",
              "      <td>3.341416</td>\n",
              "      <td>0.385714</td>\n",
              "      <td>33:52</td>\n",
              "    </tr>\n",
              "    <tr>\n",
              "      <td>4</td>\n",
              "      <td>4.098773</td>\n",
              "      <td>3.390381</td>\n",
              "      <td>0.371429</td>\n",
              "      <td>33:54</td>\n",
              "    </tr>\n",
              "    <tr>\n",
              "      <td>5</td>\n",
              "      <td>4.072806</td>\n",
              "      <td>3.288219</td>\n",
              "      <td>0.385714</td>\n",
              "      <td>33:53</td>\n",
              "    </tr>\n",
              "    <tr>\n",
              "      <td>6</td>\n",
              "      <td>4.043604</td>\n",
              "      <td>3.259739</td>\n",
              "      <td>0.371429</td>\n",
              "      <td>33:55</td>\n",
              "    </tr>\n",
              "    <tr>\n",
              "      <td>7</td>\n",
              "      <td>3.992717</td>\n",
              "      <td>3.264781</td>\n",
              "      <td>0.400000</td>\n",
              "      <td>33:54</td>\n",
              "    </tr>\n",
              "    <tr>\n",
              "      <td>8</td>\n",
              "      <td>3.968031</td>\n",
              "      <td>3.251725</td>\n",
              "      <td>0.371429</td>\n",
              "      <td>33:55</td>\n",
              "    </tr>\n",
              "    <tr>\n",
              "      <td>9</td>\n",
              "      <td>3.943636</td>\n",
              "      <td>3.248332</td>\n",
              "      <td>0.385714</td>\n",
              "      <td>33:54</td>\n",
              "    </tr>\n",
              "  </tbody>\n",
              "</table>"
            ],
            "text/plain": [
              "<IPython.core.display.HTML object>"
            ]
          },
          "metadata": {
            "tags": []
          }
        },
        {
          "output_type": "stream",
          "text": [
            "Better model found at epoch 0 with val_loss value: 3.7588043212890625.\n",
            "Better model found at epoch 1 with val_loss value: 3.5468966960906982.\n",
            "Better model found at epoch 2 with val_loss value: 3.489769220352173.\n",
            "Better model found at epoch 3 with val_loss value: 3.341416358947754.\n",
            "Better model found at epoch 5 with val_loss value: 3.2882192134857178.\n",
            "Better model found at epoch 6 with val_loss value: 3.2597389221191406.\n",
            "Better model found at epoch 8 with val_loss value: 3.251725435256958.\n",
            "Better model found at epoch 9 with val_loss value: 3.2483322620391846.\n"
          ],
          "name": "stdout"
        }
      ]
    },
    {
      "metadata": {
        "id": "I1lM-UCOQsRT",
        "colab_type": "code",
        "colab": {}
      },
      "cell_type": "code",
      "source": [
        "learn.save('kinopoisk_tuned')"
      ],
      "execution_count": 0,
      "outputs": []
    },
    {
      "metadata": {
        "id": "ErNnF_NeQsRZ",
        "colab_type": "code",
        "colab": {}
      },
      "cell_type": "code",
      "source": [
        "learn.load('kinopoisk_tuned');"
      ],
      "execution_count": 0,
      "outputs": []
    },
    {
      "metadata": {
        "id": "Mt3p1-i8_Kyc",
        "colab_type": "text"
      },
      "cell_type": "markdown",
      "source": [
        "Качество языковой модели измеряется такой метрикой, как перплексия. В данном случае ее можно посчитать, если взять экспоненту от величины функции потерь на валидационной выборке. Чем меньше перплексия, тем лучше"
      ]
    },
    {
      "metadata": {
        "id": "xi93gXyV-yLn",
        "colab_type": "code",
        "outputId": "c3de2057-6261-4596-c713-d7c9b93efd6c",
        "colab": {
          "base_uri": "https://localhost:8080/",
          "height": 35
        }
      },
      "cell_type": "code",
      "source": [
        "np.exp(3.248332)"
      ],
      "execution_count": 0,
      "outputs": [
        {
          "output_type": "execute_result",
          "data": {
            "text/plain": [
              "25.74735748752309"
            ]
          },
          "metadata": {
            "tags": []
          },
          "execution_count": 29
        }
      ]
    },
    {
      "metadata": {
        "id": "gGGgcMnGQsRr",
        "colab_type": "text"
      },
      "cell_type": "markdown",
      "source": [
        "Сохраняем Encoder"
      ]
    },
    {
      "metadata": {
        "id": "FNHMcM7LQsRs",
        "colab_type": "code",
        "colab": {}
      },
      "cell_type": "code",
      "source": [
        "learn.save_encoder('kinopoisk_tuned_enc')"
      ],
      "execution_count": 0,
      "outputs": []
    },
    {
      "metadata": {
        "id": "n1L0h8veiZSr",
        "colab_type": "text"
      },
      "cell_type": "markdown",
      "source": [
        "## Загружаем предобученную модель"
      ]
    },
    {
      "metadata": {
        "id": "2EO-1eqa9SEi",
        "colab_type": "text"
      },
      "cell_type": "markdown",
      "source": [
        "А теперь загрузим уже обученную на отзывах модель и поэкспериментируем с ней"
      ]
    },
    {
      "metadata": {
        "id": "vivsPsYrhe7a",
        "colab_type": "code",
        "colab": {}
      },
      "cell_type": "code",
      "source": [
        "learn = language_model_learner(data, arch=AWD_LSTM, pretrained=False, pretrained_fnames=('kinopoisk_tuned', 'kinopoisk_lm_vocab'), path=ROOT_PATH/'kinopoisk')"
      ],
      "execution_count": 0,
      "outputs": []
    },
    {
      "metadata": {
        "id": "bLPjMAwZkese",
        "colab_type": "text"
      },
      "cell_type": "markdown",
      "source": [
        "Посмотрим как работает предсказание"
      ]
    },
    {
      "metadata": {
        "id": "hsiPW-WQ9kpd",
        "colab_type": "code",
        "outputId": "d368a2b0-f66b-4021-e13d-e538b88da2f8",
        "colab": {
          "base_uri": "https://localhost:8080/",
          "height": 109
        }
      },
      "cell_type": "code",
      "source": [
        "TEXT = \"полный эффект присутствия\"\n",
        "N_WORDS = 60\n",
        "N_SENTENCES = 2\n",
        "\n",
        "print(u\"\\n\".join(learn.predict(TEXT, N_WORDS, temperature=0.75).replace('\\r', '') for _ in range(N_SENTENCES)))"
      ],
      "execution_count": 61,
      "outputs": [
        {
          "output_type": "stream",
          "text": [
            "полный эффект присутствия . Да , это я не люблю . Но когда я смотрю этот фильм , я все - таки чувствую , что это все уже не так . \r \n",
            " \r \n",
            "  Потрясающая история любви , которая не отпускает ни на минуту . в этом фильме нет ни одного лишнего момента , кроме секса , и все эти моменты показаны\n",
            "полный эффект присутствия . Если Вы ждали чего - то большего , чем просто Мстители , то , по правде говоря , идея о том , что Мстители и Мстители не могут быть добрыми , это было бы глупо , но ведь Мстители , Черная вдова и Халк , очень похожи на Железного\n"
          ],
          "name": "stdout"
        }
      ]
    },
    {
      "metadata": {
        "id": "pnhUmR_gDwfL",
        "colab_type": "code",
        "colab": {}
      },
      "cell_type": "code",
      "source": [
        "TEXT = \"Мрачный, жестокий фильм с\"\n",
        "N_WORDS = 60\n",
        "N_SENTENCES = 2\n",
        "\n",
        "print(\"\\n\".join(learn.predict(TEXT, N_WORDS, temperature=0.75).replace('\\r', '') for _ in range(N_SENTENCES)))"
      ],
      "execution_count": 0,
      "outputs": []
    },
    {
      "metadata": {
        "id": "WzB6P11pQsRu",
        "colab_type": "code",
        "colab": {}
      },
      "cell_type": "code",
      "source": [
        "TEXT = \"На самом деле в этом\"\n",
        "N_WORDS = 90\n",
        "N_SENTENCES = 2\n",
        "\n",
        "print(\"\\n\".join(learn.predict(TEXT, N_WORDS, temperature=0.75).replace('\\r', '') for _ in range(N_SENTENCES)))"
      ],
      "execution_count": 0,
      "outputs": []
    },
    {
      "metadata": {
        "id": "ZszpidiHQsR5",
        "colab_type": "code",
        "colab": {}
      },
      "cell_type": "code",
      "source": [
        "TEXT = \"могло быть и\"\n",
        "N_WORDS = 90\n",
        "N_SENTENCES = 2\n",
        "\n",
        "print(\"\\n\".join(learn.predict(TEXT, N_WORDS, temperature=0.75).replace('\\r', '') for _ in range(N_SENTENCES)))"
      ],
      "execution_count": 0,
      "outputs": []
    },
    {
      "metadata": {
        "id": "H1TcL9HwQsR7",
        "colab_type": "code",
        "colab": {}
      },
      "cell_type": "code",
      "source": [
        "TEXT = \"самый настоящий провал\"\n",
        "N_WORDS = 60\n",
        "N_SENTENCES = 2\n",
        "\n",
        "print(\"\\n\".join(learn.predict(TEXT, N_WORDS, temperature=0.75).replace('\\r', '') for _ in range(N_SENTENCES)))"
      ],
      "execution_count": 0,
      "outputs": []
    },
    {
      "metadata": {
        "id": "LME33InGQsSo",
        "colab_type": "text"
      },
      "cell_type": "markdown",
      "source": [
        "# Классификация отзывов с Кинопоиска"
      ]
    },
    {
      "metadata": {
        "id": "9_glqglAEMkS",
        "colab_type": "text"
      },
      "cell_type": "markdown",
      "source": [
        "## Подготовка данных"
      ]
    },
    {
      "metadata": {
        "id": "B_OcABx5QsSt",
        "colab_type": "code",
        "colab": {}
      },
      "cell_type": "code",
      "source": [
        "bs = 48\n"
      ],
      "execution_count": 0,
      "outputs": []
    },
    {
      "metadata": {
        "id": "qmcBUMpf5miV",
        "colab_type": "text"
      },
      "cell_type": "markdown",
      "source": [
        "Важно, чтобы словарь, используемый для классификатора, \n",
        "в точности **совпадал со словарем**, который использовалася на этапе обучения **языковой модели**"
      ]
    },
    {
      "metadata": {
        "id": "zVMrqsGTpY9l",
        "colab_type": "code",
        "colab": {}
      },
      "cell_type": "code",
      "source": [
        "vocab = Vocab.load(ROOT_PATH/'kinopoisk'/'models'/'kinopoisk_lm_vocab.pkl')"
      ],
      "execution_count": 0,
      "outputs": []
    },
    {
      "metadata": {
        "id": "lQeQhB0XACW8",
        "colab_type": "code",
        "colab": {}
      },
      "cell_type": "code",
      "source": [
        "# если у вас уже загрузены данные языковой модели, то можно сделать\n",
        "# vocab = data.vocab"
      ],
      "execution_count": 0,
      "outputs": []
    },
    {
      "metadata": {
        "id": "9FEFTr-Mp5kV",
        "colab_type": "code",
        "colab": {}
      },
      "cell_type": "code",
      "source": [
        "data_clas = (TextList.from_df(df_all, cols='reviewBody', vocab=vocab)\n",
        "             .split_from_df('valid')\n",
        "             .label_from_df(cols='status')\n",
        "             .databunch(bs=bs))"
      ],
      "execution_count": 0,
      "outputs": []
    },
    {
      "metadata": {
        "id": "n6vLyReilH2b",
        "colab_type": "code",
        "colab": {}
      },
      "cell_type": "code",
      "source": [
        "data_clas.save(DATA_PATH/'kinopoisk_clas_data.pkl')"
      ],
      "execution_count": 0,
      "outputs": []
    },
    {
      "metadata": {
        "id": "6T3qUA7hQsSw",
        "colab_type": "code",
        "colab": {}
      },
      "cell_type": "code",
      "source": [
        "data_clas = load_data(DATA_PATH, \"kinopoisk_clas_data.pkl\", bs)"
      ],
      "execution_count": 0,
      "outputs": []
    },
    {
      "metadata": {
        "id": "duZ7fKGwQsTA",
        "colab_type": "text"
      },
      "cell_type": "markdown",
      "source": [
        "А теперь создадим классификатор"
      ]
    },
    {
      "metadata": {
        "id": "tEbDdB4XQsTB",
        "colab_type": "code",
        "colab": {}
      },
      "cell_type": "code",
      "source": [
        "learn = text_classifier_learner(data_clas, AWD_LSTM, drop_mult=0.5, path=ROOT_PATH/'kinopoisk', pretrained=False)\n",
        "# Загружаем предварительно обученный encoder\n",
        "learn.load_encoder('kinopoisk_tuned_enc')"
      ],
      "execution_count": 0,
      "outputs": []
    },
    {
      "metadata": {
        "id": "K3KV7jUGQsTD",
        "colab_type": "text"
      },
      "cell_type": "markdown",
      "source": [
        "## Обучаем классификатор"
      ]
    },
    {
      "metadata": {
        "id": "9iURDjsyNGYs",
        "colab_type": "text"
      },
      "cell_type": "markdown",
      "source": [
        "Пожалуйста, найдите оптимальный learning rate и обучите модель один цикл этим learning rate с параметром `moms=(0.8, 0.7)`"
      ]
    },
    {
      "metadata": {
        "id": "7OcT7_9qNfS-",
        "colab_type": "code",
        "colab": {}
      },
      "cell_type": "code",
      "source": [
        ""
      ],
      "execution_count": 0,
      "outputs": []
    },
    {
      "metadata": {
        "id": "1Loo7V3_Ngaq",
        "colab_type": "code",
        "colab": {}
      },
      "cell_type": "code",
      "source": [
        ""
      ],
      "execution_count": 0,
      "outputs": []
    },
    {
      "metadata": {
        "id": "IMuAHjXBNg62",
        "colab_type": "code",
        "colab": {}
      },
      "cell_type": "code",
      "source": [
        ""
      ],
      "execution_count": 0,
      "outputs": []
    },
    {
      "metadata": {
        "id": "J9VDZbC6VxLE",
        "colab_type": "text"
      },
      "cell_type": "markdown",
      "source": [
        "Сохраните полученную модель под именем 'kp_first'"
      ]
    },
    {
      "metadata": {
        "id": "3xgjcRgkQsTK",
        "colab_type": "code",
        "colab": {}
      },
      "cell_type": "code",
      "source": [
        ""
      ],
      "execution_count": 0,
      "outputs": []
    },
    {
      "metadata": {
        "id": "mN8wR6BUQsTN",
        "colab_type": "code",
        "colab": {}
      },
      "cell_type": "code",
      "source": [
        ""
      ],
      "execution_count": 0,
      "outputs": []
    },
    {
      "metadata": {
        "id": "h56GBsEfbQuO",
        "colab_type": "code",
        "colab": {}
      },
      "cell_type": "code",
      "source": [
        ""
      ],
      "execution_count": 0,
      "outputs": []
    },
    {
      "metadata": {
        "id": "VX3yQv3yQsTP",
        "colab_type": "text"
      },
      "cell_type": "markdown",
      "source": [
        "А теперь мы продолжаем размораживать слои, обучая их \"по очереди\", начиная с конца.\n",
        "\n",
        "Мы не хотим сразу разрушить хрупкую структуру Encoder-a, который был обучен на предыдущем шаге."
      ]
    },
    {
      "metadata": {
        "id": "xcNC9FVfQsTP",
        "colab_type": "code",
        "colab": {}
      },
      "cell_type": "code",
      "source": [
        "learn.freeze_to(-2)\n",
        "learn.fit_one_cycle(1, slice(3e-2/(2.6**4),3e-2), moms=(0.8,0.7))"
      ],
      "execution_count": 0,
      "outputs": []
    },
    {
      "metadata": {
        "id": "HGam81FoQsTS",
        "colab_type": "code",
        "colab": {}
      },
      "cell_type": "code",
      "source": [
        "learn.save('kp_second')"
      ],
      "execution_count": 0,
      "outputs": []
    },
    {
      "metadata": {
        "id": "mz_QMx3kQsTV",
        "colab_type": "code",
        "colab": {}
      },
      "cell_type": "code",
      "source": [
        "learn.load('kp_second');"
      ],
      "execution_count": 0,
      "outputs": []
    },
    {
      "metadata": {
        "id": "xapMPSqTQsTV",
        "colab_type": "text"
      },
      "cell_type": "markdown",
      "source": [
        "Продолжаем обучать модель, размораживая следующие слои"
      ]
    },
    {
      "metadata": {
        "id": "7hmwHisLQsTW",
        "colab_type": "code",
        "outputId": "b9d321d2-dc15-4f34-e2e5-fc955b3293d5",
        "colab": {}
      },
      "cell_type": "code",
      "source": [
        "learn.freeze_to(-3)\n",
        "learn.fit_one_cycle(1, slice(5e-3/(2.6**4),5e-3), moms=(0.8,0.7))"
      ],
      "execution_count": 0,
      "outputs": [
        {
          "output_type": "display_data",
          "data": {
            "text/html": [
              "Total time: 06:24 <p><table border=\"1\" class=\"dataframe\">\n",
              "  <thead>\n",
              "    <tr style=\"text-align: left;\">\n",
              "      <th>epoch</th>\n",
              "      <th>train_loss</th>\n",
              "      <th>valid_loss</th>\n",
              "      <th>accuracy</th>\n",
              "      <th>time</th>\n",
              "    </tr>\n",
              "  </thead>\n",
              "  <tbody>\n",
              "    <tr>\n",
              "      <td>0</td>\n",
              "      <td>0.141272</td>\n",
              "      <td>0.106738</td>\n",
              "      <td>0.960053</td>\n",
              "      <td>06:24</td>\n",
              "    </tr>\n",
              "  </tbody>\n",
              "</table>"
            ],
            "text/plain": [
              "<IPython.core.display.HTML object>"
            ]
          },
          "metadata": {
            "tags": []
          }
        }
      ]
    },
    {
      "metadata": {
        "id": "7KonfQ91QsTY",
        "colab_type": "code",
        "colab": {}
      },
      "cell_type": "code",
      "source": [
        "learn.save('kp_third')"
      ],
      "execution_count": 0,
      "outputs": []
    },
    {
      "metadata": {
        "id": "nrxwEdJ8QsTZ",
        "colab_type": "code",
        "colab": {}
      },
      "cell_type": "code",
      "source": [
        "learn.load('kp_third');"
      ],
      "execution_count": 0,
      "outputs": []
    },
    {
      "metadata": {
        "id": "OGm9wm7SQsTa",
        "colab_type": "code",
        "outputId": "6b4521a7-6378-479f-8c5a-3287fcd44714",
        "colab": {}
      },
      "cell_type": "code",
      "source": [
        "learn.unfreeze()\n",
        "learn.fit_one_cycle(1, slice(1e-3/(2.6**4),1e-3), moms=(0.8,0.7))"
      ],
      "execution_count": 0,
      "outputs": [
        {
          "output_type": "display_data",
          "data": {
            "text/html": [
              "Total time: 08:03 <p><table border=\"1\" class=\"dataframe\">\n",
              "  <thead>\n",
              "    <tr style=\"text-align: left;\">\n",
              "      <th>epoch</th>\n",
              "      <th>train_loss</th>\n",
              "      <th>valid_loss</th>\n",
              "      <th>accuracy</th>\n",
              "      <th>time</th>\n",
              "    </tr>\n",
              "  </thead>\n",
              "  <tbody>\n",
              "    <tr>\n",
              "      <td>0</td>\n",
              "      <td>0.111156</td>\n",
              "      <td>0.106131</td>\n",
              "      <td>0.958189</td>\n",
              "      <td>08:03</td>\n",
              "    </tr>\n",
              "  </tbody>\n",
              "</table>"
            ],
            "text/plain": [
              "<IPython.core.display.HTML object>"
            ]
          },
          "metadata": {
            "tags": []
          }
        }
      ]
    },
    {
      "metadata": {
        "id": "IZ3U0bd4EidH",
        "colab_type": "text"
      },
      "cell_type": "markdown",
      "source": [
        "Мы натренировали нашу сеть, которая **с высокой точностью (96%)** определяет \"тональность\" отзыва"
      ]
    },
    {
      "metadata": {
        "id": "5gAqyfdkQsTb",
        "colab_type": "text"
      },
      "cell_type": "markdown",
      "source": [
        "Можно загрузить уже обученный заранее классификатор:"
      ]
    },
    {
      "metadata": {
        "id": "NveHoNKSQsTc",
        "colab_type": "code",
        "colab": {}
      },
      "cell_type": "code",
      "source": [
        "learn.load('kinopoisk_clas_tuned');"
      ],
      "execution_count": 0,
      "outputs": []
    },
    {
      "metadata": {
        "id": "PsShKOY3QsTe",
        "colab_type": "text"
      },
      "cell_type": "markdown",
      "source": [
        "Давайте проверим ее на случайном отызыве с кинопоиска"
      ]
    },
    {
      "metadata": {
        "id": "2Yjl1KaOXDzb",
        "colab_type": "code",
        "colab": {}
      },
      "cell_type": "code",
      "source": [
        "# Пример положительного отзыва\n",
        "\n",
        "learn.predict('''\n",
        "«Балканский рубеж» в некотором роде уникальный фильм для нашего синематографа последнего времени. И вот почему, с одной стороны мы снимаем по лекалам телефильмов о доблестном спецназе кино, которое при прочих равных прошло бы более или менее не замеченным, а с другой стороны обозначаем проблему сосуществования народов и этнических войн на территории бывшей Югославии. К данной теме я вообще не равнодушен и было интересно взглянуть, как отечественный режиссер покажет эти моменты. И получилось совсем не плохо, по крайней мере, у меня не возникает чувства непонимания, что происходило в Боснии и Косово. Да, широкими мазками обозначена проблема, зато доходчиво донесено, что испытывали простые люди при развале страны. \n",
        "\n",
        "После конфликта во взаимодействии с силами НАТО, члены разведовательно — диверсионной группы оказываются в непростой ситуации и вынуждены остаться вне пределов России. Каждый устраивается по своему в новой жизни и старается выжить. Но изменение вектора политической обстановки вновь делает их востребованными Отечеством. Надо занять и удержать аэропорт Приштины в Косово, до подхода российских миротворцев. Захват и удержание показаны в добротной манере отечественных сериалов, останавливаться на этом не буду, меня больше порадовали второстепенные линии сюжета. Возможно, сотрудничество с сербами сделали эти линии проникновенными с чисто человеческого восприятия. Это и драма в роддоме при налетах НАТО, и непростые отношения косоваров и сербов на примере полицейского поста в Косово, и этническо — конфессиональные расстрелы, и напряжение до срывов медработников от вида пострадавших — говорят война все спишет, это так. Только вот рубцов и ран в душах людей не излечит даже время, боль и горечь потерь близких и друзей долго будет жить в памяти. \n",
        "\n",
        "Переплетение реальных фактов и художественного вымысла неплохо сочеталось в этой ленте — марш-бросок на Приштину десантников удачно дополнил бой группы Бека, восторги сербов на кадрах хроники и киношные смотрелись органично. Что касается политических перипетий, то это дело грязное и идеологический контекст можно и пропустить при просмотре, хотя ничего нереального в показанном я не увидел. Порадовали показанные будни десантников, под «Сектор газа» смотрелось реалистично, вполне реальное развлечение для отвлечения от повседневной рутины.\n",
        "\n",
        "Актеры сыграли в целом нормально и наши и сербские, из наших мне понравились Куркова, Полухин и Марин, из сербов Гойко Митич, Бикович и Родойичич. Специфический юмор только усилил игру актеров. Кустурица в концовке тоже смотрелся к месту. В целом, не проявив чудес актерского мастерства все смотрелись не плохо. \n",
        "\n",
        "Минусы конечно есть и довольно жирные, в основном связаны с навязыванием определенного идеологического подтекста, и увы, незнанием особенностей службы в войсках специального назначения. Но в целом фильм они не уродуют, поэтому смело отношу его к положительным моментам нашего кинопроката.\n",
        "''')"
      ],
      "execution_count": 0,
      "outputs": []
    },
    {
      "metadata": {
        "id": "HBJXwCQ6QsTg",
        "colab_type": "code",
        "colab": {}
      },
      "cell_type": "code",
      "source": [
        "# Пример отрицательного отзыва\n",
        "\n",
        "learn.predict('''\n",
        "Пусть видят, кто против них (с)\n",
        "\n",
        "В конце 90-ых, во время очередного конфликта между сербами и албанцами, российская спецгруппа, находящаяся на территории Югославии, получает приказ захватить местный аэропорт и удержать его до прихода наших миротворцев.\n",
        "\n",
        "Режиссер «Танцев насмерть» и «Спирали», посредственных, никому ненужных картин, Андрей Волгин на западе давно бы оказался у разбитого корыта и пошел бы на прорыв, получив последний шанс или вошел бы в какую-нибудь когорту создателей сериалов, где ты просто один из тех, кто визуализирует чужие идеи. У нас же все совершенно по-другому произошло… Волгин получил большой бюджет, материал и не самых последних актеров, и что же он из этого смастерил? Все самое наипростейшее… Мотивы героев, как и предсказуемость сюжетных ходов и выпрыгивания спецэффектов из-за ушла — все это уже миллион раз использованные другими ходы, причем и реализованные сверхстандартно и стерильно. Ведь если у тебя есть антагонист, то кроме как дать ему нож и возможность оправдать рейтинг 16+ — единственный вариант продемонстрировать его характер и жестокость. Так же и с другими героями, один поет, другой постоянно про пенсию говорит, третий хочет денег, а узбечка заглянула на проект в поисках мужика, так и работают. А зрителям еще нужно разбираться причем тут НАТО, кто виноват и что делать, в общем не считая плохих дорог здесь есть все классические вопросы, волнующие русских на протяжении веков.\n",
        "\n",
        "По какой-то совершенно непонятной причине главную роль в «Балканском рубеже» исполнил Антон Пампушный («Защитники») — парень, конечно, колоритный, но с одной эмоцией на лице на любое происшествие и действие в его (их) сторону. Странно видеть таким потерянным Милоша Биковича («Лед»), у него здесь ключевая драматическая роль, но он так все это преподносит, что хочется снять ему скальп ничуть не меньше, чем террористам, которые гоняются за ним. Красивую Милену Радулович («Однажды летней ночью») при любой возможности раздевают, а героиня Равшаны Курковой («Без границ») получилась не только крутой, но еще и с юморком. Одного из самых запоминающихся бойцов с нашей стороны сыграл Сергей Марин («Анна-детективъ»), его неоднозначности и крутости, могли бы позавидовать и заграничные коллеги. Для увесистости в фильм влились: Гоша Куценко («Параграф 78»), которому очень нравится собирать себе отряды, любимейший югослав старшего поколения Гойко Митич («Апачи») и вечный Эмир Кустурица («Время цыган»). \n",
        "\n",
        "Картина «Балканских рубеж» очевидно снята явно из хороших побуждений и желания сделать, что-то свое на уровне Бэя и его «13 часов». Главные герои — такие наши Джеймсы Бонды без фантастической составляющей. Но вот снят «Балканский рубеж» самым скучным и потребительским образом: с кучей слоу-мо, увидев его количество даже создатели «Т-34» тихо стоят и покуривать в сторонке, хотя попытку сыграть в масштаб и серьезность можно и зачесть. Правда дешевые спецэффекты и длиннющие диалоги с попыткой хоть как-то раскрыть героев портят этот и так слишком затянутый фильм с нелогичным кастингом и музыкой, которая убаюкивает зрителей постоянно повторяющимся мотивом.''')"
      ],
      "execution_count": 0,
      "outputs": []
    },
    {
      "metadata": {
        "id": "yifpN_4UQsTh",
        "colab_type": "code",
        "colab": {}
      },
      "cell_type": "code",
      "source": [
        "learn.predict('Очень хороший фильм')"
      ],
      "execution_count": 0,
      "outputs": []
    },
    {
      "metadata": {
        "id": "fshaEXqiQsTj",
        "colab_type": "code",
        "colab": {}
      },
      "cell_type": "code",
      "source": [
        "learn.predict('Почему то мне кажется, что фильм далек от идеала. Я бы не советовал его смотреть')"
      ],
      "execution_count": 0,
      "outputs": []
    },
    {
      "metadata": {
        "id": "hwxel6_hQsTl",
        "colab_type": "code",
        "colab": {}
      },
      "cell_type": "code",
      "source": [
        "learn.predict('''\n",
        "              Фильм показался мне ужасным.\n",
        "              Это невероятное чувство плохой игры актеров.\n",
        "              Не рекомендую смотреть\n",
        "              ''')"
      ],
      "execution_count": 0,
      "outputs": []
    },
    {
      "metadata": {
        "id": "TTLwhfHaQsTm",
        "colab_type": "text"
      },
      "cell_type": "markdown",
      "source": [
        "Экспериментируйте!"
      ]
    },
    {
      "metadata": {
        "id": "uovHi79XQsTo",
        "colab_type": "code",
        "colab": {}
      },
      "cell_type": "code",
      "source": [
        "learn.predict(\"Лучший фильм, который я когда-либо смотрел!\")"
      ],
      "execution_count": 0,
      "outputs": []
    },
    {
      "metadata": {
        "id": "to0AeZEmQsTp",
        "colab_type": "code",
        "colab": {}
      },
      "cell_type": "code",
      "source": [
        "learn.predict(\"Это худший фильм, который я когда-либо смотрел. Такие дела. Хотя может быть и стоит посмотреть фанатам\")"
      ],
      "execution_count": 0,
      "outputs": []
    },
    {
      "metadata": {
        "id": "mVkoFGYFQsTq",
        "colab_type": "text"
      },
      "cell_type": "markdown",
      "source": [
        "## Интерпритируем результаты работы"
      ]
    },
    {
      "metadata": {
        "id": "yyZdbgjNQsTq",
        "colab_type": "code",
        "colab": {}
      },
      "cell_type": "code",
      "source": [
        "interp = ClassificationInterpretation.from_learner(learn)"
      ],
      "execution_count": 0,
      "outputs": []
    },
    {
      "metadata": {
        "id": "EzWWVZEaQsTr",
        "colab_type": "code",
        "colab": {}
      },
      "cell_type": "code",
      "source": [
        "losses,idxs = interp.top_losses()\n",
        "\n",
        "len(data_clas.valid_ds)==len(losses)==len(idxs)"
      ],
      "execution_count": 0,
      "outputs": []
    },
    {
      "metadata": {
        "id": "XcyhsF9JD3tD",
        "colab_type": "text"
      },
      "cell_type": "markdown",
      "source": [
        "Пары классов, которые сеть путает больше всего"
      ]
    },
    {
      "metadata": {
        "colab_type": "code",
        "id": "rcsxoIvg8FcX",
        "colab": {}
      },
      "cell_type": "code",
      "source": [
        "interp.most_confused()"
      ],
      "execution_count": 0,
      "outputs": []
    },
    {
      "metadata": {
        "id": "B4jLsPNzEqRI",
        "colab_type": "code",
        "colab": {}
      },
      "cell_type": "code",
      "source": [
        ""
      ],
      "execution_count": 0,
      "outputs": []
    },
    {
      "metadata": {
        "id": "jzEtcr2YDtpe",
        "colab_type": "text"
      },
      "cell_type": "markdown",
      "source": [
        "Посмотрим на матрицу ошибок:"
      ]
    },
    {
      "metadata": {
        "id": "rYjXNFXqQsTt",
        "colab_type": "code",
        "outputId": "5b7f222b-1b29-4806-8a08-1a47f4f6d4c5",
        "colab": {
          "base_uri": "https://localhost:8080/",
          "height": 585
        }
      },
      "cell_type": "code",
      "source": [
        "interp.plot_confusion_matrix(figsize=(7,7), dpi=80)"
      ],
      "execution_count": 0,
      "outputs": [
        {
          "output_type": "display_data",
          "data": {
            "image/png": "[encoded data removed]",
            "text/plain": [
              "<Figure size 560x560 with 1 Axes>"
            ]
          },
          "metadata": {
            "tags": []
          }
        }
      ]
    },
    {
      "metadata": {
        "id": "TBiQQI2OQsTu",
        "colab_type": "code",
        "outputId": "50c79655-ab0e-4c78-cb44-6e443331f68d",
        "colab": {
          "base_uri": "https://localhost:8080/",
          "height": 35
        }
      },
      "cell_type": "code",
      "source": [
        "learn.predict('Это ужасный фильм. И как это я мог такое смотреть? Крайне не рекомендую')"
      ],
      "execution_count": 0,
      "outputs": [
        {
          "output_type": "execute_result",
          "data": {
            "text/plain": [
              "(Category bad, tensor(0), tensor([9.9927e-01, 7.3213e-04]))"
            ]
          },
          "metadata": {
            "tags": []
          },
          "execution_count": 27
        }
      ]
    },
    {
      "metadata": {
        "id": "lH9aBarOqmsi",
        "colab_type": "code",
        "colab": {}
      },
      "cell_type": "code",
      "source": [
        ""
      ],
      "execution_count": 0,
      "outputs": []
    }
  ]
}