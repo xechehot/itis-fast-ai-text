{
  "nbformat": 4,
  "nbformat_minor": 0,
  "metadata": {
    "colab": {
      "name": "Copy of kinopoisk-reviews.ipynb",
      "version": "0.3.2",
      "provenance": [],
      "collapsed_sections": [],
      "toc_visible": true
    },
    "kernelspec": {
      "name": "python3",
      "display_name": "Python 3"
    },
    "accelerator": "GPU"
  },
  "cells": [
    {
      "metadata": {
        "id": "z93VWpTSQ_69",
        "colab_type": "text"
      },
      "cell_type": "markdown",
      "source": [
        "# Обновляем Fast AI"
      ]
    },
    {
      "metadata": {
        "id": "p06bpPTYRFAD",
        "colab_type": "code",
        "outputId": "2225bbe2-9378-409c-9fb8-640bdf3d720c",
        "colab": {
          "base_uri": "https://localhost:8080/",
          "height": 107
        }
      },
      "cell_type": "code",
      "source": [
        "!curl -s https://course.fast.ai/setup/colab | bash"
      ],
      "execution_count": 1,
      "outputs": [
        {
          "output_type": "stream",
          "text": [
            "Updating fastai...\n",
            "\u001b[31mfeaturetools 0.4.1 has requirement pandas>=0.23.0, but you'll have pandas 0.22.0 which is incompatible.\u001b[0m\n",
            "\u001b[31mdatascience 0.10.6 has requirement folium==0.2.1, but you'll have folium 0.8.3 which is incompatible.\u001b[0m\n",
            "\u001b[31malbumentations 0.1.12 has requirement imgaug<0.2.7,>=0.2.5, but you'll have imgaug 0.2.8 which is incompatible.\u001b[0m\n",
            "Done.\n"
          ],
          "name": "stdout"
        }
      ]
    },
    {
      "metadata": {
        "id": "mXs44d3xRYRs",
        "colab_type": "text"
      },
      "cell_type": "markdown",
      "source": [
        "Проверяем версию"
      ]
    },
    {
      "metadata": {
        "id": "evCmsjFTRUCS",
        "colab_type": "code",
        "outputId": "470e3b0a-f94c-46aa-b8b0-539e7ef6505b",
        "colab": {
          "base_uri": "https://localhost:8080/",
          "height": 35
        }
      },
      "cell_type": "code",
      "source": [
        "from fastai.version import __version__; __version__"
      ],
      "execution_count": 2,
      "outputs": [
        {
          "output_type": "execute_result",
          "data": {
            "text/plain": [
              "'1.0.50.post1'"
            ]
          },
          "metadata": {
            "tags": []
          },
          "execution_count": 2
        }
      ]
    },
    {
      "metadata": {
        "id": "vXZiNppUzKTn",
        "colab_type": "text"
      },
      "cell_type": "markdown",
      "source": [
        "Документация по фреймворку Fast AI по работе с текстом: https://docs.fast.ai/text.html"
      ]
    },
    {
      "metadata": {
        "id": "tYq2IheqQsQD",
        "colab_type": "code",
        "colab": {}
      },
      "cell_type": "code",
      "source": [
        "%reload_ext autoreload\n",
        "%autoreload 2\n",
        "%matplotlib inline"
      ],
      "execution_count": 0,
      "outputs": []
    },
    {
      "metadata": {
        "id": "IM7hSdL8QsQH",
        "colab_type": "code",
        "colab": {}
      },
      "cell_type": "code",
      "source": [
        "from fastai.text import *"
      ],
      "execution_count": 0,
      "outputs": []
    },
    {
      "metadata": {
        "id": "hcGyHMt3QsQK",
        "colab_type": "code",
        "colab": {}
      },
      "cell_type": "code",
      "source": [
        "import os\n",
        "from tqdm import tqdm_notebook"
      ],
      "execution_count": 0,
      "outputs": []
    },
    {
      "metadata": {
        "id": "rGdS-Q5ER1Nz",
        "colab_type": "text"
      },
      "cell_type": "markdown",
      "source": [
        "# Подготавливаем данные"
      ]
    },
    {
      "metadata": {
        "id": "ojT0vDrGmrpl",
        "colab_type": "text"
      },
      "cell_type": "markdown",
      "source": [
        "Сохраните данные для обучени и модели на свой Google-диск:\n",
        "\n",
        "https://drive.google.com/open?id=1rKZLehhvsveyYQoTFreZ3DtQPyaRkXUL\n"
      ]
    },
    {
      "metadata": {
        "id": "3hEIDXRmR5XY",
        "colab_type": "code",
        "outputId": "da558d00-f25b-4372-947a-fa175189269c",
        "colab": {
          "base_uri": "https://localhost:8080/",
          "height": 127
        }
      },
      "cell_type": "code",
      "source": [
        "from google.colab import drive\n",
        "drive.mount('/content/gdrive', force_remount=True)\n",
        "root_dir = '/content/gdrive/My Drive'"
      ],
      "execution_count": 6,
      "outputs": [
        {
          "output_type": "stream",
          "text": [
            "Go to this URL in a browser: https://accounts.google.com/o/oauth2/auth?client_id=947318989803-6bn6qk8qdgf4n4g3pfee6491hc0brc4i.apps.googleusercontent.com&redirect_uri=urn%3Aietf%3Awg%3Aoauth%3A2.0%3Aoob&scope=email%20https%3A%2F%2Fwww.googleapis.com%2Fauth%2Fdocs.test%20https%3A%2F%2Fwww.googleapis.com%2Fauth%2Fdrive%20https%3A%2F%2Fwww.googleapis.com%2Fauth%2Fdrive.photos.readonly%20https%3A%2F%2Fwww.googleapis.com%2Fauth%2Fpeopleapi.readonly&response_type=code\n",
            "\n",
            "Enter your authorization code:\n",
            "··········\n",
            "Mounted at /content/gdrive\n"
          ],
          "name": "stdout"
        }
      ]
    },
    {
      "metadata": {
        "id": "1mrWQbHgTgZ_",
        "colab_type": "code",
        "colab": {}
      },
      "cell_type": "code",
      "source": [
        "ROOT_PATH = Path(root_dir + '/ml')"
      ],
      "execution_count": 0,
      "outputs": []
    },
    {
      "metadata": {
        "id": "WwidhvykTmcZ",
        "colab_type": "code",
        "outputId": "80d16037-6e16-429f-c7fd-f99ee70f011f",
        "colab": {
          "base_uri": "https://localhost:8080/",
          "height": 53
        }
      },
      "cell_type": "code",
      "source": [
        "list(ROOT_PATH.iterdir())"
      ],
      "execution_count": 0,
      "outputs": [
        {
          "output_type": "execute_result",
          "data": {
            "text/plain": [
              "[PosixPath('/content/gdrive/My Drive/ml/kinopoisk'),\n",
              " PosixPath('/content/gdrive/My Drive/ml/russian_lm')]"
            ]
          },
          "metadata": {
            "tags": []
          },
          "execution_count": 36
        }
      ]
    },
    {
      "metadata": {
        "id": "1HBJXOlmTp8M",
        "colab_type": "code",
        "colab": {}
      },
      "cell_type": "code",
      "source": [
        "DATA_PATH = ROOT_PATH/'kinopoisk'/'data'"
      ],
      "execution_count": 0,
      "outputs": []
    },
    {
      "metadata": {
        "id": "VYUSeLkXT2Fe",
        "colab_type": "code",
        "outputId": "8f784ff9-725b-4d73-8e57-50641b1c12c3",
        "colab": {
          "base_uri": "https://localhost:8080/",
          "height": 107
        }
      },
      "cell_type": "code",
      "source": [
        "list(DATA_PATH.iterdir())"
      ],
      "execution_count": 0,
      "outputs": [
        {
          "output_type": "execute_result",
          "data": {
            "text/plain": [
              "[PosixPath('/content/gdrive/My Drive/ml/kinopoisk/data/train_reviews.json'),\n",
              " PosixPath('/content/gdrive/My Drive/ml/kinopoisk/data/valid_reviews.json'),\n",
              " PosixPath('/content/gdrive/My Drive/ml/kinopoisk/data/kinopoisk_data_clas_clear.pkl'),\n",
              " PosixPath('/content/gdrive/My Drive/ml/kinopoisk/data/kinopoisk_lm_data.pkl'),\n",
              " PosixPath('/content/gdrive/My Drive/ml/kinopoisk/data/kinopoisk_clas_data.pkl')]"
            ]
          },
          "metadata": {
            "tags": []
          },
          "execution_count": 9
        }
      ]
    },
    {
      "metadata": {
        "id": "hopchl7CUATw",
        "colab_type": "code",
        "colab": {}
      },
      "cell_type": "code",
      "source": [
        "names = ['valid', 'train']\n",
        "df_val, df_trn = [pd.read_json(DATA_PATH/f'{name}_reviews.json', lines=True) for name in names]"
      ],
      "execution_count": 0,
      "outputs": []
    },
    {
      "metadata": {
        "id": "Yo51jEbwUeeD",
        "colab_type": "code",
        "outputId": "53023c9c-b541-4fa2-eb78-96d866a52c05",
        "colab": {
          "base_uri": "https://localhost:8080/",
          "height": 204
        }
      },
      "cell_type": "code",
      "source": [
        "df_val.head()"
      ],
      "execution_count": 0,
      "outputs": [
        {
          "output_type": "execute_result",
          "data": {
            "text/html": [
              "<div>\n",
              "<style scoped>\n",
              "    .dataframe tbody tr th:only-of-type {\n",
              "        vertical-align: middle;\n",
              "    }\n",
              "\n",
              "    .dataframe tbody tr th {\n",
              "        vertical-align: top;\n",
              "    }\n",
              "\n",
              "    .dataframe thead th {\n",
              "        text-align: right;\n",
              "    }\n",
              "</style>\n",
              "<table border=\"1\" class=\"dataframe\">\n",
              "  <thead>\n",
              "    <tr style=\"text-align: right;\">\n",
              "      <th></th>\n",
              "      <th>filmId</th>\n",
              "      <th>numOfDislikes</th>\n",
              "      <th>numOfLikes</th>\n",
              "      <th>reviewBody</th>\n",
              "      <th>reviewTitle</th>\n",
              "      <th>status</th>\n",
              "    </tr>\n",
              "  </thead>\n",
              "  <tbody>\n",
              "    <tr>\n",
              "      <th>0</th>\n",
              "      <td>6034</td>\n",
              "      <td>1</td>\n",
              "      <td>19</td>\n",
              "      <td>Бен Стиллер никогда не был выдающимся актером,...</td>\n",
              "      <td>«Иногда лучше не нарушать волшебство»</td>\n",
              "      <td>good</td>\n",
              "    </tr>\n",
              "    <tr>\n",
              "      <th>1</th>\n",
              "      <td>430593</td>\n",
              "      <td>0</td>\n",
              "      <td>2</td>\n",
              "      <td>Начать хочется с того, что это прекрасный филь...</td>\n",
              "      <td>Мысли о прошлом и есть моё будущее.</td>\n",
              "      <td>good</td>\n",
              "    </tr>\n",
              "    <tr>\n",
              "      <th>2</th>\n",
              "      <td>777896</td>\n",
              "      <td>1</td>\n",
              "      <td>5</td>\n",
              "      <td>Сценаристка Анна и ее бойфренд Пол приезжают в...</td>\n",
              "      <td>Возвращайся в сон</td>\n",
              "      <td>bad</td>\n",
              "    </tr>\n",
              "    <tr>\n",
              "      <th>3</th>\n",
              "      <td>221750</td>\n",
              "      <td>13</td>\n",
              "      <td>14</td>\n",
              "      <td>В 21 веке жанр хоррора был расширен еще одним,...</td>\n",
              "      <td>Типичнейший японский ужастик по-голливудски</td>\n",
              "      <td>bad</td>\n",
              "    </tr>\n",
              "    <tr>\n",
              "      <th>4</th>\n",
              "      <td>540632</td>\n",
              "      <td>0</td>\n",
              "      <td>1</td>\n",
              "      <td>Мы привыкли к тому, что индийское кино изобилу...</td>\n",
              "      <td>Малоизвестные мультфильмы, к сожалению. Часть ...</td>\n",
              "      <td>good</td>\n",
              "    </tr>\n",
              "  </tbody>\n",
              "</table>\n",
              "</div>"
            ],
            "text/plain": [
              "   filmId  numOfDislikes  numOfLikes  \\\n",
              "0    6034              1          19   \n",
              "1  430593              0           2   \n",
              "2  777896              1           5   \n",
              "3  221750             13          14   \n",
              "4  540632              0           1   \n",
              "\n",
              "                                          reviewBody  \\\n",
              "0  Бен Стиллер никогда не был выдающимся актером,...   \n",
              "1  Начать хочется с того, что это прекрасный филь...   \n",
              "2  Сценаристка Анна и ее бойфренд Пол приезжают в...   \n",
              "3  В 21 веке жанр хоррора был расширен еще одним,...   \n",
              "4  Мы привыкли к тому, что индийское кино изобилу...   \n",
              "\n",
              "                                         reviewTitle status  \n",
              "0              «Иногда лучше не нарушать волшебство»   good  \n",
              "1                Мысли о прошлом и есть моё будущее.   good  \n",
              "2                                  Возвращайся в сон    bad  \n",
              "3        Типичнейший японский ужастик по-голливудски    bad  \n",
              "4  Малоизвестные мультфильмы, к сожалению. Часть ...   good  "
            ]
          },
          "metadata": {
            "tags": []
          },
          "execution_count": 15
        }
      ]
    },
    {
      "metadata": {
        "id": "VpkazX8yU8S5",
        "colab_type": "code",
        "outputId": "4823ae0a-b98e-4359-95e2-d23251adb54c",
        "colab": {
          "base_uri": "https://localhost:8080/",
          "height": 35
        }
      },
      "cell_type": "code",
      "source": [
        "df_trn.shape, df_val.shape"
      ],
      "execution_count": 0,
      "outputs": [
        {
          "output_type": "execute_result",
          "data": {
            "text/plain": [
              "((11272, 6), (3750, 6))"
            ]
          },
          "metadata": {
            "tags": []
          },
          "execution_count": 16
        }
      ]
    },
    {
      "metadata": {
        "id": "z8C1hIe_Uhsn",
        "colab_type": "code",
        "colab": {}
      },
      "cell_type": "code",
      "source": [
        "df_val['valid'] = True\n",
        "df_trn['valid'] = False\n",
        "df_all = pd.concat((df_trn, df_val))"
      ],
      "execution_count": 0,
      "outputs": []
    },
    {
      "metadata": {
        "id": "VZUQOLJZU4uZ",
        "colab_type": "code",
        "outputId": "57918acd-3902-43e5-e2e5-5b88eeb727df",
        "colab": {
          "base_uri": "https://localhost:8080/",
          "height": 35
        }
      },
      "cell_type": "code",
      "source": [
        "df_all.shape"
      ],
      "execution_count": 0,
      "outputs": [
        {
          "output_type": "execute_result",
          "data": {
            "text/plain": [
              "(15022, 7)"
            ]
          },
          "metadata": {
            "tags": []
          },
          "execution_count": 13
        }
      ]
    },
    {
      "metadata": {
        "id": "6LiGwzdesfya",
        "colab_type": "text"
      },
      "cell_type": "markdown",
      "source": [
        "# Языковая модель"
      ]
    },
    {
      "metadata": {
        "id": "jnDzCkXjQsQM",
        "colab_type": "text"
      },
      "cell_type": "markdown",
      "source": [
        "## Подготовка данных"
      ]
    },
    {
      "metadata": {
        "id": "R_UCwe-8ufjH",
        "colab_type": "text"
      },
      "cell_type": "markdown",
      "source": [
        "**BatchSize** - основной гиперпараметр сети, определяющий кол-во одновременно обрабатываемых обучающих примеров"
      ]
    },
    {
      "metadata": {
        "id": "156JoFeZQsQa",
        "colab_type": "code",
        "colab": {}
      },
      "cell_type": "code",
      "source": [
        "bs = 32"
      ],
      "execution_count": 0,
      "outputs": []
    },
    {
      "metadata": {
        "id": "cFm-0sp_s3Bu",
        "colab_type": "text"
      },
      "cell_type": "markdown",
      "source": [
        "Можно посмотреть определение любой интересующей функции"
      ]
    },
    {
      "metadata": {
        "id": "TbafNU8MVpsH",
        "colab_type": "code",
        "colab": {}
      },
      "cell_type": "code",
      "source": [
        "TextList.split_from_df??"
      ],
      "execution_count": 0,
      "outputs": []
    },
    {
      "metadata": {
        "id": "pTB7_Qetu8i-",
        "colab_type": "text"
      },
      "cell_type": "markdown",
      "source": [
        "Определяем набор данных, с помощью читабельного fluid-api:"
      ]
    },
    {
      "metadata": {
        "id": "59TyoIwa9cvZ",
        "colab_type": "code",
        "colab": {}
      },
      "cell_type": "code",
      "source": [
        "vocab = Vocab.load(ROOT_PATH/'kinopoisk'/'models'/'kinopoisk_lm_vocab.pkl')"
      ],
      "execution_count": 0,
      "outputs": []
    },
    {
      "metadata": {
        "id": "Qdz4uTdTQsQd",
        "colab_type": "code",
        "colab": {}
      },
      "cell_type": "code",
      "source": [
        "data = TextList.from_df(df_all, cols='reviewBody',\n",
        "                        processor=[TokenizeProcessor(tokenizer=Tokenizer(lang=\"xx\")), \n",
        "                                   NumericalizeProcessor(vocab=vocab)]).\\\n",
        "                split_from_df('valid').\\\n",
        "                label_for_lm().\\\n",
        "                databunch(bs=bs)"
      ],
      "execution_count": 0,
      "outputs": []
    },
    {
      "metadata": {
        "id": "SMFSL-ervNHp",
        "colab_type": "text"
      },
      "cell_type": "markdown",
      "source": [
        "Сохраняем данные для того, чтобы в следующий раз не приходилось заново обрабатывать текст"
      ]
    },
    {
      "metadata": {
        "id": "8IiT7y5uQsQg",
        "colab_type": "code",
        "colab": {}
      },
      "cell_type": "code",
      "source": [
        "data.save(DATA_PATH / \"kinopoisk_lm_data.pkl\")"
      ],
      "execution_count": 0,
      "outputs": []
    },
    {
      "metadata": {
        "id": "HpkfD36rQsQi",
        "colab_type": "code",
        "colab": {}
      },
      "cell_type": "code",
      "source": [
        "data = load_data(DATA_PATH, \"kinopoisk_lm_data.pkl\", bs)"
      ],
      "execution_count": 0,
      "outputs": []
    },
    {
      "metadata": {
        "id": "cNrRVwSOv5Gj",
        "colab_type": "text"
      },
      "cell_type": "markdown",
      "source": [
        "### Посмотрим как выглядят данные"
      ]
    },
    {
      "metadata": {
        "id": "VIytDfTlQsQl",
        "colab_type": "code",
        "outputId": "0d4b9283-3866-4e8a-a88f-70cbb0c5c750",
        "colab": {
          "base_uri": "https://localhost:8080/",
          "height": 289
        }
      },
      "cell_type": "code",
      "source": [
        "data.show_batch()"
      ],
      "execution_count": 0,
      "outputs": [
        {
          "output_type": "display_data",
          "data": {
            "text/html": [
              "<table border=\"1\" class=\"dataframe\">\n",
              "  <thead>\n",
              "    <tr style=\"text-align: right;\">\n",
              "      <th>idx</th>\n",
              "      <th>text</th>\n",
              "    </tr>\n",
              "  </thead>\n",
              "  <tbody>\n",
              "    <tr>\n",
              "      <td>0</td>\n",
              "      <td>равно идут немного мурашки . \\r \\n \\r \\n  xxmaj сюжет конечно не новый . xxmaj шестеро ребят привозят на xxunk тюрьму снимать реалити - шоу , конечно с весьма xxunk xxunk , ну а ради денег люди готовы на многое , даже перешагнуть сквозь собственные страхи . xxmaj однако это не единственная xxunk к xxunk , в игру внезапно для всех вступает новый игрок ... \\r \\n \\r</td>\n",
              "    </tr>\n",
              "    <tr>\n",
              "      <td>1</td>\n",
              "      <td>итог : « xxmaj коматозники » - это не просто добротный триллер с мистическим уклоном , интригующими событиями и великолепным актерским составом , но еще и кино , которому есть что сказать зрителю . &lt; / b &gt; \\r \\n \\r \\n  &lt; i&gt;- xxmaj сегодня хороший день чтобы умереть … &lt; / i &gt; xxbos xxmaj простите , но так xxunk xxunk - просто кощунственно . \\r \\n</td>\n",
              "    </tr>\n",
              "    <tr>\n",
              "      <td>2</td>\n",
              "      <td>некоторые , ранее не известные факты . в плане эффектности ' xxmaj преисподняя ' ни чуть не уступает ' xxmaj суспирии ' - первой части трилогии , но сильно проигрывает ' xxmaj матери слёз ' , которая вопреки xxunk зрителей выдалась отличным хоррором . \\r \\n \\r \\n  xxmaj основное действие фильма развивается в xxmaj нью - xxmaj йорке - городе , где находится дом второй матери , построенный</td>\n",
              "    </tr>\n",
              "    <tr>\n",
              "      <td>3</td>\n",
              "      <td>как бы подспудно развивая эту тему , взялся за прозу xxmaj xxunk xxmaj xxunk « xxmaj сандро из xxmaj xxunk » , в которой писатель дал весьма xxunk , неоднозначную оценку не только тому времени , но и самому xxmaj xxunk xxmaj xxunk . xxmaj справедливости ради , стоит признать то , что оба эти фильма получились у в общем то у крайне посредственного режиссёра довольно хорошо , каждый</td>\n",
              "    </tr>\n",
              "    <tr>\n",
              "      <td>4</td>\n",
              "      <td>друг с друга - экранная пара у них не вышла . xxmaj чан сам по себе , и xxmaj такер тоже . \\r \\n \\r \\n  xxmaj нет основных элементов заявленного жанра : погонь , зрелищных перестрелок и головокружительных трюков . xxmaj впрочем , трюки есть , но сделаны они под стать xxmaj джеки , притом что уже возрастной актер выполняет их через силу . xxmaj совсем не утонуть</td>\n",
              "    </tr>\n",
              "  </tbody>\n",
              "</table>"
            ],
            "text/plain": [
              "<IPython.core.display.HTML object>"
            ]
          },
          "metadata": {
            "tags": []
          }
        }
      ]
    },
    {
      "metadata": {
        "id": "N_CmKyUIwR62",
        "colab_type": "code",
        "outputId": "6898b5f3-7083-4993-bc36-369bd6060d7f",
        "colab": {
          "base_uri": "https://localhost:8080/",
          "height": 343
        }
      },
      "cell_type": "code",
      "source": [
        "data.train_ds[0][0]"
      ],
      "execution_count": 0,
      "outputs": [
        {
          "output_type": "execute_result",
          "data": {
            "text/plain": [
              "Text xxbos xxmaj фильм довольно интересный . с самого начала интригует , интересно узнать что будет дальше . xxmaj нет ненужных и длительных диалогов . \n",
              " \n",
              " \n",
              " \n",
              "  xxmaj музыка . xxmaj как и во всех ужасах довольно xxunk . xxmaj здесь она играет большую роль . \n",
              " \n",
              " \n",
              " \n",
              "  xxmaj даже с точки зрения психологии фильм интересен , даже когда в фильме не появляется призрак и ты смотришь просто на игру участников , всё равно идут немного мурашки . \n",
              " \n",
              " \n",
              " \n",
              "  xxmaj сюжет конечно не новый . xxmaj шестеро ребят привозят на xxunk тюрьму снимать реалити - шоу , конечно с весьма xxunk xxunk , ну а ради денег люди готовы на многое , даже перешагнуть сквозь собственные страхи . xxmaj однако это не единственная xxunk к xxunk , в игру внезапно для всех вступает новый игрок ... \n",
              " \n",
              " \n",
              " \n",
              "  xxmaj концовка в фильме будто - бы постоянно меняется . xxmaj начало ты смотришь и думаешь ну вот и конец , однако фильм продолжаться и тем как он закончиться - вам стоит посмотреть ."
            ]
          },
          "metadata": {
            "tags": []
          },
          "execution_count": 21
        }
      ]
    },
    {
      "metadata": {
        "id": "34yG7OeGxBNS",
        "colab_type": "text"
      },
      "cell_type": "markdown",
      "source": [
        "Каждому слову -(токену) ставится в соответсвии порядковый номер из словаря"
      ]
    },
    {
      "metadata": {
        "id": "7e9NgJNdxNWH",
        "colab_type": "code",
        "outputId": "237828db-0f97-4134-dd4e-78d2f4b0823d",
        "colab": {
          "base_uri": "https://localhost:8080/",
          "height": 323
        }
      },
      "cell_type": "code",
      "source": [
        "data.vocab.itos[:17]"
      ],
      "execution_count": 0,
      "outputs": [
        {
          "output_type": "execute_result",
          "data": {
            "text/plain": [
              "['xxunk',\n",
              " 'xxpad',\n",
              " 'xxbos',\n",
              " 'xxeos',\n",
              " 'xxfld',\n",
              " 'xxmaj',\n",
              " 'xxup',\n",
              " 'xxrep',\n",
              " 'xxwrep',\n",
              " ',',\n",
              " '.',\n",
              " 'и',\n",
              " 'в',\n",
              " 'не',\n",
              " '\\r \\n \\r \\n ',\n",
              " '-',\n",
              " 'что']"
            ]
          },
          "metadata": {
            "tags": []
          },
          "execution_count": 24
        }
      ]
    },
    {
      "metadata": {
        "id": "fFmEV0zq1Wd8",
        "colab_type": "text"
      },
      "cell_type": "markdown",
      "source": [
        "xxunk, xxpad и тд - это специальные токены, для представления текста.\n",
        "Например, токен **xxmaj** показывает, что следующее слово в исходном тексте начинается с большой буквы."
      ]
    },
    {
      "metadata": {
        "id": "WAAppfdqxhgv",
        "colab_type": "code",
        "outputId": "c6a76cb3-a5dc-4102-c80b-ba1eae2ffbb3",
        "colab": {
          "base_uri": "https://localhost:8080/",
          "height": 35
        }
      },
      "cell_type": "code",
      "source": [
        "data.train_ds[0][0].data"
      ],
      "execution_count": 0,
      "outputs": [
        {
          "output_type": "execute_result",
          "data": {
            "text/plain": [
              "array([  2,   5,  28, 210, ..., 273, 145, 189,  10])"
            ]
          },
          "metadata": {
            "tags": []
          },
          "execution_count": 25
        }
      ]
    },
    {
      "metadata": {
        "id": "93Oq0NQGxcjE",
        "colab_type": "text"
      },
      "cell_type": "markdown",
      "source": [
        "Задача нейронной сети при обучении языковой модели - предсказать наиболее вероятное слово, идущее после данной последовательности слов."
      ]
    },
    {
      "metadata": {
        "id": "Tl1w6RjMwLKd",
        "colab_type": "text"
      },
      "cell_type": "markdown",
      "source": [
        "## Обучение модели"
      ]
    },
    {
      "metadata": {
        "id": "kRanSOgnA_ZU",
        "colab_type": "text"
      },
      "cell_type": "markdown",
      "source": [
        "Используемая архитектура сети - реализация [AWD-LSTM](https://arxiv.org/abs/1708.02182) (Average SGD Weights Dropped LSTM)"
      ]
    },
    {
      "metadata": {
        "id": "a3VNYGbjQsQo",
        "colab_type": "code",
        "colab": {}
      },
      "cell_type": "code",
      "source": [
        "# Если мы обрабатываем тексты на английском языке, то Fast AI имеет предобученную на Википедии модель\n",
        "# learn = language_model_learner(data, arch=AWD_LSTM)"
      ],
      "execution_count": 0,
      "outputs": []
    },
    {
      "metadata": {
        "id": "1qKYaR8q1qPm",
        "colab_type": "text"
      },
      "cell_type": "markdown",
      "source": [
        "Мы воспользуемся предобученной моделью на корпусе текстов \"Тайга\".\n",
        "\n",
        "Веса модели взяты взята отсюда: https://github.com/mamamot/Russian-ULMFit\n",
        "\n",
        "Корпус текстов Тайга: https://tatianashavrina.github.io/taiga_site/\n",
        "\n",
        "#### Дополнительно\n",
        "Как обучить языковую модель на википедии: https://github.com/ademyanchuk/ulmfit-multilingual\n",
        "\n",
        "Обсуждение темы на форуме Fast AI: https://forums.fast.ai/t/ulmfit-russian/36312\n",
        "\n"
      ]
    },
    {
      "metadata": {
        "id": "dyg1LaZnQsQr",
        "colab_type": "code",
        "colab": {}
      },
      "cell_type": "code",
      "source": [
        "learn = language_model_learner(data, arch=AWD_LSTM, pretrained=False, pretrained_fnames=('lm_5_ep_lr2-3_5_stlr', 'itos'), path=ROOT_PATH/'russian_lm')\n"
      ],
      "execution_count": 0,
      "outputs": []
    },
    {
      "metadata": {
        "id": "24RvsTA-3VVZ",
        "colab_type": "text"
      },
      "cell_type": "markdown",
      "source": [
        "Проверим, как работает модель"
      ]
    },
    {
      "metadata": {
        "colab_type": "code",
        "id": "2DQCxoitBybY",
        "colab": {}
      },
      "cell_type": "code",
      "source": [
        "TEXT = \"Вообще, приходя в себя\"\n",
        "N_WORDS = 60\n",
        "N_SENTENCES = 2"
      ],
      "execution_count": 0,
      "outputs": []
    },
    {
      "metadata": {
        "colab_type": "code",
        "outputId": "fee1e10d-daba-466b-f211-143158de4b67",
        "id": "jhAojYKQBybZ",
        "colab": {
          "base_uri": "https://localhost:8080/",
          "height": 73
        }
      },
      "cell_type": "code",
      "source": [
        "print(\"\\n\".join(learn.predict(TEXT, N_WORDS, temperature=0.75) for _ in range(N_SENTENCES)))"
      ],
      "execution_count": 0,
      "outputs": [
        {
          "output_type": "stream",
          "text": [
            "Вообще, приходя в себя , это не тот момент , когда за последние годы люди Северной Америки не могли получить никаких новых травм . Возможно , на этот раз дело о « Аль - Участия » будет передано в\n",
            "Вообще, приходя в себя , Виктор Чирков не стал внутренних дел России . Об этом сообщил журналистам в интервью « Русской службе новостей » Дмитрий Итальянски . Он рассказал , что такое решение было принято на\n"
          ],
          "name": "stdout"
        }
      ]
    },
    {
      "metadata": {
        "id": "S5DfLE-BQsQu",
        "colab_type": "code",
        "colab": {}
      },
      "cell_type": "code",
      "source": [
        "TEXT = \"Вообще, приходя в себя\"\n",
        "N_WORDS = 40\n",
        "N_SENTENCES = 2"
      ],
      "execution_count": 0,
      "outputs": []
    },
    {
      "metadata": {
        "id": "ZKSj0vFSQsQw",
        "colab_type": "code",
        "outputId": "31e78de1-ef45-4f03-ed15-d08d01c177e4",
        "colab": {
          "base_uri": "https://localhost:8080/",
          "height": 73
        }
      },
      "cell_type": "code",
      "source": [
        "print(\"\\n\".join(learn.predict(TEXT, N_WORDS, temperature=0.75) for _ in range(N_SENTENCES)))"
      ],
      "execution_count": 0,
      "outputs": [
        {
          "output_type": "stream",
          "text": [
            "Вообще, приходя в себя , Валентина Ивановна Валентина Ивановна на момент закрытия « Ночи без границ » не имела право работать в Петербурге , и Валентина Ивановна вступила в должность . На прошлой неделе она\n",
            "Вообще, приходя в себя , Санкт - Петербург должен вернуться к своим обязанностям . Не все и у нас , и в центре города . На эту тему в Петербурге в первую очередь хотят обсудить эти вопросы .\n"
          ],
          "name": "stdout"
        }
      ]
    },
    {
      "metadata": {
        "id": "iLXLawq6QsQ2",
        "colab_type": "text"
      },
      "cell_type": "markdown",
      "source": [
        "Перед тем как приступить к обучению языковой модели, мы должно найти оптимальный learning_rate (lr) - это гиперпараметр, который определяет с какой скоростью будет обучаться модель"
      ]
    },
    {
      "metadata": {
        "id": "Qv0ObLZjQsQ3",
        "colab_type": "code",
        "colab": {
          "base_uri": "https://localhost:8080/",
          "height": 35
        },
        "outputId": "c2cc9711-fd10-4a78-8b0c-b32749a1d40b"
      },
      "cell_type": "code",
      "source": [
        "learn.lr_find()"
      ],
      "execution_count": 18,
      "outputs": [
        {
          "output_type": "display_data",
          "data": {
            "text/html": [
              ""
            ],
            "text/plain": [
              "<IPython.core.display.HTML object>"
            ]
          },
          "metadata": {
            "tags": []
          }
        },
        {
          "output_type": "stream",
          "text": [
            "LR Finder is complete, type {learner_name}.recorder.plot() to see the graph.\n"
          ],
          "name": "stdout"
        }
      ]
    },
    {
      "metadata": {
        "id": "s1fej8S8QsQ8",
        "colab_type": "text"
      },
      "cell_type": "markdown",
      "source": [
        "На графике нам нужно выбрать наибольший LR такой, что Loss (функцию потерь) еще достаточно быстро уменьшается. Мы выберем 10e-2. "
      ]
    },
    {
      "metadata": {
        "id": "UHp0_69nQsQ8",
        "colab_type": "code",
        "outputId": "69fc813b-0ec4-4613-d5c7-a09287925c43",
        "colab": {}
      },
      "cell_type": "code",
      "source": [
        "learn.recorder.plot(skip_end=15)"
      ],
      "execution_count": 0,
      "outputs": [
        {
          "output_type": "display_data",
          "data": {
            "image/png": "[encoded data removed]",
            "text/plain": [
              "<matplotlib.figure.Figure at 0x7fbd5df6c9e8>"
            ]
          },
          "metadata": {
            "tags": []
          }
        }
      ]
    },
    {
      "metadata": {
        "id": "TL_JhRlOQsQ_",
        "colab_type": "text"
      },
      "cell_type": "markdown",
      "source": [
        "Так как часть слов в словаре новые и сеть про них ничего не знает, то мы начнем обучать только последний слой и embedding-и новых слов"
      ]
    },
    {
      "metadata": {
        "id": "4_kYemGLQsRA",
        "colab_type": "code",
        "outputId": "bea9cbed-e52b-447e-f5dd-942be6a0e8bd",
        "colab": {}
      },
      "cell_type": "code",
      "source": [
        "learn.fit_one_cycle(1, 1e-2, moms=(0.8,0.7))"
      ],
      "execution_count": 0,
      "outputs": [
        {
          "output_type": "display_data",
          "data": {
            "text/html": [
              "Total time: 29:25 <p><table border=\"1\" class=\"dataframe\">\n",
              "  <thead>\n",
              "    <tr style=\"text-align: left;\">\n",
              "      <th>epoch</th>\n",
              "      <th>train_loss</th>\n",
              "      <th>valid_loss</th>\n",
              "      <th>accuracy</th>\n",
              "      <th>time</th>\n",
              "    </tr>\n",
              "  </thead>\n",
              "  <tbody>\n",
              "    <tr>\n",
              "      <td>0</td>\n",
              "      <td>4.623338</td>\n",
              "      <td>4.057502</td>\n",
              "      <td>0.228571</td>\n",
              "      <td>29:25</td>\n",
              "    </tr>\n",
              "  </tbody>\n",
              "</table>"
            ],
            "text/plain": [
              "<IPython.core.display.HTML object>"
            ]
          },
          "metadata": {
            "tags": []
          }
        }
      ]
    },
    {
      "metadata": {
        "id": "XsLwFGQdQsRD",
        "colab_type": "text"
      },
      "cell_type": "markdown",
      "source": [
        "Сохраняем модель"
      ]
    },
    {
      "metadata": {
        "id": "o5lME48BQsRE",
        "colab_type": "code",
        "colab": {}
      },
      "cell_type": "code",
      "source": [
        "learn.save('kinopoisk_head')"
      ],
      "execution_count": 0,
      "outputs": []
    },
    {
      "metadata": {
        "id": "fIoLX4x9QsRG",
        "colab_type": "code",
        "colab": {}
      },
      "cell_type": "code",
      "source": [
        "learn.load('kinopoisk_head')"
      ],
      "execution_count": 0,
      "outputs": []
    },
    {
      "metadata": {
        "id": "3tqyBXJ6A0ak",
        "colab_type": "text"
      },
      "cell_type": "markdown",
      "source": [
        "Посмотрим из каких слоев состоит нейронная сеть"
      ]
    },
    {
      "metadata": {
        "id": "uT-6XJaRCpu6",
        "colab_type": "code",
        "outputId": "1dd76132-56f4-4be5-b5e2-d2002784e673",
        "colab": {
          "base_uri": "https://localhost:8080/",
          "height": 539
        }
      },
      "cell_type": "code",
      "source": [
        "learn.model"
      ],
      "execution_count": 0,
      "outputs": [
        {
          "output_type": "execute_result",
          "data": {
            "text/plain": [
              "SequentialRNN(\n",
              "  (0): AWD_LSTM(\n",
              "    (encoder): Embedding(60004, 400, padding_idx=1)\n",
              "    (encoder_dp): EmbeddingDropout(\n",
              "      (emb): Embedding(60004, 400, padding_idx=1)\n",
              "    )\n",
              "    (rnns): ModuleList(\n",
              "      (0): WeightDropout(\n",
              "        (module): LSTM(400, 1150, batch_first=True)\n",
              "      )\n",
              "      (1): WeightDropout(\n",
              "        (module): LSTM(1150, 1150, batch_first=True)\n",
              "      )\n",
              "      (2): WeightDropout(\n",
              "        (module): LSTM(1150, 400, batch_first=True)\n",
              "      )\n",
              "    )\n",
              "    (input_dp): RNNDropout()\n",
              "    (hidden_dps): ModuleList(\n",
              "      (0): RNNDropout()\n",
              "      (1): RNNDropout()\n",
              "      (2): RNNDropout()\n",
              "    )\n",
              "  )\n",
              "  (1): LinearDecoder(\n",
              "    (decoder): Linear(in_features=400, out_features=60004, bias=True)\n",
              "    (output_dp): RNNDropout()\n",
              "  )\n",
              ")"
            ]
          },
          "metadata": {
            "tags": []
          },
          "execution_count": 52
        }
      ]
    },
    {
      "metadata": {
        "id": "Ell0wDHLAzhU",
        "colab_type": "code",
        "outputId": "35135d27-bd28-4684-ee3b-d87fc972340a",
        "colab": {
          "base_uri": "https://localhost:8080/",
          "height": 323
        }
      },
      "cell_type": "code",
      "source": [
        "learn.summary()"
      ],
      "execution_count": 0,
      "outputs": [
        {
          "output_type": "execute_result",
          "data": {
            "text/plain": [
              "======================================================================\n",
              "Layer (type)         Output Shape         Param #    Trainable \n",
              "======================================================================\n",
              "RNNDropout           [70, 400]            0          False     \n",
              "______________________________________________________________________\n",
              "RNNDropout           [70, 1150]           0          False     \n",
              "______________________________________________________________________\n",
              "RNNDropout           [70, 1150]           0          False     \n",
              "______________________________________________________________________\n",
              "Linear               [70, 60004]          24,061,604 True      \n",
              "______________________________________________________________________\n",
              "RNNDropout           [70, 400]            0          False     \n",
              "______________________________________________________________________\n",
              "\n",
              "Total params: 24,061,604\n",
              "Total trainable params: 24,061,604\n",
              "Total non-trainable params: 0"
            ]
          },
          "metadata": {
            "tags": []
          },
          "execution_count": 50
        }
      ]
    },
    {
      "metadata": {
        "id": "OlXEN8AbQsRJ",
        "colab_type": "text"
      },
      "cell_type": "markdown",
      "source": [
        "Посмотрим как работает предсказание:"
      ]
    },
    {
      "metadata": {
        "id": "p9c--m4hieBB",
        "colab_type": "code",
        "outputId": "5f157f4f-c3dd-48fc-f152-ecd5068d147c",
        "colab": {
          "base_uri": "https://localhost:8080/",
          "height": 73
        }
      },
      "cell_type": "code",
      "source": [
        "TEXT = \"полный эффект присутствия\"\n",
        "N_WORDS = 40\n",
        "N_SENTENCES = 2\n",
        "\n",
        "print(\"\\n\".join(learn.predict(TEXT, N_WORDS, temperature=0.75) for _ in range(N_SENTENCES)))"
      ],
      "execution_count": 0,
      "outputs": [
        {
          "output_type": "stream",
          "text": [
            "полный эффект присутствия . Фильм снят в необычной манере , музыка не режет слух . Игра актеров завораживает . Актеры сыграли отлично , не подкачали , роль в фильме практически не подошла . Джон Малкович ( Джеймс\n",
            "полный эффект присутствия , бескрайние просторы Африки , люди , которые в своем роде живут в самом широком , не самом лучшем смысле этого слова , городе . Все они - настоящие , живущие в этой культуре . Все в\n"
          ],
          "name": "stdout"
        }
      ]
    },
    {
      "metadata": {
        "id": "Ts7ELU1jQsRK",
        "colab_type": "code",
        "outputId": "348042ff-300f-4c31-87d5-6512f7f6c1a4",
        "colab": {
          "base_uri": "https://localhost:8080/",
          "height": 109
        }
      },
      "cell_type": "code",
      "source": [
        "TEXT = \"полный эффект присутствия\"\n",
        "N_WORDS = 40\n",
        "N_SENTENCES = 2\n",
        "\n",
        "print(\"\\n\".join(learn.predict(TEXT, N_WORDS, temperature=0.75) for _ in range(N_SENTENCES)))"
      ],
      "execution_count": 0,
      "outputs": [
        {
          "output_type": "stream",
          "text": [
            "Фильм снят в необычной манере , музыка не режет слух . Игра актеров завораживает . Актеры сыграли отлично , не было никаких эмоций , которые могли бы вызвать улыбку , но и они не играли . Долго я не могла поверить , что в фильме нет ничего , что могло бы - реально повернуться . Фильм затягивает ,\n",
            "Фильм снят в необычной манере , музыка не режет слух . Игра актеров завораживает . Актеры сыграли отлично , не была каких - либо эмоций , но все равно . \r \n",
            " \r \n",
            "  Сюжет закручен на различные члены семьи , которые будут жить счастливо . Но вот на чем режиссер и не падает и не вносит новых красок , как\n"
          ],
          "name": "stdout"
        }
      ]
    },
    {
      "metadata": {
        "id": "sFJQx-s3QsRM",
        "colab_type": "text"
      },
      "cell_type": "markdown",
      "source": [
        "Теперь мы \"разморозим\" все слои и продолжим обучение языковой модели"
      ]
    },
    {
      "metadata": {
        "id": "VUhzUed6QsRN",
        "colab_type": "code",
        "colab": {}
      },
      "cell_type": "code",
      "source": [
        "learn.unfreeze()"
      ],
      "execution_count": 0,
      "outputs": []
    },
    {
      "metadata": {
        "id": "saXP59EaQsRP",
        "colab_type": "code",
        "colab": {}
      },
      "cell_type": "code",
      "source": [
        "from fastai.callbacks import SaveModelCallback"
      ],
      "execution_count": 0,
      "outputs": []
    },
    {
      "metadata": {
        "id": "YIG2pLEkQsRQ",
        "colab_type": "code",
        "outputId": "306e5252-d2a5-45bc-e0f8-7b95ebd3ae37",
        "colab": {}
      },
      "cell_type": "code",
      "source": [
        "learn.fit_one_cycle(10, 1e-3, moms=(0.8, 0.7), \n",
        "                    callbacks=[SaveModelCallback(learn, name='best_kinopoisk')])"
      ],
      "execution_count": 0,
      "outputs": [
        {
          "output_type": "display_data",
          "data": {
            "text/html": [
              "Total time: 5:38:57 <p><table border=\"1\" class=\"dataframe\">\n",
              "  <thead>\n",
              "    <tr style=\"text-align: left;\">\n",
              "      <th>epoch</th>\n",
              "      <th>train_loss</th>\n",
              "      <th>valid_loss</th>\n",
              "      <th>accuracy</th>\n",
              "      <th>time</th>\n",
              "    </tr>\n",
              "  </thead>\n",
              "  <tbody>\n",
              "    <tr>\n",
              "      <td>0</td>\n",
              "      <td>4.374048</td>\n",
              "      <td>3.758804</td>\n",
              "      <td>0.300000</td>\n",
              "      <td>33:44</td>\n",
              "    </tr>\n",
              "    <tr>\n",
              "      <td>1</td>\n",
              "      <td>4.262966</td>\n",
              "      <td>3.546897</td>\n",
              "      <td>0.328571</td>\n",
              "      <td>33:48</td>\n",
              "    </tr>\n",
              "    <tr>\n",
              "      <td>2</td>\n",
              "      <td>4.226732</td>\n",
              "      <td>3.489769</td>\n",
              "      <td>0.371429</td>\n",
              "      <td>33:50</td>\n",
              "    </tr>\n",
              "    <tr>\n",
              "      <td>3</td>\n",
              "      <td>4.159681</td>\n",
              "      <td>3.341416</td>\n",
              "      <td>0.385714</td>\n",
              "      <td>33:52</td>\n",
              "    </tr>\n",
              "    <tr>\n",
              "      <td>4</td>\n",
              "      <td>4.098773</td>\n",
              "      <td>3.390381</td>\n",
              "      <td>0.371429</td>\n",
              "      <td>33:54</td>\n",
              "    </tr>\n",
              "    <tr>\n",
              "      <td>5</td>\n",
              "      <td>4.072806</td>\n",
              "      <td>3.288219</td>\n",
              "      <td>0.385714</td>\n",
              "      <td>33:53</td>\n",
              "    </tr>\n",
              "    <tr>\n",
              "      <td>6</td>\n",
              "      <td>4.043604</td>\n",
              "      <td>3.259739</td>\n",
              "      <td>0.371429</td>\n",
              "      <td>33:55</td>\n",
              "    </tr>\n",
              "    <tr>\n",
              "      <td>7</td>\n",
              "      <td>3.992717</td>\n",
              "      <td>3.264781</td>\n",
              "      <td>0.400000</td>\n",
              "      <td>33:54</td>\n",
              "    </tr>\n",
              "    <tr>\n",
              "      <td>8</td>\n",
              "      <td>3.968031</td>\n",
              "      <td>3.251725</td>\n",
              "      <td>0.371429</td>\n",
              "      <td>33:55</td>\n",
              "    </tr>\n",
              "    <tr>\n",
              "      <td>9</td>\n",
              "      <td>3.943636</td>\n",
              "      <td>3.248332</td>\n",
              "      <td>0.385714</td>\n",
              "      <td>33:54</td>\n",
              "    </tr>\n",
              "  </tbody>\n",
              "</table>"
            ],
            "text/plain": [
              "<IPython.core.display.HTML object>"
            ]
          },
          "metadata": {
            "tags": []
          }
        },
        {
          "output_type": "stream",
          "text": [
            "Better model found at epoch 0 with val_loss value: 3.7588043212890625.\n",
            "Better model found at epoch 1 with val_loss value: 3.5468966960906982.\n",
            "Better model found at epoch 2 with val_loss value: 3.489769220352173.\n",
            "Better model found at epoch 3 with val_loss value: 3.341416358947754.\n",
            "Better model found at epoch 5 with val_loss value: 3.2882192134857178.\n",
            "Better model found at epoch 6 with val_loss value: 3.2597389221191406.\n",
            "Better model found at epoch 8 with val_loss value: 3.251725435256958.\n",
            "Better model found at epoch 9 with val_loss value: 3.2483322620391846.\n"
          ],
          "name": "stdout"
        }
      ]
    },
    {
      "metadata": {
        "id": "I1lM-UCOQsRT",
        "colab_type": "code",
        "colab": {}
      },
      "cell_type": "code",
      "source": [
        "learn.save('kinopoisk_tuned')"
      ],
      "execution_count": 0,
      "outputs": []
    },
    {
      "metadata": {
        "id": "ErNnF_NeQsRZ",
        "colab_type": "code",
        "colab": {}
      },
      "cell_type": "code",
      "source": [
        "learn.load('kinopoisk_tuned');"
      ],
      "execution_count": 0,
      "outputs": []
    },
    {
      "metadata": {
        "id": "Mt3p1-i8_Kyc",
        "colab_type": "text"
      },
      "cell_type": "markdown",
      "source": [
        "Качество языковой модели измеряется такой метрикой, как перплексия. В данном случае ее можно посчитать, если взять экспоненту от величины функции потерь на валидационной выборке. Чем меньше перплексия, тем лучше"
      ]
    },
    {
      "metadata": {
        "id": "xi93gXyV-yLn",
        "colab_type": "code",
        "colab": {
          "base_uri": "https://localhost:8080/",
          "height": 35
        },
        "outputId": "c3de2057-6261-4596-c713-d7c9b93efd6c"
      },
      "cell_type": "code",
      "source": [
        "np.exp(3.248332)"
      ],
      "execution_count": 29,
      "outputs": [
        {
          "output_type": "execute_result",
          "data": {
            "text/plain": [
              "25.74735748752309"
            ]
          },
          "metadata": {
            "tags": []
          },
          "execution_count": 29
        }
      ]
    },
    {
      "metadata": {
        "id": "E2JVMiWl4nYE",
        "colab_type": "text"
      },
      "cell_type": "markdown",
      "source": [
        "Если продолжить обучать модель за один цикл, то loss будет расти"
      ]
    },
    {
      "metadata": {
        "id": "XFMqOxBDQsRc",
        "colab_type": "code",
        "outputId": "24c38379-ef94-4edc-f540-537a4104d527",
        "colab": {}
      },
      "cell_type": "code",
      "source": [
        "learn.fit_one_cycle(1, 1e-3, moms=(0.8, 0.7))"
      ],
      "execution_count": 0,
      "outputs": [
        {
          "output_type": "display_data",
          "data": {
            "text/html": [
              "Total time: 30:28 <p><table border=\"1\" class=\"dataframe\">\n",
              "  <thead>\n",
              "    <tr style=\"text-align: left;\">\n",
              "      <th>epoch</th>\n",
              "      <th>train_loss</th>\n",
              "      <th>valid_loss</th>\n",
              "      <th>accuracy</th>\n",
              "      <th>time</th>\n",
              "    </tr>\n",
              "  </thead>\n",
              "  <tbody>\n",
              "    <tr>\n",
              "      <td>0</td>\n",
              "      <td>3.978713</td>\n",
              "      <td>3.911488</td>\n",
              "      <td>0.338658</td>\n",
              "      <td>30:28</td>\n",
              "    </tr>\n",
              "  </tbody>\n",
              "</table>"
            ],
            "text/plain": [
              "<IPython.core.display.HTML object>"
            ]
          },
          "metadata": {
            "tags": []
          }
        }
      ]
    },
    {
      "metadata": {
        "id": "gGGgcMnGQsRr",
        "colab_type": "text"
      },
      "cell_type": "markdown",
      "source": [
        "Сохраняем Encoder"
      ]
    },
    {
      "metadata": {
        "id": "FNHMcM7LQsRs",
        "colab_type": "code",
        "colab": {}
      },
      "cell_type": "code",
      "source": [
        "learn.save_encoder('kinopoisk_tuned_enc')"
      ],
      "execution_count": 0,
      "outputs": []
    },
    {
      "metadata": {
        "id": "n1L0h8veiZSr",
        "colab_type": "text"
      },
      "cell_type": "markdown",
      "source": [
        "## Загружаем предобученную модель"
      ]
    },
    {
      "metadata": {
        "id": "2EO-1eqa9SEi",
        "colab_type": "text"
      },
      "cell_type": "markdown",
      "source": [
        "А теперь загрузим уже обученную на отзывах модель и поэкспериментируем с ней"
      ]
    },
    {
      "metadata": {
        "id": "vivsPsYrhe7a",
        "colab_type": "code",
        "colab": {}
      },
      "cell_type": "code",
      "source": [
        "learn = language_model_learner(data, arch=AWD_LSTM, pretrained=False, pretrained_fnames=('kinopoisk_tuned', 'kinopoisk_lm_vocab'), path=ROOT_PATH/'kinopoisk')"
      ],
      "execution_count": 0,
      "outputs": []
    },
    {
      "metadata": {
        "id": "bLPjMAwZkese",
        "colab_type": "text"
      },
      "cell_type": "markdown",
      "source": [
        "Посмотрим как работает предсказание"
      ]
    },
    {
      "metadata": {
        "id": "hsiPW-WQ9kpd",
        "colab_type": "code",
        "colab": {
          "base_uri": "https://localhost:8080/",
          "height": 109
        },
        "outputId": "40800675-50ac-40fc-9570-acb2dd131747"
      },
      "cell_type": "code",
      "source": [
        "TEXT = \"полный эффект присутствия\"\n",
        "N_WORDS = 60\n",
        "N_SENTENCES = 2\n",
        "\n",
        "print(\"\\n\".join(learn.predict(TEXT, N_WORDS, temperature=0.95) for _ in range(N_SENTENCES)))"
      ],
      "execution_count": 27,
      "outputs": [
        {
          "output_type": "stream",
          "text": [
            "полный эффект присутствия у фильма . он хорош , Сказать , что фильм плохой , просто нельзя . в конце концов , он не производит впечатление , взгляд пьюрфой и всё . Фильм , снятый для того , чтобы расслабиться и посмеяться . Много крови , ненависти , море крови и составляют отличный актерский состав . \r \n",
            " \r \n",
            "  При просмотре\n",
            "полный эффект присутствия - браво режиссеру , художнику и съемочной группе ! Немного по - другому , фильм просто великолепен ! Потрясающая - картинка , картинка , местами немного квантовой физики сцены с красивыми видами и просто невероятные декорации Мексике : намекают на то , что эффекты здесь подобраны действительно на уровне . Сюжет - созданный в 1993 году\n"
          ],
          "name": "stdout"
        }
      ]
    },
    {
      "metadata": {
        "id": "pnhUmR_gDwfL",
        "colab_type": "code",
        "outputId": "651c1dc1-8fae-4333-825b-cc7fe94f2b47",
        "colab": {
          "base_uri": "https://localhost:8080/",
          "height": 73
        }
      },
      "cell_type": "code",
      "source": [
        "TEXT = \"полный эффект присутствия\"\n",
        "N_WORDS = 60\n",
        "N_SENTENCES = 2\n",
        "\n",
        "print(\"\\n\".join(learn.predict(TEXT, N_WORDS, temperature=0.75) for _ in range(N_SENTENCES)))"
      ],
      "execution_count": 0,
      "outputs": [
        {
          "output_type": "stream",
          "text": [
            "полный эффект присутствия , масштабный и пугающий фильм , который будет следовать всем канонам жанра , интрига , компьютерная графика . История о Бэтмене , которая вновь и вновь знакомит нас с героиней Мэгги Джилленхол ( Энн Хэтэуэй ) . Перед нами предстаёт Джокер , в которого влюбился Джокер , и его сюжет полностью\n",
            "полный эффект присутствия . Мрачный , жестокий , с интересными диалогами , захватывающий сюжет , колоритные персонажи , красивые костюмы и мрачные декорации . Но это уже не тот фильм , на который я пошёл в кино ... Пожалуй , это один из самых лучших фильмов , которые я видел . Жаль , что не вышел . Это\n"
          ],
          "name": "stdout"
        }
      ]
    },
    {
      "metadata": {
        "id": "WzB6P11pQsRu",
        "colab_type": "code",
        "outputId": "07cb8530-d04f-4397-b608-999573759814",
        "colab": {}
      },
      "cell_type": "code",
      "source": [
        "TEXT = \"полный эффект присутствия\"\n",
        "N_WORDS = 40\n",
        "N_SENTENCES = 2\n",
        "\n",
        "print(\"\\n\".join(learn.predict(TEXT, N_WORDS, temperature=0.75) for _ in range(N_SENTENCES)))"
      ],
      "execution_count": 0,
      "outputs": [
        {
          "output_type": "stream",
          "text": [
            "полный эффект присутствия . Не зря же Питер Джексон на самом деле является режиссером этого фильма , но режиссер Питер Джексон , священник , которого я не видел после просмотра фильма , не смог меня удивить .\n",
            "полный эффект присутствия . Фильм невероятно яркий , интригующий , не претендующий на звание шедевра , но , на мой взгляд , такой же забавный и линейный . Говоря откровенно , он оправдал все ожидания , и в первую очередь ,\n"
          ],
          "name": "stdout"
        }
      ]
    },
    {
      "metadata": {
        "id": "4fHmYJZlQsRz",
        "colab_type": "text"
      },
      "cell_type": "markdown",
      "source": [
        "Речь стала намного более связной!"
      ]
    },
    {
      "metadata": {
        "id": "4plOC7a7_0PX",
        "colab_type": "code",
        "colab": {
          "base_uri": "https://localhost:8080/",
          "height": 145
        },
        "outputId": "7fc4470a-42bb-4420-8bce-d3c76e8ab8a2"
      },
      "cell_type": "code",
      "source": [
        "\n",
        "TEXT = \"фильм полностью оправдал\"\n",
        "N_WORDS = 90\n",
        "N_SENTENCES = 2\n",
        "\n",
        "print(\"\\n\".join(learn.predict(TEXT, N_WORDS, temperature=0.75) for _ in range(N_SENTENCES)))"
      ],
      "execution_count": 30,
      "outputs": [
        {
          "output_type": "stream",
          "text": [
            "фильм полностью оправдал мои ожидания . Нельзя не сказать про этот фильм . \r \n",
            " \r \n",
            "  Во - первых , это история о том , как группа молодых людей сталкивается с поведением тревоги на глазах у человека , у которого есть свои вот такие трудности , как непонимание друг друга , борьба за права близких , перед тем , как стать хорошим человеком . \r \n",
            " \r \n",
            "  Во - вторых , это замечательный фильм о любви , о том на что можно пойти ради любви к своей матери . Такое кино , особенно\n",
            "фильм полностью оправдал мои ожидания . После просмотра остались приятные воспоминания , и вновь начинаешь думать , что это не так , но не верится , что в фильме этого не мало . Сюжет довольно простой . Например , в фильме две семьи : Кэти и Джулия . Но если Шон просит Кэти ' уехать ' с ним , то Кэти не может найти себя в этом мире . Она пытается найти ее и стать красивой . Но в то же время\n"
          ],
          "name": "stdout"
        }
      ]
    },
    {
      "metadata": {
        "id": "TSHtgbHqQsRz",
        "colab_type": "code",
        "outputId": "5eaf1527-7fb6-4807-b962-92deb137f2f6",
        "colab": {}
      },
      "cell_type": "code",
      "source": [
        "TEXT = \"фильм полностью оправдал\"\n",
        "N_WORDS = 90\n",
        "N_SENTENCES = 2\n",
        "\n",
        "print(\"\\n\".join(learn.predict(TEXT, N_WORDS, temperature=0.75) for _ in range(N_SENTENCES)))"
      ],
      "execution_count": 0,
      "outputs": [
        {
          "output_type": "stream",
          "text": [
            "фильм полностью оправдал мои ожидания . Просто замечательно . \r \n",
            " \r \n",
            "  Отличный подбор актёров на главную роль . Весь фильм построен на диалогах : одни и те же . Очень понравился тот момент , когда Кристиан Бэйл играет Тома Харди . Кто же будет смотреть на Бэйла ? Он сыграл того самого полицейского , который играл в фильмах , но в целом сыграл в этом фильме не хуже самого Бэйла . Он настолько тираном , что даже не верится , что\n",
            "фильм полностью оправдал мои ожидания . Не зря я увидела ' Очень страшное кино ' и посмотрела его в одном из новостей . \r \n",
            " \r \n",
            "  Фильм получился очень смешным и забавным , хоть и сам его оставил после себя двойственное впечатление . Конечно , фанаты Вы не пожалеете о потраченном времени , но тем не менее советую посмотреть ! \r \n",
            " \r \n",
            "  10 из 10 xxbos Картина повествует о предысторию , связанной с началом войны в Ираке , когда данный фильм стал классикой американского кинематографа . Картина «\n"
          ],
          "name": "stdout"
        }
      ]
    },
    {
      "metadata": {
        "id": "ZszpidiHQsR5",
        "colab_type": "code",
        "outputId": "d3600aaf-3d48-4cc4-d143-e53148848ce3",
        "colab": {}
      },
      "cell_type": "code",
      "source": [
        "TEXT = \"могло быть и\"\n",
        "N_WORDS = 90\n",
        "N_SENTENCES = 2\n",
        "\n",
        "print(\"\\n\".join(learn.predict(TEXT, N_WORDS, temperature=0.75) for _ in range(N_SENTENCES)))"
      ],
      "execution_count": 0,
      "outputs": [
        {
          "output_type": "stream",
          "text": [
            "могло быть и лучше , но дело даже не в том , что Марк Уэбб полностью оправдал свое ' Отель Гранд Будапешт ' , он по моему мнению не очень качественно копирует комикс - первоисточник , для которого нет ничего невозможного , даже если он не является ' Большому Гарри ' , то в нём как бы можно было бы поменять жанр , и назвать его лучшим фильмом режиссера . \r \n",
            " \r \n",
            "  Именно из - за Тоби Магуайра в фильме ' Человек -\n",
            "могло быть и лучше . Не лучше . \r \n",
            " \r \n",
            "  Но , несмотря на все плюсы , я не могу сказать , что остался доволен . Да , это не фильм ужасов , а скорее не о войне , а о войне . Это странная , страшная , жизненная драма . Но , боюсь , именно этот фильм о том , что такое война , что могут быть другие люди . а еще есть девушка , которую надо убить , чтобы она не любила и не желает заниматься любимым\n"
          ],
          "name": "stdout"
        }
      ]
    },
    {
      "metadata": {
        "id": "H1TcL9HwQsR7",
        "colab_type": "code",
        "outputId": "b7a3aa09-d138-4a99-be1d-0b4dff3ebe0a",
        "colab": {}
      },
      "cell_type": "code",
      "source": [
        "TEXT = \"самый настоящий провал\"\n",
        "N_WORDS = 60\n",
        "N_SENTENCES = 2\n",
        "\n",
        "print(\"\\n\".join(learn.predict(TEXT, N_WORDS, temperature=0.75) for _ in range(N_SENTENCES)))"
      ],
      "execution_count": 0,
      "outputs": [
        {
          "output_type": "stream",
          "text": [
            "самый настоящий провал , который я так и не понял . На мой взгляд , это одна из самых ожидаемых картин на эту тематику ! \r \n",
            " \r \n",
            "  Начну с того , что фильм , конечно , не скучный , но и не новый . По правде , Marvel - это единственная , вина , которая может быть интересна мне в\n",
            "самый настоящий провал этого фильма ! Если честно , не ожидал , что это очередная пародия на ту же ' Ночь в музее ' , но в последние годы таким фильмам не хватало одного из лучших фильмов , а на такой ' шедевр ' стоит сходить . По - моему , комиксы тут очень и очень хороши . Также\n"
          ],
          "name": "stdout"
        }
      ]
    },
    {
      "metadata": {
        "id": "LME33InGQsSo",
        "colab_type": "text"
      },
      "cell_type": "markdown",
      "source": [
        "# Классификация отзывов с Кинопоиска"
      ]
    },
    {
      "metadata": {
        "id": "9_glqglAEMkS",
        "colab_type": "text"
      },
      "cell_type": "markdown",
      "source": [
        "## Подготовка данных"
      ]
    },
    {
      "metadata": {
        "id": "B_OcABx5QsSt",
        "colab_type": "code",
        "colab": {}
      },
      "cell_type": "code",
      "source": [
        "bs = 48\n"
      ],
      "execution_count": 0,
      "outputs": []
    },
    {
      "metadata": {
        "id": "qmcBUMpf5miV",
        "colab_type": "text"
      },
      "cell_type": "markdown",
      "source": [
        "Важно, чтобы словарь, используемый для классификатора, \n",
        "в точности **совпадал со словарем**, который использовалася на этапе обучения **языковой модели**"
      ]
    },
    {
      "metadata": {
        "id": "zVMrqsGTpY9l",
        "colab_type": "code",
        "colab": {}
      },
      "cell_type": "code",
      "source": [
        "vocab = Vocab.load(ROOT_PATH/'kinopoisk'/'models'/'kinopoisk_lm_vocab.pkl')"
      ],
      "execution_count": 0,
      "outputs": []
    },
    {
      "metadata": {
        "id": "lQeQhB0XACW8",
        "colab_type": "code",
        "colab": {}
      },
      "cell_type": "code",
      "source": [
        "# если у вас уже загрузены данные языковой модели, то можно сделать\n",
        "# vocab = data.vocab"
      ],
      "execution_count": 0,
      "outputs": []
    },
    {
      "metadata": {
        "id": "9FEFTr-Mp5kV",
        "colab_type": "code",
        "colab": {}
      },
      "cell_type": "code",
      "source": [
        "data_clas = (TextList.from_df(df_all, cols='reviewBody', vocab=vocab)\n",
        "             .split_from_df('valid')\n",
        "             .label_from_df(cols='status')\n",
        "             .databunch(bs=bs))"
      ],
      "execution_count": 0,
      "outputs": []
    },
    {
      "metadata": {
        "id": "n6vLyReilH2b",
        "colab_type": "code",
        "colab": {}
      },
      "cell_type": "code",
      "source": [
        "data_clas.save(DATA_PATH/'kinopoisk_clas_data.pkl')"
      ],
      "execution_count": 0,
      "outputs": []
    },
    {
      "metadata": {
        "id": "6T3qUA7hQsSw",
        "colab_type": "code",
        "colab": {}
      },
      "cell_type": "code",
      "source": [
        "data_clas = load_data(DATA_PATH, \"kinopoisk_clas_data.pkl\", bs)"
      ],
      "execution_count": 0,
      "outputs": []
    },
    {
      "metadata": {
        "id": "duZ7fKGwQsTA",
        "colab_type": "text"
      },
      "cell_type": "markdown",
      "source": [
        "А теперь создадим классификатор"
      ]
    },
    {
      "metadata": {
        "id": "tEbDdB4XQsTB",
        "colab_type": "code",
        "colab": {}
      },
      "cell_type": "code",
      "source": [
        "learn = text_classifier_learner(data_clas, AWD_LSTM, drop_mult=0.5, path=ROOT_PATH/'kinopoisk', pretrained=False)\n",
        "# Загружаем предварительно обученный encoder\n",
        "learn.load_encoder('kinopoisk_tuned_enc')"
      ],
      "execution_count": 0,
      "outputs": []
    },
    {
      "metadata": {
        "id": "K3KV7jUGQsTD",
        "colab_type": "text"
      },
      "cell_type": "markdown",
      "source": [
        "## Обучаем классификатор"
      ]
    },
    {
      "metadata": {
        "id": "9iURDjsyNGYs",
        "colab_type": "text"
      },
      "cell_type": "markdown",
      "source": [
        "Пожалуйста, найдите оптимальный learning rate и обучите модель один цикл этим learning rate с параметром `moms=(0.8, 0.7)`"
      ]
    },
    {
      "metadata": {
        "id": "7OcT7_9qNfS-",
        "colab_type": "code",
        "colab": {}
      },
      "cell_type": "code",
      "source": [
        ""
      ],
      "execution_count": 0,
      "outputs": []
    },
    {
      "metadata": {
        "id": "1Loo7V3_Ngaq",
        "colab_type": "code",
        "colab": {}
      },
      "cell_type": "code",
      "source": [
        ""
      ],
      "execution_count": 0,
      "outputs": []
    },
    {
      "metadata": {
        "id": "IMuAHjXBNg62",
        "colab_type": "code",
        "colab": {}
      },
      "cell_type": "code",
      "source": [
        ""
      ],
      "execution_count": 0,
      "outputs": []
    },
    {
      "metadata": {
        "id": "J9VDZbC6VxLE",
        "colab_type": "text"
      },
      "cell_type": "markdown",
      "source": [
        "Сохраните полученную модель под именем 'kp_first'"
      ]
    },
    {
      "metadata": {
        "id": "3xgjcRgkQsTK",
        "colab_type": "code",
        "colab": {}
      },
      "cell_type": "code",
      "source": [
        ""
      ],
      "execution_count": 0,
      "outputs": []
    },
    {
      "metadata": {
        "id": "mN8wR6BUQsTN",
        "colab_type": "code",
        "colab": {}
      },
      "cell_type": "code",
      "source": [
        ""
      ],
      "execution_count": 0,
      "outputs": []
    },
    {
      "metadata": {
        "id": "h56GBsEfbQuO",
        "colab_type": "code",
        "colab": {}
      },
      "cell_type": "code",
      "source": [
        ""
      ],
      "execution_count": 0,
      "outputs": []
    },
    {
      "metadata": {
        "id": "VX3yQv3yQsTP",
        "colab_type": "text"
      },
      "cell_type": "markdown",
      "source": [
        "А теперь мы продолжаем размораживать слои, обучая их \"по очереди\", начиная с конца.\n",
        "\n",
        "Мы не хотим сразу разрушить хрупкую структуру Encoder-a, который был обучен на предыдущем шаге."
      ]
    },
    {
      "metadata": {
        "id": "xcNC9FVfQsTP",
        "colab_type": "code",
        "outputId": "60806a60-b421-46df-c7a1-643a91724023",
        "colab": {}
      },
      "cell_type": "code",
      "source": [
        "learn.freeze_to(-2)\n",
        "learn.fit_one_cycle(1, slice(3e-2/(2.6**4),3e-2), moms=(0.8,0.7))"
      ],
      "execution_count": 0,
      "outputs": [
        {
          "output_type": "display_data",
          "data": {
            "text/html": [
              "Total time: 04:16 <p><table border=\"1\" class=\"dataframe\">\n",
              "  <thead>\n",
              "    <tr style=\"text-align: left;\">\n",
              "      <th>epoch</th>\n",
              "      <th>train_loss</th>\n",
              "      <th>valid_loss</th>\n",
              "      <th>accuracy</th>\n",
              "      <th>time</th>\n",
              "    </tr>\n",
              "  </thead>\n",
              "  <tbody>\n",
              "    <tr>\n",
              "      <td>0</td>\n",
              "      <td>0.184148</td>\n",
              "      <td>0.117084</td>\n",
              "      <td>0.958722</td>\n",
              "      <td>04:16</td>\n",
              "    </tr>\n",
              "  </tbody>\n",
              "</table>"
            ],
            "text/plain": [
              "<IPython.core.display.HTML object>"
            ]
          },
          "metadata": {
            "tags": []
          }
        }
      ]
    },
    {
      "metadata": {
        "id": "HGam81FoQsTS",
        "colab_type": "code",
        "colab": {}
      },
      "cell_type": "code",
      "source": [
        "learn.save('kp_second')"
      ],
      "execution_count": 0,
      "outputs": []
    },
    {
      "metadata": {
        "id": "mz_QMx3kQsTV",
        "colab_type": "code",
        "colab": {}
      },
      "cell_type": "code",
      "source": [
        "learn.load('kp_second');"
      ],
      "execution_count": 0,
      "outputs": []
    },
    {
      "metadata": {
        "id": "xapMPSqTQsTV",
        "colab_type": "text"
      },
      "cell_type": "markdown",
      "source": [
        "Продолжаем обучать модель, размораживая следующие слои"
      ]
    },
    {
      "metadata": {
        "id": "7hmwHisLQsTW",
        "colab_type": "code",
        "outputId": "b9d321d2-dc15-4f34-e2e5-fc955b3293d5",
        "colab": {}
      },
      "cell_type": "code",
      "source": [
        "learn.freeze_to(-3)\n",
        "learn.fit_one_cycle(1, slice(5e-3/(2.6**4),5e-3), moms=(0.8,0.7))"
      ],
      "execution_count": 0,
      "outputs": [
        {
          "output_type": "display_data",
          "data": {
            "text/html": [
              "Total time: 06:24 <p><table border=\"1\" class=\"dataframe\">\n",
              "  <thead>\n",
              "    <tr style=\"text-align: left;\">\n",
              "      <th>epoch</th>\n",
              "      <th>train_loss</th>\n",
              "      <th>valid_loss</th>\n",
              "      <th>accuracy</th>\n",
              "      <th>time</th>\n",
              "    </tr>\n",
              "  </thead>\n",
              "  <tbody>\n",
              "    <tr>\n",
              "      <td>0</td>\n",
              "      <td>0.141272</td>\n",
              "      <td>0.106738</td>\n",
              "      <td>0.960053</td>\n",
              "      <td>06:24</td>\n",
              "    </tr>\n",
              "  </tbody>\n",
              "</table>"
            ],
            "text/plain": [
              "<IPython.core.display.HTML object>"
            ]
          },
          "metadata": {
            "tags": []
          }
        }
      ]
    },
    {
      "metadata": {
        "id": "7KonfQ91QsTY",
        "colab_type": "code",
        "colab": {}
      },
      "cell_type": "code",
      "source": [
        "learn.save('kp_third')"
      ],
      "execution_count": 0,
      "outputs": []
    },
    {
      "metadata": {
        "id": "nrxwEdJ8QsTZ",
        "colab_type": "code",
        "colab": {}
      },
      "cell_type": "code",
      "source": [
        "learn.load('kp_third');"
      ],
      "execution_count": 0,
      "outputs": []
    },
    {
      "metadata": {
        "id": "OGm9wm7SQsTa",
        "colab_type": "code",
        "outputId": "6b4521a7-6378-479f-8c5a-3287fcd44714",
        "colab": {}
      },
      "cell_type": "code",
      "source": [
        "learn.unfreeze()\n",
        "learn.fit_one_cycle(1, slice(1e-3/(2.6**4),1e-3), moms=(0.8,0.7))"
      ],
      "execution_count": 0,
      "outputs": [
        {
          "output_type": "display_data",
          "data": {
            "text/html": [
              "Total time: 08:03 <p><table border=\"1\" class=\"dataframe\">\n",
              "  <thead>\n",
              "    <tr style=\"text-align: left;\">\n",
              "      <th>epoch</th>\n",
              "      <th>train_loss</th>\n",
              "      <th>valid_loss</th>\n",
              "      <th>accuracy</th>\n",
              "      <th>time</th>\n",
              "    </tr>\n",
              "  </thead>\n",
              "  <tbody>\n",
              "    <tr>\n",
              "      <td>0</td>\n",
              "      <td>0.111156</td>\n",
              "      <td>0.106131</td>\n",
              "      <td>0.958189</td>\n",
              "      <td>08:03</td>\n",
              "    </tr>\n",
              "  </tbody>\n",
              "</table>"
            ],
            "text/plain": [
              "<IPython.core.display.HTML object>"
            ]
          },
          "metadata": {
            "tags": []
          }
        }
      ]
    },
    {
      "metadata": {
        "id": "IZ3U0bd4EidH",
        "colab_type": "text"
      },
      "cell_type": "markdown",
      "source": [
        "Мы натренировали нашу сеть, которая **с высокой точностью (96%)** определяет \"тональность\" отзыва"
      ]
    },
    {
      "metadata": {
        "id": "5gAqyfdkQsTb",
        "colab_type": "text"
      },
      "cell_type": "markdown",
      "source": [
        "Можно загрузить уже обученный заранее классификатор:"
      ]
    },
    {
      "metadata": {
        "id": "NveHoNKSQsTc",
        "colab_type": "code",
        "colab": {}
      },
      "cell_type": "code",
      "source": [
        "learn.load('kinopoisk_clas_tuned');"
      ],
      "execution_count": 0,
      "outputs": []
    },
    {
      "metadata": {
        "id": "PsShKOY3QsTe",
        "colab_type": "text"
      },
      "cell_type": "markdown",
      "source": [
        "Давайте проверим ее на случайном отызыве с кинопоиска"
      ]
    },
    {
      "metadata": {
        "id": "2Yjl1KaOXDzb",
        "colab_type": "code",
        "outputId": "f788d0b2-c562-426c-ef07-39b57aed65eb",
        "colab": {
          "base_uri": "https://localhost:8080/",
          "height": 35
        }
      },
      "cell_type": "code",
      "source": [
        "# Пример положительного отзыва\n",
        "\n",
        "learn.predict('''\n",
        "«Балканский рубеж» в некотором роде уникальный фильм для нашего синематографа последнего времени. И вот почему, с одной стороны мы снимаем по лекалам телефильмов о доблестном спецназе кино, которое при прочих равных прошло бы более или менее не замеченным, а с другой стороны обозначаем проблему сосуществования народов и этнических войн на территории бывшей Югославии. К данной теме я вообще не равнодушен и было интересно взглянуть, как отечественный режиссер покажет эти моменты. И получилось совсем не плохо, по крайней мере, у меня не возникает чувства непонимания, что происходило в Боснии и Косово. Да, широкими мазками обозначена проблема, зато доходчиво донесено, что испытывали простые люди при развале страны. \n",
        "\n",
        "После конфликта во взаимодействии с силами НАТО, члены разведовательно — диверсионной группы оказываются в непростой ситуации и вынуждены остаться вне пределов России. Каждый устраивается по своему в новой жизни и старается выжить. Но изменение вектора политической обстановки вновь делает их востребованными Отечеством. Надо занять и удержать аэропорт Приштины в Косово, до подхода российских миротворцев. Захват и удержание показаны в добротной манере отечественных сериалов, останавливаться на этом не буду, меня больше порадовали второстепенные линии сюжета. Возможно, сотрудничество с сербами сделали эти линии проникновенными с чисто человеческого восприятия. Это и драма в роддоме при налетах НАТО, и непростые отношения косоваров и сербов на примере полицейского поста в Косово, и этническо — конфессиональные расстрелы, и напряжение до срывов медработников от вида пострадавших — говорят война все спишет, это так. Только вот рубцов и ран в душах людей не излечит даже время, боль и горечь потерь близких и друзей долго будет жить в памяти. \n",
        "\n",
        "Переплетение реальных фактов и художественного вымысла неплохо сочеталось в этой ленте — марш-бросок на Приштину десантников удачно дополнил бой группы Бека, восторги сербов на кадрах хроники и киношные смотрелись органично. Что касается политических перипетий, то это дело грязное и идеологический контекст можно и пропустить при просмотре, хотя ничего нереального в показанном я не увидел. Порадовали показанные будни десантников, под «Сектор газа» смотрелось реалистично, вполне реальное развлечение для отвлечения от повседневной рутины.\n",
        "\n",
        "Актеры сыграли в целом нормально и наши и сербские, из наших мне понравились Куркова, Полухин и Марин, из сербов Гойко Митич, Бикович и Родойичич. Специфический юмор только усилил игру актеров. Кустурица в концовке тоже смотрелся к месту. В целом, не проявив чудес актерского мастерства все смотрелись не плохо. \n",
        "\n",
        "Минусы конечно есть и довольно жирные, в основном связаны с навязыванием определенного идеологического подтекста, и увы, незнанием особенностей службы в войсках специального назначения. Но в целом фильм они не уродуют, поэтому смело отношу его к положительным моментам нашего кинопроката.\n",
        "''')"
      ],
      "execution_count": 0,
      "outputs": [
        {
          "output_type": "execute_result",
          "data": {
            "text/plain": [
              "(Category good, tensor(1), tensor([0.0708, 0.9292]))"
            ]
          },
          "metadata": {
            "tags": []
          },
          "execution_count": 35
        }
      ]
    },
    {
      "metadata": {
        "id": "HBJXwCQ6QsTg",
        "colab_type": "code",
        "outputId": "7981eb86-d86f-48da-f618-f179b2969550",
        "colab": {
          "base_uri": "https://localhost:8080/",
          "height": 35
        }
      },
      "cell_type": "code",
      "source": [
        "# Пример отрицательного отзыва\n",
        "\n",
        "learn.predict('''\n",
        "Пусть видят, кто против них (с)\n",
        "\n",
        "В конце 90-ых, во время очередного конфликта между сербами и албанцами, российская спецгруппа, находящаяся на территории Югославии, получает приказ захватить местный аэропорт и удержать его до прихода наших миротворцев.\n",
        "\n",
        "Режиссер «Танцев насмерть» и «Спирали», посредственных, никому ненужных картин, Андрей Волгин на западе давно бы оказался у разбитого корыта и пошел бы на прорыв, получив последний шанс или вошел бы в какую-нибудь когорту создателей сериалов, где ты просто один из тех, кто визуализирует чужие идеи. У нас же все совершенно по-другому произошло… Волгин получил большой бюджет, материал и не самых последних актеров, и что же он из этого смастерил? Все самое наипростейшее… Мотивы героев, как и предсказуемость сюжетных ходов и выпрыгивания спецэффектов из-за ушла — все это уже миллион раз использованные другими ходы, причем и реализованные сверхстандартно и стерильно. Ведь если у тебя есть антагонист, то кроме как дать ему нож и возможность оправдать рейтинг 16+ — единственный вариант продемонстрировать его характер и жестокость. Так же и с другими героями, один поет, другой постоянно про пенсию говорит, третий хочет денег, а узбечка заглянула на проект в поисках мужика, так и работают. А зрителям еще нужно разбираться причем тут НАТО, кто виноват и что делать, в общем не считая плохих дорог здесь есть все классические вопросы, волнующие русских на протяжении веков.\n",
        "\n",
        "По какой-то совершенно непонятной причине главную роль в «Балканском рубеже» исполнил Антон Пампушный («Защитники») — парень, конечно, колоритный, но с одной эмоцией на лице на любое происшествие и действие в его (их) сторону. Странно видеть таким потерянным Милоша Биковича («Лед»), у него здесь ключевая драматическая роль, но он так все это преподносит, что хочется снять ему скальп ничуть не меньше, чем террористам, которые гоняются за ним. Красивую Милену Радулович («Однажды летней ночью») при любой возможности раздевают, а героиня Равшаны Курковой («Без границ») получилась не только крутой, но еще и с юморком. Одного из самых запоминающихся бойцов с нашей стороны сыграл Сергей Марин («Анна-детективъ»), его неоднозначности и крутости, могли бы позавидовать и заграничные коллеги. Для увесистости в фильм влились: Гоша Куценко («Параграф 78»), которому очень нравится собирать себе отряды, любимейший югослав старшего поколения Гойко Митич («Апачи») и вечный Эмир Кустурица («Время цыган»). \n",
        "\n",
        "Картина «Балканских рубеж» очевидно снята явно из хороших побуждений и желания сделать, что-то свое на уровне Бэя и его «13 часов». Главные герои — такие наши Джеймсы Бонды без фантастической составляющей. Но вот снят «Балканский рубеж» самым скучным и потребительским образом: с кучей слоу-мо, увидев его количество даже создатели «Т-34» тихо стоят и покуривать в сторонке, хотя попытку сыграть в масштаб и серьезность можно и зачесть. Правда дешевые спецэффекты и длиннющие диалоги с попыткой хоть как-то раскрыть героев портят этот и так слишком затянутый фильм с нелогичным кастингом и музыкой, которая убаюкивает зрителей постоянно повторяющимся мотивом.''')"
      ],
      "execution_count": 0,
      "outputs": [
        {
          "output_type": "execute_result",
          "data": {
            "text/plain": [
              "(Category bad, tensor(0), tensor([0.9820, 0.0180]))"
            ]
          },
          "metadata": {
            "tags": []
          },
          "execution_count": 36
        }
      ]
    },
    {
      "metadata": {
        "id": "yifpN_4UQsTh",
        "colab_type": "code",
        "outputId": "e8d1ff6e-b2f2-488a-a2f2-5e9a23169c17",
        "colab": {
          "base_uri": "https://localhost:8080/",
          "height": 35
        }
      },
      "cell_type": "code",
      "source": [
        "learn.predict('Очень хороший фильм')"
      ],
      "execution_count": 0,
      "outputs": [
        {
          "output_type": "execute_result",
          "data": {
            "text/plain": [
              "(Category good, tensor(1), tensor([0.0130, 0.9870]))"
            ]
          },
          "metadata": {
            "tags": []
          },
          "execution_count": 32
        }
      ]
    },
    {
      "metadata": {
        "id": "fshaEXqiQsTj",
        "colab_type": "code",
        "outputId": "b2296d7b-80a9-4c38-d408-3136f09f9200",
        "colab": {
          "base_uri": "https://localhost:8080/",
          "height": 35
        }
      },
      "cell_type": "code",
      "source": [
        "learn.predict('Почему то мне кажется, что фильм далек от идеала. Я бы не советовал его смотреть')"
      ],
      "execution_count": 0,
      "outputs": [
        {
          "output_type": "execute_result",
          "data": {
            "text/plain": [
              "(Category bad, tensor(0), tensor([0.9311, 0.0689]))"
            ]
          },
          "metadata": {
            "tags": []
          },
          "execution_count": 31
        }
      ]
    },
    {
      "metadata": {
        "id": "hwxel6_hQsTl",
        "colab_type": "code",
        "outputId": "690cbe0c-db30-402a-e76a-379d6d2487ab",
        "colab": {
          "base_uri": "https://localhost:8080/",
          "height": 35
        }
      },
      "cell_type": "code",
      "source": [
        "learn.predict('''\n",
        "              Фильм показался мне ужасным.\n",
        "              Это невероятное чувство плохой игры актеров.\n",
        "              Не рекомендую смотреть\n",
        "              ''')"
      ],
      "execution_count": 0,
      "outputs": [
        {
          "output_type": "execute_result",
          "data": {
            "text/plain": [
              "(Category bad, tensor(0), tensor([0.9855, 0.0145]))"
            ]
          },
          "metadata": {
            "tags": []
          },
          "execution_count": 30
        }
      ]
    },
    {
      "metadata": {
        "id": "TTLwhfHaQsTm",
        "colab_type": "code",
        "colab": {}
      },
      "cell_type": "code",
      "source": [
        ""
      ],
      "execution_count": 0,
      "outputs": []
    },
    {
      "metadata": {
        "id": "uovHi79XQsTo",
        "colab_type": "code",
        "outputId": "73b7d66a-2031-440e-8631-81796150d00a",
        "colab": {
          "base_uri": "https://localhost:8080/",
          "height": 35
        }
      },
      "cell_type": "code",
      "source": [
        "learn.predict(\"Лучший фильм, который я когда-либо смотрел!\")"
      ],
      "execution_count": 0,
      "outputs": [
        {
          "output_type": "execute_result",
          "data": {
            "text/plain": [
              "(Category good, tensor(1), tensor([0.2370, 0.7630]))"
            ]
          },
          "metadata": {
            "tags": []
          },
          "execution_count": 29
        }
      ]
    },
    {
      "metadata": {
        "id": "to0AeZEmQsTp",
        "colab_type": "code",
        "outputId": "ef149f72-3962-4b6d-b547-6d24fd0c1204",
        "colab": {
          "base_uri": "https://localhost:8080/",
          "height": 35
        }
      },
      "cell_type": "code",
      "source": [
        "learn.predict(\"Это худший фильм, который я когда-либо смотрел. Такие дела. Хотя может быть и стоит посмотреть фанатам\")"
      ],
      "execution_count": 0,
      "outputs": [
        {
          "output_type": "execute_result",
          "data": {
            "text/plain": [
              "(Category bad, tensor(0), tensor([0.9627, 0.0373]))"
            ]
          },
          "metadata": {
            "tags": []
          },
          "execution_count": 28
        }
      ]
    },
    {
      "metadata": {
        "id": "mVkoFGYFQsTq",
        "colab_type": "text"
      },
      "cell_type": "markdown",
      "source": [
        "## Интерпритируем результаты работы"
      ]
    },
    {
      "metadata": {
        "id": "yyZdbgjNQsTq",
        "colab_type": "code",
        "colab": {}
      },
      "cell_type": "code",
      "source": [
        "interp = ClassificationInterpretation.from_learner(learn)"
      ],
      "execution_count": 0,
      "outputs": []
    },
    {
      "metadata": {
        "id": "EzWWVZEaQsTr",
        "colab_type": "code",
        "outputId": "43e567a1-4103-43e1-e543-302d32149360",
        "colab": {
          "base_uri": "https://localhost:8080/",
          "height": 35
        }
      },
      "cell_type": "code",
      "source": [
        "losses,idxs = interp.top_losses()\n",
        "\n",
        "len(data_clas.valid_ds)==len(losses)==len(idxs)"
      ],
      "execution_count": 0,
      "outputs": [
        {
          "output_type": "execute_result",
          "data": {
            "text/plain": [
              "True"
            ]
          },
          "metadata": {
            "tags": []
          },
          "execution_count": 48
        }
      ]
    },
    {
      "metadata": {
        "id": "XcyhsF9JD3tD",
        "colab_type": "text"
      },
      "cell_type": "markdown",
      "source": [
        "Пары классов, которые сеть путает больше всего"
      ]
    },
    {
      "metadata": {
        "colab_type": "code",
        "outputId": "4b078fca-bbcd-4577-df22-ee03f6ba2726",
        "id": "rcsxoIvg8FcX",
        "colab": {
          "base_uri": "https://localhost:8080/",
          "height": 35
        }
      },
      "cell_type": "code",
      "source": [
        "interp.most_confused()"
      ],
      "execution_count": 0,
      "outputs": [
        {
          "output_type": "execute_result",
          "data": {
            "text/plain": [
              "[('bad', 'good', 74), ('good', 'bad', 44)]"
            ]
          },
          "metadata": {
            "tags": []
          },
          "execution_count": 49
        }
      ]
    },
    {
      "metadata": {
        "id": "B4jLsPNzEqRI",
        "colab_type": "code",
        "colab": {}
      },
      "cell_type": "code",
      "source": [
        ""
      ],
      "execution_count": 0,
      "outputs": []
    },
    {
      "metadata": {
        "id": "jzEtcr2YDtpe",
        "colab_type": "text"
      },
      "cell_type": "markdown",
      "source": [
        "Посмотрим на матрицу ошибок:"
      ]
    },
    {
      "metadata": {
        "id": "rYjXNFXqQsTt",
        "colab_type": "code",
        "outputId": "5b7f222b-1b29-4806-8a08-1a47f4f6d4c5",
        "colab": {
          "base_uri": "https://localhost:8080/",
          "height": 585
        }
      },
      "cell_type": "code",
      "source": [
        "interp.plot_confusion_matrix(figsize=(7,7), dpi=80)"
      ],
      "execution_count": 0,
      "outputs": [
        {
          "output_type": "display_data",
          "data": {
            "image/png": "[encoded data removed]",
            "text/plain": [
              "<Figure size 560x560 with 1 Axes>"
            ]
          },
          "metadata": {
            "tags": []
          }
        }
      ]
    },
    {
      "metadata": {
        "id": "TBiQQI2OQsTu",
        "colab_type": "code",
        "outputId": "50c79655-ab0e-4c78-cb44-6e443331f68d",
        "colab": {
          "base_uri": "https://localhost:8080/",
          "height": 35
        }
      },
      "cell_type": "code",
      "source": [
        "learn.predict('Это ужасный фильм. И как это я мог такое смотреть? Крайне не рекомендую')"
      ],
      "execution_count": 0,
      "outputs": [
        {
          "output_type": "execute_result",
          "data": {
            "text/plain": [
              "(Category bad, tensor(0), tensor([9.9927e-01, 7.3213e-04]))"
            ]
          },
          "metadata": {
            "tags": []
          },
          "execution_count": 27
        }
      ]
    },
    {
      "metadata": {
        "id": "lH9aBarOqmsi",
        "colab_type": "code",
        "colab": {}
      },
      "cell_type": "code",
      "source": [
        ""
      ],
      "execution_count": 0,
      "outputs": []
    }
  ]
}