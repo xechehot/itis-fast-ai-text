{
 "cells": [
  {
   "cell_type": "markdown",
   "metadata": {},
   "source": [
    "# Kinopoisk"
   ]
  },
  {
   "cell_type": "code",
   "execution_count": 1,
   "metadata": {
    "collapsed": true
   },
   "outputs": [],
   "source": [
    "%reload_ext autoreload\n",
    "%autoreload 2\n",
    "%matplotlib inline"
   ]
  },
  {
   "cell_type": "code",
   "execution_count": 2,
   "metadata": {
    "collapsed": true
   },
   "outputs": [],
   "source": [
    "from fastai.text import *"
   ]
  },
  {
   "cell_type": "code",
   "execution_count": 3,
   "metadata": {
    "collapsed": true
   },
   "outputs": [],
   "source": [
    "import os\n",
    "from tqdm import tqdm_notebook"
   ]
  },
  {
   "cell_type": "markdown",
   "metadata": {},
   "source": [
    "## Подготовка данных"
   ]
  },
  {
   "cell_type": "code",
   "execution_count": 4,
   "metadata": {
    "collapsed": true
   },
   "outputs": [],
   "source": [
    "reviews_path = Path('data/kinopoisk')"
   ]
  },
  {
   "cell_type": "code",
   "execution_count": 5,
   "metadata": {
    "collapsed": true
   },
   "outputs": [],
   "source": [
    "json_df = pd.read_json(reviews_path/'kinopoisk_reviews.json', lines=True)"
   ]
  },
  {
   "cell_type": "code",
   "execution_count": 6,
   "metadata": {},
   "outputs": [
    {
     "data": {
      "text/html": [
       "<div>\n",
       "<style scoped>\n",
       "    .dataframe tbody tr th:only-of-type {\n",
       "        vertical-align: middle;\n",
       "    }\n",
       "\n",
       "    .dataframe tbody tr th {\n",
       "        vertical-align: top;\n",
       "    }\n",
       "\n",
       "    .dataframe thead th {\n",
       "        text-align: right;\n",
       "    }\n",
       "</style>\n",
       "<table border=\"1\" class=\"dataframe\">\n",
       "  <thead>\n",
       "    <tr style=\"text-align: right;\">\n",
       "      <th></th>\n",
       "      <th>filmId</th>\n",
       "      <th>numOfDislikes</th>\n",
       "      <th>numOfLikes</th>\n",
       "      <th>reviewBody</th>\n",
       "      <th>reviewTitle</th>\n",
       "      <th>status</th>\n",
       "    </tr>\n",
       "  </thead>\n",
       "  <tbody>\n",
       "    <tr>\n",
       "      <th>0</th>\n",
       "      <td>5900</td>\n",
       "      <td>6</td>\n",
       "      <td>24</td>\n",
       "      <td>Очень красивая фантастика, отлично снято, опер...</td>\n",
       "      <td></td>\n",
       "      <td>neutral</td>\n",
       "    </tr>\n",
       "    <tr>\n",
       "      <th>1</th>\n",
       "      <td>782</td>\n",
       "      <td>18</td>\n",
       "      <td>34</td>\n",
       "      <td>Мне думается, что у некоторых звёзд Голливуда ...</td>\n",
       "      <td></td>\n",
       "      <td>good</td>\n",
       "    </tr>\n",
       "    <tr>\n",
       "      <th>2</th>\n",
       "      <td>54061</td>\n",
       "      <td>16</td>\n",
       "      <td>16</td>\n",
       "      <td>Нервный парнишка, нервные взрослые, раздражени...</td>\n",
       "      <td></td>\n",
       "      <td>neutral</td>\n",
       "    </tr>\n",
       "    <tr>\n",
       "      <th>3</th>\n",
       "      <td>13682</td>\n",
       "      <td>23</td>\n",
       "      <td>17</td>\n",
       "      <td>«Горец 2» - продолжение культовой саги о бессм...</td>\n",
       "      <td></td>\n",
       "      <td>neutral</td>\n",
       "    </tr>\n",
       "    <tr>\n",
       "      <th>4</th>\n",
       "      <td>39634</td>\n",
       "      <td>9</td>\n",
       "      <td>10</td>\n",
       "      <td>Для чего делали фильм, я думаю, сами авторы то...</td>\n",
       "      <td></td>\n",
       "      <td>neutral</td>\n",
       "    </tr>\n",
       "  </tbody>\n",
       "</table>\n",
       "</div>"
      ],
      "text/plain": [
       "   filmId  numOfDislikes  numOfLikes  \\\n",
       "0    5900              6          24   \n",
       "1     782             18          34   \n",
       "2   54061             16          16   \n",
       "3   13682             23          17   \n",
       "4   39634              9          10   \n",
       "\n",
       "                                          reviewBody reviewTitle   status  \n",
       "0  Очень красивая фантастика, отлично снято, опер...              neutral  \n",
       "1  Мне думается, что у некоторых звёзд Голливуда ...                 good  \n",
       "2  Нервный парнишка, нервные взрослые, раздражени...              neutral  \n",
       "3  «Горец 2» - продолжение культовой саги о бессм...              neutral  \n",
       "4  Для чего делали фильм, я думаю, сами авторы то...              neutral  "
      ]
     },
     "execution_count": 6,
     "metadata": {},
     "output_type": "execute_result"
    }
   ],
   "source": [
    "json_df.head()"
   ]
  },
  {
   "cell_type": "code",
   "execution_count": 5,
   "metadata": {
    "collapsed": true
   },
   "outputs": [],
   "source": [
    "path = Path('models')"
   ]
  },
  {
   "cell_type": "code",
   "execution_count": 33,
   "metadata": {
    "collapsed": true
   },
   "outputs": [],
   "source": [
    "bs = 64"
   ]
  },
  {
   "cell_type": "code",
   "execution_count": 11,
   "metadata": {
    "collapsed": true
   },
   "outputs": [],
   "source": [
    "data = TextList.from_df(json_df, cols='reviewBody',\n",
    "                        processor=[TokenizeProcessor(tokenizer=Tokenizer(lang=\"xx\")), \n",
    "                                                     NumericalizeProcessor(min_freq=2, max_vocab=60000)]).\\\n",
    "                random_split_by_pct(.1).\\\n",
    "                label_for_lm().\\\n",
    "                databunch(bs=bs)"
   ]
  },
  {
   "cell_type": "code",
   "execution_count": 12,
   "metadata": {
    "collapsed": true
   },
   "outputs": [],
   "source": [
    "data.save(path / \"kinopoisk_lm_data\")"
   ]
  },
  {
   "cell_type": "code",
   "execution_count": 34,
   "metadata": {
    "collapsed": true
   },
   "outputs": [],
   "source": [
    "data = load_data(path, \"kinopoisk_lm_data\", bs)"
   ]
  },
  {
   "cell_type": "code",
   "execution_count": 13,
   "metadata": {},
   "outputs": [
    {
     "data": {
      "text/html": [
       "<table border=\"1\" class=\"dataframe\">\n",
       "  <thead>\n",
       "    <tr style=\"text-align: right;\">\n",
       "      <th>idx</th>\n",
       "      <th>text</th>\n",
       "    </tr>\n",
       "  </thead>\n",
       "  <tbody>\n",
       "    <tr>\n",
       "      <td>0</td>\n",
       "      <td>xxmaj вот чего не хватает в фильме , так это xxunk рассказа , мифологии , ху из ху , так сказать :) ( как в xxmaj звездных войнах , например ) и откуда все эти xxunk и xxunk взялись . \\r \\n \\r \\n  а какой звук , это просто потрясающе ! xxmaj полный эффект присутствия , хотя может это все зависит от кинотеатра . xxbos xxmaj нервный парнишка</td>\n",
       "    </tr>\n",
       "    <tr>\n",
       "      <td>1</td>\n",
       "      <td>, эпоху войн , эпоху царей - xxunk . \\r \\n \\r \\n  xxmaj фильм красиво и масштабно снят , что для фильма такого жанра очень важно . xxmaj бред xxmaj пит выглядит довольно убедительно в роли xxmaj xxunk . \\r \\n \\r \\n  xxmaj по моему мнению - главный недостаток фильма это не выразительные массовые батальные сцены , битва греков с xxunk недостаточно яркая . xxmaj как</td>\n",
       "    </tr>\n",
       "    <tr>\n",
       "      <td>2</td>\n",
       "      <td>россии ) фильм xxmaj федерико xxmaj феллини . xxmaj когда несколько лет тому назад он был xxunk на фестивале итальянского кино в xxmaj москве - это стало настоящим подарком для публики . \\r \\n \\r \\n  xxmaj веселая и грустная , авантюрная и бытовая история простых людей . xxmaj мошенники с xxunk , и с самими собой . xxmaj один из самых трогательных фильмов мэтра . xxbos я страстный</td>\n",
       "    </tr>\n",
       "    <tr>\n",
       "      <td>3</td>\n",
       "      <td>\\r \\n \\r \\n  &lt; i &gt; xxmaj бастер &lt; / xxup i&gt;. xxmaj хороший злодей – это либо когда хочется подойти к телевизору и сильно ударить этого негодяя по морде . xxmaj этот не вызвал ни малейших чувств . \\r \\n \\r \\n  xxmaj сюжет - банальнее некуда . \\r \\n  xxmaj шуток нет . \\r \\n  xxmaj интересных сцен нет . \\r \\n \\r</td>\n",
       "    </tr>\n",
       "    <tr>\n",
       "      <td>4</td>\n",
       "      <td>которую xxunk придется собирать по крупицам на протяжении всего фильма , чтобы лишь в финале , окончательно определиться со своим выбором . xxmaj однако , самое интересное , что наравне с героем , тот же самый выбор предстоит сделать и самому зрителю . \\r \\n \\r \\n  xxmaj окончательное решение xxmaj тэйлора является столь же xxunk , как и мораль обоих его « отцов » . xxmaj кто -</td>\n",
       "    </tr>\n",
       "  </tbody>\n",
       "</table>"
      ],
      "text/plain": [
       "<IPython.core.display.HTML object>"
      ]
     },
     "metadata": {},
     "output_type": "display_data"
    }
   ],
   "source": [
    "data.show_batch()"
   ]
  },
  {
   "cell_type": "code",
   "execution_count": 17,
   "metadata": {
    "collapsed": true
   },
   "outputs": [],
   "source": [
    "learn = language_model_learner(data, arch=AWD_LSTM)"
   ]
  },
  {
   "cell_type": "code",
   "execution_count": 18,
   "metadata": {
    "collapsed": true
   },
   "outputs": [],
   "source": [
    "#learn = language_model_learner(data, arch=AWD_LSTM, pretrained_fnames=('lm_5_ep_lr2-3_5_stlr', 'itos'))\n"
   ]
  },
  {
   "cell_type": "code",
   "execution_count": 15,
   "metadata": {
    "collapsed": true
   },
   "outputs": [],
   "source": [
    "TEXT = \"Вообще, приходя в себя\"\n",
    "N_WORDS = 40\n",
    "N_SENTENCES = 2"
   ]
  },
  {
   "cell_type": "code",
   "execution_count": 16,
   "metadata": {},
   "outputs": [
    {
     "name": "stdout",
     "output_type": "stream",
     "text": [
      "Вообще, приходя в себя , небольшая часть населения Северной столицы продолжает оставаться в Петербурге , но на первый взгляд , поэтому , несмотря на то , что в Петербурге и Петербурге им не много лет , которые находятся в\n",
      "Вообще, приходя в себя , NASA фактически приняло решение начать подготовку к исследованию космического корабля « Союз РАССТРАИВАЕТ » , который должен был начаться в конце мая – начале июля . Таким образом , чтобы получить разрешение на полеты на\n"
     ]
    }
   ],
   "source": [
    "print(\"\\n\".join(learn.predict(TEXT, N_WORDS, temperature=0.75) for _ in range(N_SENTENCES)))"
   ]
  },
  {
   "cell_type": "markdown",
   "metadata": {},
   "source": [
    "### Обучение модели"
   ]
  },
  {
   "cell_type": "markdown",
   "metadata": {},
   "source": [
    "Перед тем как приступить к обучению языковой модели, мы должно найти оптимальный learning_rate (lr) - это гиперпараметр, который определяет с какой скоростью будет обучаться модель"
   ]
  },
  {
   "cell_type": "code",
   "execution_count": 17,
   "metadata": {},
   "outputs": [
    {
     "data": {
      "text/html": [],
      "text/plain": [
       "<IPython.core.display.HTML object>"
      ]
     },
     "metadata": {},
     "output_type": "display_data"
    },
    {
     "name": "stdout",
     "output_type": "stream",
     "text": [
      "LR Finder is complete, type {learner_name}.recorder.plot() to see the graph.\n"
     ]
    }
   ],
   "source": [
    "learn.lr_find()"
   ]
  },
  {
   "cell_type": "markdown",
   "metadata": {},
   "source": [
    "На графике нам нужно выбрать наибольший LR такой, что Loss (функцию потерь) еще достаточно быстро уменьшается. Мы выберем 10e-2. "
   ]
  },
  {
   "cell_type": "code",
   "execution_count": 18,
   "metadata": {},
   "outputs": [
    {
     "data": {
      "image/png": "[encoded data removed]",
      "text/plain": [
       "<matplotlib.figure.Figure at 0x7fbd5df6c9e8>"
      ]
     },
     "metadata": {},
     "output_type": "display_data"
    }
   ],
   "source": [
    "learn.recorder.plot(skip_end=15)"
   ]
  },
  {
   "cell_type": "markdown",
   "metadata": {},
   "source": [
    "Так как часть слов в словаре новые и сеть про них ничего не знает, то мы начнем обучать \"последний слой\""
   ]
  },
  {
   "cell_type": "code",
   "execution_count": 19,
   "metadata": {},
   "outputs": [
    {
     "data": {
      "text/html": [
       "Total time: 29:25 <p><table border=\"1\" class=\"dataframe\">\n",
       "  <thead>\n",
       "    <tr style=\"text-align: left;\">\n",
       "      <th>epoch</th>\n",
       "      <th>train_loss</th>\n",
       "      <th>valid_loss</th>\n",
       "      <th>accuracy</th>\n",
       "      <th>time</th>\n",
       "    </tr>\n",
       "  </thead>\n",
       "  <tbody>\n",
       "    <tr>\n",
       "      <td>0</td>\n",
       "      <td>4.623338</td>\n",
       "      <td>4.057502</td>\n",
       "      <td>0.228571</td>\n",
       "      <td>29:25</td>\n",
       "    </tr>\n",
       "  </tbody>\n",
       "</table>"
      ],
      "text/plain": [
       "<IPython.core.display.HTML object>"
      ]
     },
     "metadata": {},
     "output_type": "display_data"
    }
   ],
   "source": [
    "learn.fit_one_cycle(1, 1e-2, moms=(0.8,0.7))"
   ]
  },
  {
   "cell_type": "markdown",
   "metadata": {},
   "source": [
    "Сохраняем модель"
   ]
  },
  {
   "cell_type": "code",
   "execution_count": 20,
   "metadata": {
    "collapsed": true
   },
   "outputs": [],
   "source": [
    "learn.save('kinopoisk_head')"
   ]
  },
  {
   "cell_type": "code",
   "execution_count": 22,
   "metadata": {},
   "outputs": [
    {
     "data": {
      "text/plain": [
       "LanguageLearner(data=TextLMDataBunch;\n",
       "\n",
       "Train: LabelList (44973 items)\n",
       "x: LMTextList\n",
       "xxbos xxmaj очень красивая фантастика , отлично снято , оператору особая благодарность , мастерам спецэффектов тоже xxunk поклон . xxmaj все качественно и необыкновенно ! о xxmaj вине xxmaj xxunk я вообще молчу :) восхищена , очень классно ! \n",
       " \n",
       " \n",
       " \n",
       "  xxmaj нет той привычной напыщенности и ' крутости ' , как в обыкновенных боевиках , он побеждает благодаря своей силе , стремлению выжить во что бы то ни стало . xxmaj вот чего не хватает в фильме , так это xxunk рассказа , мифологии , ху из ху , так сказать :) ( как в xxmaj звездных войнах , например ) и откуда все эти xxunk и xxunk взялись . \n",
       " \n",
       " \n",
       " \n",
       "  а какой звук , это просто потрясающе ! xxmaj полный эффект присутствия , хотя может это все зависит от кинотеатра .,xxbos xxmaj нервный парнишка , нервные взрослые , раздражения и xxunk друг другом и самим собой . \n",
       " \n",
       " \n",
       " \n",
       "  xxmaj безысходность и xxunk жизнью ( такой короткой ) выливается в трагический исход главного героя .,xxbos « xxmaj xxunk 2 » - продолжение культовой саги о xxunk xxunk xxmaj xxunk xxunk - является ярким примером , того как культовые фильмы губят сиквелы … \n",
       " \n",
       " \n",
       " \n",
       "  xxmaj xxunk , порой просто абсурдный , сюжетик , очередное , такое же xxunk размышление о эпохе кибер - панка , конечно же xxmaj кристофер xxmaj ламберт , xxmaj шон xxmaj xxunk , и всё xxunk , во второй части вообще не уместная музыка группы xxmaj queen и великий xxmaj рассел xxmaj xxunk в кресле « директора » – всё это вторая часть « xxmaj xxunk » . \n",
       " \n",
       " \n",
       " \n",
       "  xxmaj выглядит отвратно , но если вас заинтересовало всё выше сказанное – обязательно посмотрите , ведь в конце останется только один … но когда наступит конец в конце то концов ! \n",
       " \n",
       " ,xxbos с французским кино что - то не так . xxmaj не знаю , сколько xxunk создатели заблудившихся , но у них всё равно ничего не получилось . \n",
       " \n",
       " \n",
       " \n",
       "  xxmaj размытая , xxunk xxunk xxunk xxunk , история без начала и конца . xxmaj авторы , похоже сами заблудились в поисках осмысленного сюжета , пытаясь придать действиям своих героев хоть какую - нибудь xxunk . \n",
       " \n",
       " \n",
       " \n",
       "  в итоге получился хаос , где не понятно : что , зачем и почему . xxmaj актёры xxunk , даже в чувственных сценах . xxmaj врядли они понимают смысл происходящего . \n",
       " \n",
       " \n",
       " \n",
       "  в общем , кино , которое не нужно . xxmaj не нужно было снимать .,xxbos xxmaj джоди xxmaj фостер . xxmaj именно она сделала этот фильм xxunk , превратив его своей игрой в настоящую головоломку . xxmaj её героиня вводит в заблуждение зрителя и скрывает xxunk придуманного авторами сюжета . \n",
       " \n",
       " \n",
       " \n",
       "  xxmaj xxunk одержимость xxmaj xxunk xxmaj старлинг поиском маньяка скрывает незатейливые замыслы доктора xxmaj лектора . и знаете почему . xxmaj гениальному xxmaj энтони xxmaj хопкинсу не хватило иронии , которую xxunk авторы сценария в сюжет картины . \n",
       " \n",
       " \n",
       " \n",
       "  в то время как xxmaj фостер своей эмоциональной игрой благополучно xxunk на первый план линию поиска серийного убийцы , главная сюжетная линия , которую ведёт xxmaj хопкинс , оказалась xxunk на второй план . \n",
       " \n",
       " \n",
       " \n",
       "  xxmaj это линия xxunk игры в доктора xxunk . xxmaj на самом деле , пока героиня xxmaj фостер мучительно xxunk над мотивами поведения и свойствами личности маньяка - убийцы , другой маньяк - убийца ( вот вам ирония ) пробует на ней свои знания психиатрии . \n",
       " \n",
       " \n",
       " \n",
       "  xxmaj он лечит xxmaj xxunk xxmaj старлинг , а она , бедняжка , думает , что он xxunk со следствием . xxmaj не заметив замысла сценаристов , xxmaj хопкинс сосредоточился на демонической стороне характера xxmaj лектора , xxunk иронию его действий . \n",
       " \n",
       " \n",
       " \n",
       "  xxmaj но , как ни странно , фильму это пошло на пользу . xxmaj получилась головоломка , где зритель постоянно ищет xxunk связи в xxunk сюжетных линиях . \n",
       " \n",
       " \n",
       " \n",
       "  а то , что сиквелы xxunk xxmaj ягнят xxunk и близко не стояли с оригиналом - наглядное подтверждение xxunk роли xxunk в них xxmaj джоди xxmaj фостер в создании неповторимого духа этой картины .\n",
       "y: LMLabelList\n",
       ",,,,\n",
       "Path: .;\n",
       "\n",
       "Valid: LabelList (4997 items)\n",
       "x: LMTextList\n",
       "xxbos xxmaj этот сериал я начала смотреть из за xxmaj чада xxmaj майкла xxmaj xxunk . я его начала смотреть с большим интересом и не разочаровалась совсем . xxmaj этот сериал не как все . xxmaj он особенный , даже если жизненный . xxmaj он учит нас о хорошим , о том что люди могут меняться . xxmaj это я больше всего заметила у xxmaj брук . xxmaj она стала моим любимом героем после просмотра несколько сезонов . в начале она была немного xxunk школьница , которой не трудно было перед кем - то xxunk или с кем - то переспать . xxmaj но начиная с пятого сезона её будто подменили . xxmaj она xxunk . \n",
       " \n",
       " \n",
       " \n",
       "  xxmaj мне безумно понравился этот сериал . xxmaj он начался со школьной жизни героев и продолжался , показывая , что они достигли после школы . \n",
       " \n",
       "  я , наверное , никогда не xxunk этот сериал ! \n",
       " \n",
       "  xxmaj жаль , что нельзя больше поставить : \n",
       " \n",
       " \n",
       " \n",
       "  10 из 10,xxbos xxmaj во - первых , мне бы искренне не хотелось , чтобы кто - то xxunk деньги за покупку этого фильма . xxmaj настоятельно не рекомендую смотреть в кинотеатре или как бы то еще xxunk в просмотр сей картины . и во - вторых , хочу объяснить , что платить деньги не стоит не потому , что фильм - шлак , а потому что все его достоинства ( а они есть ) не xxunk этих затрат . \n",
       " \n",
       " \n",
       " \n",
       "  xxmaj теперь выскажусь непосредственно xxunk xxunk и начну с хорошего : \n",
       " \n",
       " \n",
       " \n",
       "  1 . xxmaj девушки и юноши безусловно , бесспорно все большие молодцы . xxmaj отлично справились со своими ролями . xxmaj их игра xxunk , без налета фальши , во всех отношениях хороша и достойна нашей с вами похвалы . \n",
       " \n",
       " \n",
       " \n",
       "  2 . xxmaj несмотря на отсутствие какой бы то ни было операторской работы , мне понравилось , как снят фильм чисто в плане операторской съемки . я не знаю , возможно эффект присутствия камеры был xxunk , но в некоторых местах он вызывал у меня какое - то странное недоумение и xxunk с основного хода действия . xxmaj но в целом , я скажу скорее да , чем нет такому приему именно в этом фильме . xxmaj может быть , найдется множество несогласных со мной , но это было моим самым первым впечатлением , именно его мне бы и хотелось передать . \n",
       " \n",
       " \n",
       " \n",
       "  3 . я отлично помню свои школьные годы и могу отметить такую xxunk вещь , что несмотря на то , что школьники показаны ( совершенно незаслуженно ) катастрофически xxunk , xxunk , с xxunk в небольшое количество xxunk xxunk слов , бесконечно точно передана их психология , их поведение в тех или иных ситуациях . xxmaj мне трудно передать эту мысль , но в некоторых диалогах мне xxunk мои одноклассники 6 - 7 классов , и xxunk они с дикой точностью . \n",
       " \n",
       " \n",
       " \n",
       "  4 . xxmaj есть отлично снятые сцены . xxmaj если положить , что фильм - апельсин , то конечно в нем есть очень вкусные и сладкие xxunk . \n",
       " \n",
       "  xxmaj возможно , после такой фразы мне бы ответили , что у меня все задатки педофила , но я все равно уверена , что ценителям красоты во всех ее xxunk проявлениях найдется , что рассмотреть . \n",
       " \n",
       " \n",
       " \n",
       "  xxmaj теперь о плохом : \n",
       " \n",
       " \n",
       " \n",
       "  1 . xxmaj самое досадное , самое обидное , самое то , что разочаровало меня до глубины души , - это концовка ! xxmaj мне было трудно сдержать xxunk ' и всё ? ! ' после того , как совершенно неожиданно пошли титры . xxmaj мне хотелось продолжения , казалось , фильм xxunk , xxunk , xxunk , xxunk . \n",
       " \n",
       " \n",
       " \n",
       "  2 . xxmaj об излишней xxunk и xxunk типажей я уже говорила . xxmaj дети , xxunk на xxunk языке . xxmaj родители , постоянно xxunk xxunk окна . xxmaj учителя , тупые и xxunk до одури . xxmaj так не бывает . xxmaj жизнь xxunk со всех сторон , с каких не посмотри . я не верю , что в огромной школе не нашелся бы хороший , знающий , умеющий разговаривать с xxunk учитель . в моей школе таких учителей было подавляющее большинство ! \n",
       " \n",
       " \n",
       " \n",
       "  3 . xxmaj есть вещи , которые , как мне кажется , выдают непрофессионализм то ли режиссера , то ли сценариста ... xxmaj например , в такой обычной школе не проводят xxunk с xxunk освещением . xxmaj насколько я помню , школьные дискотеки очень наивны и совсем не похожи на те дискотеки , которые устраивают в клубах , а в фильме показана именно такая дискотека , благо что без xxunk xxunk ... xxmaj очень непрофессионально выглядит сцена похорон кота и рыбок . xxmaj ею хотели сказать что - то глубокое , xxunk ? xxmaj по - моему , не удалось . \n",
       " \n",
       " \n",
       " \n",
       "  4 . xxmaj какая - то до детскости бредовая проблематика и вообще концепция в целом . xxmaj что в итоге хотели показать - то ? xxmaj проблемы детей , подростков и их родителей , несовершенство школьной системы , три язвы современного общества : алкоголь , наркотики , угроза спида , xxunk маленьких детей ? ? ? xxmaj это хотели показать со смаком и в красках ? xxmaj но зачем ? xxmaj по моему личному мнению , xxunk зарабатывать себе имя , разговаривая со своим зрителем примерно на таком уровне : ' это дерьмо , посмотрите на него внимательно , я покажу его со всех сторон , фу , гадость ' . xxmaj так нельзя . \n",
       " \n",
       " \n",
       " \n",
       "  5 из 10,xxbos xxmaj знаете , если бы меня спросили , какую группу я больше всего люблю , то я точно xxunk бы ответить , ведь каждый месяц , а иногда и год , находится что - то новое , совершенно xxunk предыдущее , хоть и не делая его хуже . xxmaj однако среди фильмов это , как ни странно , не так . я с детства люблю определенный набор фильмов , которые , думаю , буду не прочь пересмотреть и в старости . xxmaj сегодня я расскажу об одном из таких фильмов . xxmaj посмотрел я его , правда , не в детстве , но это даже лучше . \n",
       " \n",
       " \n",
       " \n",
       "  я говорю , конечно , о фильме xxmaj the xxmaj xxunk , который у нас проходил под довольно банальным названием xxmaj однажды в xxmaj ирландии . xxmaj согласитесь , наше название настраивает больше на теплую историю о жителях холодных островов , нежели на довольно забавную местами драму о полицейских буднях xxmaj ирландской глубинки . xxmaj говоря о названии нужно также сказать , что этот фильм можно было бы xxunk ' xxmaj залечь на дно в xxmaj ирландии ' , как сказал кто - то на кинопоиске . и правда , xxmaj xxunk xxmaj xxunk очень похож на своего ' старшего брата ' . xxmaj но обо всём по порядку . \n",
       " \n",
       " \n",
       " \n",
       "  xxmaj нам рассказывается история полицейского , который не прочь xxunk экстази на смене , которых не прочь сходить к xxunk , который , в конце - концов , до ужаса xxunk , и к которому на дело по наркотикам приезжает чернокожий агент xxup фбр . xxmaj впрочем , если верить фильму , это не только его черта , но и всех жителей этого места . xxmaj на этом , кстати , основаны практически все шутки фильма , описывать нет смыслу , на бумаге это не так смешно , как на экране . \n",
       " \n",
       " \n",
       " \n",
       "  xxmaj как и большинство моих любимых фильмов , в этом фильме не так уж и много xxunk . xxmaj нет , герои не сидят весь день в подвале и что - то обсуждают , нет , здесь есть xxunk , а в конце даже какой - никакой экшон , но это не xxmaj бешеные xxmaj псы и уж тем более не какой - нибудь xxmaj адреналин , тут всё спокойней . xxmaj спокойствие , кстати , основная черта главного героя , абсолютно неподражаемого xxmaj брендана xxmaj xxunk ( я не знаю , как правильно xxunk xxmaj английские имена , идите лесом ) - что бы не происходило на экране - наш герой встретит это с каменным лицом . в этом , на мой взгляд , и заключается вся линия этого героя - его внутренние переживания ( в этом и сходство с фильмом про xxmaj брюгге - там тоже акцент сделан на моральных терзаниях героя ) и эмоции . xxmaj правда , здесь , в отличии от того же xxmaj брюгге , не говорится , что же такого наш герой сделал . и вы знаете , похоже , что нечто ужасное . xxmaj здесь нужно отметить xxunk , которую вряд ли понял рядовой зритель любой страны , кроме нашей - в одном из моментов мать гг читает xxmaj xxunk . xxmaj тут уж сами xxunk параллели . \n",
       " \n",
       " \n",
       " \n",
       "  xxmaj вся прелесть фильма заключается в этом спокойствии . в xxunk сержанта , торговцев наркотиков , да всех , кроме , что интересно , xxmaj ирландцев . xxmaj хоть какие - то эмоции проявляет американец - негр из xxup фбр и жена полицейского , которая xxunk из восточной xxmaj европы . xxmaj ну и игра xxmaj глисона , тут нечего говорить . xxmaj xxunk я свой небольшой рассказ словами , которыми агент xxup фбр весьма метко охарактеризовал главного героя : \n",
       " \n",
       " \n",
       " \n",
       "  ' xxmaj сержант , я не пойму - то ли вы ох --- но тупой , то ли ох --- но умный ',xxbos xxmaj потрясающей мультик ! я просто в диком восторге ! \n",
       " \n",
       " \n",
       " \n",
       "  xxmaj оказывается , что драконы тоже могут , а главное хотят , очень – очень хотят , дружить ! xxmaj все их xxunk , убивают , бьют , а они ведь такие милые . xxmaj но у каждого клана свои правила и законы , вот они и трудятся на дико уродливое существо – типа самого главного дракона ! но , происходит революция – и … xxunk власть меняется . \n",
       " \n",
       " \n",
       " \n",
       "  у них свой мир , xxunk и не понятный простому xxunk , с xxunk xxunk xxunk на голове . xxmaj но как всегда должен появиться кто - то , кто все изменит – этакий супер - герой ! \n",
       " \n",
       " \n",
       " \n",
       "  xxmaj xxunk – такой милый мальчик , нежный и добрый ! и именно такой чудо – ребенок , не умеющий убивать и не имеющий этой жажды крови , способен приручить черную xxmaj xxunk ! \n",
       " \n",
       " \n",
       " \n",
       "  xxmaj конечно же каждый – ну или почти каждый ( за редким исключение ) мультик – учит добру ! \n",
       " \n",
       " \n",
       " \n",
       "  xxmaj да этот тоже учит – не надо судить о людях ( в данном случае о драконах ) по первому впечатлению , оно бывает xxunk , как правило ! \n",
       " \n",
       " \n",
       " \n",
       "  xxmaj так что есть на что посмотреть и над чем подумать ! xxmaj всем советую , особенно в xxup 3d , но если его нет , то не беда , и в обычном варианте есть на что посмотреть ! \n",
       " \n",
       " \n",
       " \n",
       "  10 из 10 \n",
       " \n",
       " \n",
       " \n",
       "  p.s . xxmaj единственный минус – черную xxmaj xxunk обделили – ну это как – то не очень – все xxunk значит по парам с детишками , а эта милая xxunk прелесть одна ! xxmaj принцип « каждой твари – по паре » - не сработал ..,xxbos xxmaj мультик просто кишит национальным американским юмором . xxmaj пародию на фильмы о мафии заметят те , кто смотрел криминальные фильмы , а вряд ли таковых много среди детишек , для которых ' xxmaj подводная братва ' и предназначена . \n",
       " \n",
       " \n",
       " \n",
       "  xxmaj графика , почему - то , не впечатлила . xxmaj отчасти из - за того , что xxunk очень сильно напоминают xxunk . xxmaj досмотреть до конца не хватило сил . xxmaj даже xxmaj кристина xxmaj агилера со своей песней не спасла картину . а сколько коммерции !\n",
       "y: LMLabelList\n",
       ",,,,\n",
       "Path: .;\n",
       "\n",
       "Test: None, model=SequentialRNN(\n",
       "  (0): AWD_LSTM(\n",
       "    (encoder): Embedding(60004, 400, padding_idx=1)\n",
       "    (encoder_dp): EmbeddingDropout(\n",
       "      (emb): Embedding(60004, 400, padding_idx=1)\n",
       "    )\n",
       "    (rnns): ModuleList(\n",
       "      (0): WeightDropout(\n",
       "        (module): LSTM(400, 1150, batch_first=True)\n",
       "      )\n",
       "      (1): WeightDropout(\n",
       "        (module): LSTM(1150, 1150, batch_first=True)\n",
       "      )\n",
       "      (2): WeightDropout(\n",
       "        (module): LSTM(1150, 400, batch_first=True)\n",
       "      )\n",
       "    )\n",
       "    (input_dp): RNNDropout()\n",
       "    (hidden_dps): ModuleList(\n",
       "      (0): RNNDropout()\n",
       "      (1): RNNDropout()\n",
       "      (2): RNNDropout()\n",
       "    )\n",
       "  )\n",
       "  (1): LinearDecoder(\n",
       "    (decoder): Linear(in_features=400, out_features=60004, bias=True)\n",
       "    (output_dp): RNNDropout()\n",
       "  )\n",
       "), opt_func=functools.partial(<class 'torch.optim.adam.Adam'>, betas=(0.9, 0.99)), loss_func=FlattenedLoss of CrossEntropyLoss(), metrics=[<function accuracy at 0x7fbd772f89d8>], true_wd=True, bn_wd=True, wd=0.01, train_bn=True, path=PosixPath('.'), model_dir='models', callback_fns=[functools.partial(<class 'fastai.basic_train.Recorder'>, add_time=True)], callbacks=[RNNTrainer\n",
       "learn: LanguageLearner(data=TextLMDataBunch;\n",
       "\n",
       "Train: LabelList (44973 items)\n",
       "x: LMTextList\n",
       "xxbos xxmaj очень красивая фантастика , отлично снято , оператору особая благодарность , мастерам спецэффектов тоже xxunk поклон . xxmaj все качественно и необыкновенно ! о xxmaj вине xxmaj xxunk я вообще молчу :) восхищена , очень классно ! \n",
       " \n",
       " \n",
       " \n",
       "  xxmaj нет той привычной напыщенности и ' крутости ' , как в обыкновенных боевиках , он побеждает благодаря своей силе , стремлению выжить во что бы то ни стало . xxmaj вот чего не хватает в фильме , так это xxunk рассказа , мифологии , ху из ху , так сказать :) ( как в xxmaj звездных войнах , например ) и откуда все эти xxunk и xxunk взялись . \n",
       " \n",
       " \n",
       " \n",
       "  а какой звук , это просто потрясающе ! xxmaj полный эффект присутствия , хотя может это все зависит от кинотеатра .,xxbos xxmaj нервный парнишка , нервные взрослые , раздражения и xxunk друг другом и самим собой . \n",
       " \n",
       " \n",
       " \n",
       "  xxmaj безысходность и xxunk жизнью ( такой короткой ) выливается в трагический исход главного героя .,xxbos « xxmaj xxunk 2 » - продолжение культовой саги о xxunk xxunk xxmaj xxunk xxunk - является ярким примером , того как культовые фильмы губят сиквелы … \n",
       " \n",
       " \n",
       " \n",
       "  xxmaj xxunk , порой просто абсурдный , сюжетик , очередное , такое же xxunk размышление о эпохе кибер - панка , конечно же xxmaj кристофер xxmaj ламберт , xxmaj шон xxmaj xxunk , и всё xxunk , во второй части вообще не уместная музыка группы xxmaj queen и великий xxmaj рассел xxmaj xxunk в кресле « директора » – всё это вторая часть « xxmaj xxunk » . \n",
       " \n",
       " \n",
       " \n",
       "  xxmaj выглядит отвратно , но если вас заинтересовало всё выше сказанное – обязательно посмотрите , ведь в конце останется только один … но когда наступит конец в конце то концов ! \n",
       " \n",
       " ,xxbos с французским кино что - то не так . xxmaj не знаю , сколько xxunk создатели заблудившихся , но у них всё равно ничего не получилось . \n",
       " \n",
       " \n",
       " \n",
       "  xxmaj размытая , xxunk xxunk xxunk xxunk , история без начала и конца . xxmaj авторы , похоже сами заблудились в поисках осмысленного сюжета , пытаясь придать действиям своих героев хоть какую - нибудь xxunk . \n",
       " \n",
       " \n",
       " \n",
       "  в итоге получился хаос , где не понятно : что , зачем и почему . xxmaj актёры xxunk , даже в чувственных сценах . xxmaj врядли они понимают смысл происходящего . \n",
       " \n",
       " \n",
       " \n",
       "  в общем , кино , которое не нужно . xxmaj не нужно было снимать .,xxbos xxmaj джоди xxmaj фостер . xxmaj именно она сделала этот фильм xxunk , превратив его своей игрой в настоящую головоломку . xxmaj её героиня вводит в заблуждение зрителя и скрывает xxunk придуманного авторами сюжета . \n",
       " \n",
       " \n",
       " \n",
       "  xxmaj xxunk одержимость xxmaj xxunk xxmaj старлинг поиском маньяка скрывает незатейливые замыслы доктора xxmaj лектора . и знаете почему . xxmaj гениальному xxmaj энтони xxmaj хопкинсу не хватило иронии , которую xxunk авторы сценария в сюжет картины . \n",
       " \n",
       " \n",
       " \n",
       "  в то время как xxmaj фостер своей эмоциональной игрой благополучно xxunk на первый план линию поиска серийного убийцы , главная сюжетная линия , которую ведёт xxmaj хопкинс , оказалась xxunk на второй план . \n",
       " \n",
       " \n",
       " \n",
       "  xxmaj это линия xxunk игры в доктора xxunk . xxmaj на самом деле , пока героиня xxmaj фостер мучительно xxunk над мотивами поведения и свойствами личности маньяка - убийцы , другой маньяк - убийца ( вот вам ирония ) пробует на ней свои знания психиатрии . \n",
       " \n",
       " \n",
       " \n",
       "  xxmaj он лечит xxmaj xxunk xxmaj старлинг , а она , бедняжка , думает , что он xxunk со следствием . xxmaj не заметив замысла сценаристов , xxmaj хопкинс сосредоточился на демонической стороне характера xxmaj лектора , xxunk иронию его действий . \n",
       " \n",
       " \n",
       " \n",
       "  xxmaj но , как ни странно , фильму это пошло на пользу . xxmaj получилась головоломка , где зритель постоянно ищет xxunk связи в xxunk сюжетных линиях . \n",
       " \n",
       " \n",
       " \n",
       "  а то , что сиквелы xxunk xxmaj ягнят xxunk и близко не стояли с оригиналом - наглядное подтверждение xxunk роли xxunk в них xxmaj джоди xxmaj фостер в создании неповторимого духа этой картины .\n",
       "y: LMLabelList\n",
       ",,,,\n",
       "Path: .;\n",
       "\n",
       "Valid: LabelList (4997 items)\n",
       "x: LMTextList\n",
       "xxbos xxmaj этот сериал я начала смотреть из за xxmaj чада xxmaj майкла xxmaj xxunk . я его начала смотреть с большим интересом и не разочаровалась совсем . xxmaj этот сериал не как все . xxmaj он особенный , даже если жизненный . xxmaj он учит нас о хорошим , о том что люди могут меняться . xxmaj это я больше всего заметила у xxmaj брук . xxmaj она стала моим любимом героем после просмотра несколько сезонов . в начале она была немного xxunk школьница , которой не трудно было перед кем - то xxunk или с кем - то переспать . xxmaj но начиная с пятого сезона её будто подменили . xxmaj она xxunk . \n",
       " \n",
       " \n",
       " \n",
       "  xxmaj мне безумно понравился этот сериал . xxmaj он начался со школьной жизни героев и продолжался , показывая , что они достигли после школы . \n",
       " \n",
       "  я , наверное , никогда не xxunk этот сериал ! \n",
       " \n",
       "  xxmaj жаль , что нельзя больше поставить : \n",
       " \n",
       " \n",
       " \n",
       "  10 из 10,xxbos xxmaj во - первых , мне бы искренне не хотелось , чтобы кто - то xxunk деньги за покупку этого фильма . xxmaj настоятельно не рекомендую смотреть в кинотеатре или как бы то еще xxunk в просмотр сей картины . и во - вторых , хочу объяснить , что платить деньги не стоит не потому , что фильм - шлак , а потому что все его достоинства ( а они есть ) не xxunk этих затрат . \n",
       " \n",
       " \n",
       " \n",
       "  xxmaj теперь выскажусь непосредственно xxunk xxunk и начну с хорошего : \n",
       " \n",
       " \n",
       " \n",
       "  1 . xxmaj девушки и юноши безусловно , бесспорно все большие молодцы . xxmaj отлично справились со своими ролями . xxmaj их игра xxunk , без налета фальши , во всех отношениях хороша и достойна нашей с вами похвалы . \n",
       " \n",
       " \n",
       " \n",
       "  2 . xxmaj несмотря на отсутствие какой бы то ни было операторской работы , мне понравилось , как снят фильм чисто в плане операторской съемки . я не знаю , возможно эффект присутствия камеры был xxunk , но в некоторых местах он вызывал у меня какое - то странное недоумение и xxunk с основного хода действия . xxmaj но в целом , я скажу скорее да , чем нет такому приему именно в этом фильме . xxmaj может быть , найдется множество несогласных со мной , но это было моим самым первым впечатлением , именно его мне бы и хотелось передать . \n",
       " \n",
       " \n",
       " \n",
       "  3 . я отлично помню свои школьные годы и могу отметить такую xxunk вещь , что несмотря на то , что школьники показаны ( совершенно незаслуженно ) катастрофически xxunk , xxunk , с xxunk в небольшое количество xxunk xxunk слов , бесконечно точно передана их психология , их поведение в тех или иных ситуациях . xxmaj мне трудно передать эту мысль , но в некоторых диалогах мне xxunk мои одноклассники 6 - 7 классов , и xxunk они с дикой точностью . \n",
       " \n",
       " \n",
       " \n",
       "  4 . xxmaj есть отлично снятые сцены . xxmaj если положить , что фильм - апельсин , то конечно в нем есть очень вкусные и сладкие xxunk . \n",
       " \n",
       "  xxmaj возможно , после такой фразы мне бы ответили , что у меня все задатки педофила , но я все равно уверена , что ценителям красоты во всех ее xxunk проявлениях найдется , что рассмотреть . \n",
       " \n",
       " \n",
       " \n",
       "  xxmaj теперь о плохом : \n",
       " \n",
       " \n",
       " \n",
       "  1 . xxmaj самое досадное , самое обидное , самое то , что разочаровало меня до глубины души , - это концовка ! xxmaj мне было трудно сдержать xxunk ' и всё ? ! ' после того , как совершенно неожиданно пошли титры . xxmaj мне хотелось продолжения , казалось , фильм xxunk , xxunk , xxunk , xxunk . \n",
       " \n",
       " \n",
       " \n",
       "  2 . xxmaj об излишней xxunk и xxunk типажей я уже говорила . xxmaj дети , xxunk на xxunk языке . xxmaj родители , постоянно xxunk xxunk окна . xxmaj учителя , тупые и xxunk до одури . xxmaj так не бывает . xxmaj жизнь xxunk со всех сторон , с каких не посмотри . я не верю , что в огромной школе не нашелся бы хороший , знающий , умеющий разговаривать с xxunk учитель . в моей школе таких учителей было подавляющее большинство ! \n",
       " \n",
       " \n",
       " \n",
       "  3 . xxmaj есть вещи , которые , как мне кажется , выдают непрофессионализм то ли режиссера , то ли сценариста ... xxmaj например , в такой обычной школе не проводят xxunk с xxunk освещением . xxmaj насколько я помню , школьные дискотеки очень наивны и совсем не похожи на те дискотеки , которые устраивают в клубах , а в фильме показана именно такая дискотека , благо что без xxunk xxunk ... xxmaj очень непрофессионально выглядит сцена похорон кота и рыбок . xxmaj ею хотели сказать что - то глубокое , xxunk ? xxmaj по - моему , не удалось . \n",
       " \n",
       " \n",
       " \n",
       "  4 . xxmaj какая - то до детскости бредовая проблематика и вообще концепция в целом . xxmaj что в итоге хотели показать - то ? xxmaj проблемы детей , подростков и их родителей , несовершенство школьной системы , три язвы современного общества : алкоголь , наркотики , угроза спида , xxunk маленьких детей ? ? ? xxmaj это хотели показать со смаком и в красках ? xxmaj но зачем ? xxmaj по моему личному мнению , xxunk зарабатывать себе имя , разговаривая со своим зрителем примерно на таком уровне : ' это дерьмо , посмотрите на него внимательно , я покажу его со всех сторон , фу , гадость ' . xxmaj так нельзя . \n",
       " \n",
       " \n",
       " \n",
       "  5 из 10,xxbos xxmaj знаете , если бы меня спросили , какую группу я больше всего люблю , то я точно xxunk бы ответить , ведь каждый месяц , а иногда и год , находится что - то новое , совершенно xxunk предыдущее , хоть и не делая его хуже . xxmaj однако среди фильмов это , как ни странно , не так . я с детства люблю определенный набор фильмов , которые , думаю , буду не прочь пересмотреть и в старости . xxmaj сегодня я расскажу об одном из таких фильмов . xxmaj посмотрел я его , правда , не в детстве , но это даже лучше . \n",
       " \n",
       " \n",
       " \n",
       "  я говорю , конечно , о фильме xxmaj the xxmaj xxunk , который у нас проходил под довольно банальным названием xxmaj однажды в xxmaj ирландии . xxmaj согласитесь , наше название настраивает больше на теплую историю о жителях холодных островов , нежели на довольно забавную местами драму о полицейских буднях xxmaj ирландской глубинки . xxmaj говоря о названии нужно также сказать , что этот фильм можно было бы xxunk ' xxmaj залечь на дно в xxmaj ирландии ' , как сказал кто - то на кинопоиске . и правда , xxmaj xxunk xxmaj xxunk очень похож на своего ' старшего брата ' . xxmaj но обо всём по порядку . \n",
       " \n",
       " \n",
       " \n",
       "  xxmaj нам рассказывается история полицейского , который не прочь xxunk экстази на смене , которых не прочь сходить к xxunk , который , в конце - концов , до ужаса xxunk , и к которому на дело по наркотикам приезжает чернокожий агент xxup фбр . xxmaj впрочем , если верить фильму , это не только его черта , но и всех жителей этого места . xxmaj на этом , кстати , основаны практически все шутки фильма , описывать нет смыслу , на бумаге это не так смешно , как на экране . \n",
       " \n",
       " \n",
       " \n",
       "  xxmaj как и большинство моих любимых фильмов , в этом фильме не так уж и много xxunk . xxmaj нет , герои не сидят весь день в подвале и что - то обсуждают , нет , здесь есть xxunk , а в конце даже какой - никакой экшон , но это не xxmaj бешеные xxmaj псы и уж тем более не какой - нибудь xxmaj адреналин , тут всё спокойней . xxmaj спокойствие , кстати , основная черта главного героя , абсолютно неподражаемого xxmaj брендана xxmaj xxunk ( я не знаю , как правильно xxunk xxmaj английские имена , идите лесом ) - что бы не происходило на экране - наш герой встретит это с каменным лицом . в этом , на мой взгляд , и заключается вся линия этого героя - его внутренние переживания ( в этом и сходство с фильмом про xxmaj брюгге - там тоже акцент сделан на моральных терзаниях героя ) и эмоции . xxmaj правда , здесь , в отличии от того же xxmaj брюгге , не говорится , что же такого наш герой сделал . и вы знаете , похоже , что нечто ужасное . xxmaj здесь нужно отметить xxunk , которую вряд ли понял рядовой зритель любой страны , кроме нашей - в одном из моментов мать гг читает xxmaj xxunk . xxmaj тут уж сами xxunk параллели . \n",
       " \n",
       " \n",
       " \n",
       "  xxmaj вся прелесть фильма заключается в этом спокойствии . в xxunk сержанта , торговцев наркотиков , да всех , кроме , что интересно , xxmaj ирландцев . xxmaj хоть какие - то эмоции проявляет американец - негр из xxup фбр и жена полицейского , которая xxunk из восточной xxmaj европы . xxmaj ну и игра xxmaj глисона , тут нечего говорить . xxmaj xxunk я свой небольшой рассказ словами , которыми агент xxup фбр весьма метко охарактеризовал главного героя : \n",
       " \n",
       " \n",
       " \n",
       "  ' xxmaj сержант , я не пойму - то ли вы ох --- но тупой , то ли ох --- но умный ',xxbos xxmaj потрясающей мультик ! я просто в диком восторге ! \n",
       " \n",
       " \n",
       " \n",
       "  xxmaj оказывается , что драконы тоже могут , а главное хотят , очень – очень хотят , дружить ! xxmaj все их xxunk , убивают , бьют , а они ведь такие милые . xxmaj но у каждого клана свои правила и законы , вот они и трудятся на дико уродливое существо – типа самого главного дракона ! но , происходит революция – и … xxunk власть меняется . \n",
       " \n",
       " \n",
       " \n",
       "  у них свой мир , xxunk и не понятный простому xxunk , с xxunk xxunk xxunk на голове . xxmaj но как всегда должен появиться кто - то , кто все изменит – этакий супер - герой ! \n",
       " \n",
       " \n",
       " \n",
       "  xxmaj xxunk – такой милый мальчик , нежный и добрый ! и именно такой чудо – ребенок , не умеющий убивать и не имеющий этой жажды крови , способен приручить черную xxmaj xxunk ! \n",
       " \n",
       " \n",
       " \n",
       "  xxmaj конечно же каждый – ну или почти каждый ( за редким исключение ) мультик – учит добру ! \n",
       " \n",
       " \n",
       " \n",
       "  xxmaj да этот тоже учит – не надо судить о людях ( в данном случае о драконах ) по первому впечатлению , оно бывает xxunk , как правило ! \n",
       " \n",
       " \n",
       " \n",
       "  xxmaj так что есть на что посмотреть и над чем подумать ! xxmaj всем советую , особенно в xxup 3d , но если его нет , то не беда , и в обычном варианте есть на что посмотреть ! \n",
       " \n",
       " \n",
       " \n",
       "  10 из 10 \n",
       " \n",
       " \n",
       " \n",
       "  p.s . xxmaj единственный минус – черную xxmaj xxunk обделили – ну это как – то не очень – все xxunk значит по парам с детишками , а эта милая xxunk прелесть одна ! xxmaj принцип « каждой твари – по паре » - не сработал ..,xxbos xxmaj мультик просто кишит национальным американским юмором . xxmaj пародию на фильмы о мафии заметят те , кто смотрел криминальные фильмы , а вряд ли таковых много среди детишек , для которых ' xxmaj подводная братва ' и предназначена . \n",
       " \n",
       " \n",
       " \n",
       "  xxmaj графика , почему - то , не впечатлила . xxmaj отчасти из - за того , что xxunk очень сильно напоминают xxunk . xxmaj досмотреть до конца не хватило сил . xxmaj даже xxmaj кристина xxmaj агилера со своей песней не спасла картину . а сколько коммерции !\n",
       "y: LMLabelList\n",
       ",,,,\n",
       "Path: .;\n",
       "\n",
       "Test: None, model=SequentialRNN(\n",
       "  (0): AWD_LSTM(\n",
       "    (encoder): Embedding(60004, 400, padding_idx=1)\n",
       "    (encoder_dp): EmbeddingDropout(\n",
       "      (emb): Embedding(60004, 400, padding_idx=1)\n",
       "    )\n",
       "    (rnns): ModuleList(\n",
       "      (0): WeightDropout(\n",
       "        (module): LSTM(400, 1150, batch_first=True)\n",
       "      )\n",
       "      (1): WeightDropout(\n",
       "        (module): LSTM(1150, 1150, batch_first=True)\n",
       "      )\n",
       "      (2): WeightDropout(\n",
       "        (module): LSTM(1150, 400, batch_first=True)\n",
       "      )\n",
       "    )\n",
       "    (input_dp): RNNDropout()\n",
       "    (hidden_dps): ModuleList(\n",
       "      (0): RNNDropout()\n",
       "      (1): RNNDropout()\n",
       "      (2): RNNDropout()\n",
       "    )\n",
       "  )\n",
       "  (1): LinearDecoder(\n",
       "    (decoder): Linear(in_features=400, out_features=60004, bias=True)\n",
       "    (output_dp): RNNDropout()\n",
       "  )\n",
       "), opt_func=functools.partial(<class 'torch.optim.adam.Adam'>, betas=(0.9, 0.99)), loss_func=FlattenedLoss of CrossEntropyLoss(), metrics=[<function accuracy at 0x7fbd772f89d8>], true_wd=True, bn_wd=True, wd=0.01, train_bn=True, path=PosixPath('.'), model_dir='models', callback_fns=[functools.partial(<class 'fastai.basic_train.Recorder'>, add_time=True)], callbacks=[...], layer_groups=[Sequential(\n",
       "  (0): WeightDropout(\n",
       "    (module): LSTM(400, 1150, batch_first=True)\n",
       "  )\n",
       "  (1): RNNDropout()\n",
       "), Sequential(\n",
       "  (0): WeightDropout(\n",
       "    (module): LSTM(1150, 1150, batch_first=True)\n",
       "  )\n",
       "  (1): RNNDropout()\n",
       "), Sequential(\n",
       "  (0): WeightDropout(\n",
       "    (module): LSTM(1150, 400, batch_first=True)\n",
       "  )\n",
       "  (1): RNNDropout()\n",
       "), Sequential(\n",
       "  (0): Embedding(60004, 400, padding_idx=1)\n",
       "  (1): EmbeddingDropout(\n",
       "    (emb): Embedding(60004, 400, padding_idx=1)\n",
       "  )\n",
       "  (2): LinearDecoder(\n",
       "    (decoder): Linear(in_features=400, out_features=60004, bias=True)\n",
       "    (output_dp): RNNDropout()\n",
       "  )\n",
       ")], add_time=True)\n",
       "alpha: 2.0\n",
       "beta: 1.0], layer_groups=[Sequential(\n",
       "  (0): WeightDropout(\n",
       "    (module): LSTM(400, 1150, batch_first=True)\n",
       "  )\n",
       "  (1): RNNDropout()\n",
       "), Sequential(\n",
       "  (0): WeightDropout(\n",
       "    (module): LSTM(1150, 1150, batch_first=True)\n",
       "  )\n",
       "  (1): RNNDropout()\n",
       "), Sequential(\n",
       "  (0): WeightDropout(\n",
       "    (module): LSTM(1150, 400, batch_first=True)\n",
       "  )\n",
       "  (1): RNNDropout()\n",
       "), Sequential(\n",
       "  (0): Embedding(60004, 400, padding_idx=1)\n",
       "  (1): EmbeddingDropout(\n",
       "    (emb): Embedding(60004, 400, padding_idx=1)\n",
       "  )\n",
       "  (2): LinearDecoder(\n",
       "    (decoder): Linear(in_features=400, out_features=60004, bias=True)\n",
       "    (output_dp): RNNDropout()\n",
       "  )\n",
       ")], add_time=True)"
      ]
     },
     "execution_count": 22,
     "metadata": {},
     "output_type": "execute_result"
    }
   ],
   "source": [
    "learn.load('kinopoisk_head')"
   ]
  },
  {
   "cell_type": "markdown",
   "metadata": {},
   "source": [
    "Посмотрим как работает предсказание:"
   ]
  },
  {
   "cell_type": "code",
   "execution_count": 24,
   "metadata": {},
   "outputs": [
    {
     "name": "stdout",
     "output_type": "stream",
     "text": [
      "полный эффект присутствия в ' Сумерках ' не позволяет без спойлеров принять в расчет . Их читали подробно , назовем сценарий . Как выяснилось , все , что у меня есть в основе сценария , абсолютно . Их хоть\n",
      "полный эффект присутствия в фильме ' Зеленая миля ' для детей в качестве , к сожалению , не добавляет фильму домохозяйки изюминки , которая , как мне кажется , была значительно лучше . Поэтому , это значит , что история о\n"
     ]
    }
   ],
   "source": [
    "TEXT = \"полный эффект присутствия\"\n",
    "N_WORDS = 40\n",
    "N_SENTENCES = 2\n",
    "\n",
    "print(\"\\n\".join(learn.predict(TEXT, N_WORDS, temperature=0.75) for _ in range(N_SENTENCES)))"
   ]
  },
  {
   "cell_type": "markdown",
   "metadata": {},
   "source": [
    "Теперь мы \"разморозим\" все слои и продолжим обучение языковой модели"
   ]
  },
  {
   "cell_type": "code",
   "execution_count": 25,
   "metadata": {
    "collapsed": true
   },
   "outputs": [],
   "source": [
    "learn.unfreeze()"
   ]
  },
  {
   "cell_type": "code",
   "execution_count": 26,
   "metadata": {
    "collapsed": true
   },
   "outputs": [],
   "source": [
    "from fastai.callbacks import SaveModelCallback, ReduceLROnPlateauCallback"
   ]
  },
  {
   "cell_type": "code",
   "execution_count": 29,
   "metadata": {},
   "outputs": [
    {
     "data": {
      "text/html": [
       "Total time: 5:38:57 <p><table border=\"1\" class=\"dataframe\">\n",
       "  <thead>\n",
       "    <tr style=\"text-align: left;\">\n",
       "      <th>epoch</th>\n",
       "      <th>train_loss</th>\n",
       "      <th>valid_loss</th>\n",
       "      <th>accuracy</th>\n",
       "      <th>time</th>\n",
       "    </tr>\n",
       "  </thead>\n",
       "  <tbody>\n",
       "    <tr>\n",
       "      <td>0</td>\n",
       "      <td>4.374048</td>\n",
       "      <td>3.758804</td>\n",
       "      <td>0.300000</td>\n",
       "      <td>33:44</td>\n",
       "    </tr>\n",
       "    <tr>\n",
       "      <td>1</td>\n",
       "      <td>4.262966</td>\n",
       "      <td>3.546897</td>\n",
       "      <td>0.328571</td>\n",
       "      <td>33:48</td>\n",
       "    </tr>\n",
       "    <tr>\n",
       "      <td>2</td>\n",
       "      <td>4.226732</td>\n",
       "      <td>3.489769</td>\n",
       "      <td>0.371429</td>\n",
       "      <td>33:50</td>\n",
       "    </tr>\n",
       "    <tr>\n",
       "      <td>3</td>\n",
       "      <td>4.159681</td>\n",
       "      <td>3.341416</td>\n",
       "      <td>0.385714</td>\n",
       "      <td>33:52</td>\n",
       "    </tr>\n",
       "    <tr>\n",
       "      <td>4</td>\n",
       "      <td>4.098773</td>\n",
       "      <td>3.390381</td>\n",
       "      <td>0.371429</td>\n",
       "      <td>33:54</td>\n",
       "    </tr>\n",
       "    <tr>\n",
       "      <td>5</td>\n",
       "      <td>4.072806</td>\n",
       "      <td>3.288219</td>\n",
       "      <td>0.385714</td>\n",
       "      <td>33:53</td>\n",
       "    </tr>\n",
       "    <tr>\n",
       "      <td>6</td>\n",
       "      <td>4.043604</td>\n",
       "      <td>3.259739</td>\n",
       "      <td>0.371429</td>\n",
       "      <td>33:55</td>\n",
       "    </tr>\n",
       "    <tr>\n",
       "      <td>7</td>\n",
       "      <td>3.992717</td>\n",
       "      <td>3.264781</td>\n",
       "      <td>0.400000</td>\n",
       "      <td>33:54</td>\n",
       "    </tr>\n",
       "    <tr>\n",
       "      <td>8</td>\n",
       "      <td>3.968031</td>\n",
       "      <td>3.251725</td>\n",
       "      <td>0.371429</td>\n",
       "      <td>33:55</td>\n",
       "    </tr>\n",
       "    <tr>\n",
       "      <td>9</td>\n",
       "      <td>3.943636</td>\n",
       "      <td>3.248332</td>\n",
       "      <td>0.385714</td>\n",
       "      <td>33:54</td>\n",
       "    </tr>\n",
       "  </tbody>\n",
       "</table>"
      ],
      "text/plain": [
       "<IPython.core.display.HTML object>"
      ]
     },
     "metadata": {},
     "output_type": "display_data"
    },
    {
     "name": "stdout",
     "output_type": "stream",
     "text": [
      "Better model found at epoch 0 with val_loss value: 3.7588043212890625.\n",
      "Better model found at epoch 1 with val_loss value: 3.5468966960906982.\n",
      "Better model found at epoch 2 with val_loss value: 3.489769220352173.\n",
      "Better model found at epoch 3 with val_loss value: 3.341416358947754.\n",
      "Better model found at epoch 5 with val_loss value: 3.2882192134857178.\n",
      "Better model found at epoch 6 with val_loss value: 3.2597389221191406.\n",
      "Better model found at epoch 8 with val_loss value: 3.251725435256958.\n",
      "Better model found at epoch 9 with val_loss value: 3.2483322620391846.\n"
     ]
    }
   ],
   "source": [
    "learn.fit_one_cycle(10, 1e-3, moms=(0.8, 0.7), \n",
    "                    callbacks=[SaveModelCallback(learn, name='best_kinopoisk')])"
   ]
  },
  {
   "cell_type": "code",
   "execution_count": 30,
   "metadata": {
    "collapsed": true
   },
   "outputs": [],
   "source": [
    "learn.save('kinopoisk_tuned')"
   ]
  },
  {
   "cell_type": "code",
   "execution_count": 21,
   "metadata": {
    "collapsed": true
   },
   "outputs": [],
   "source": [
    "learn.model_dir = ''"
   ]
  },
  {
   "cell_type": "code",
   "execution_count": 22,
   "metadata": {},
   "outputs": [
    {
     "data": {
      "text/plain": [
       "LanguageLearner(data=TextLMDataBunch;\n",
       "\n",
       "Train: LabelList (44973 items)\n",
       "x: LMTextList\n",
       "xxbos xxmaj очень красивая фантастика , отлично снято , оператору особая благодарность , мастерам спецэффектов тоже xxunk поклон . xxmaj все качественно и необыкновенно ! о xxmaj вине xxmaj xxunk я вообще молчу :) восхищена , очень классно ! \n",
       " \n",
       " \n",
       " \n",
       "  xxmaj нет той привычной напыщенности и ' крутости ' , как в обыкновенных боевиках , он побеждает благодаря своей силе , стремлению выжить во что бы то ни стало . xxmaj вот чего не хватает в фильме , так это xxunk рассказа , мифологии , ху из ху , так сказать :) ( как в xxmaj звездных войнах , например ) и откуда все эти xxunk и xxunk взялись . \n",
       " \n",
       " \n",
       " \n",
       "  а какой звук , это просто потрясающе ! xxmaj полный эффект присутствия , хотя может это все зависит от кинотеатра .,xxbos xxmaj нервный парнишка , нервные взрослые , раздражения и xxunk друг другом и самим собой . \n",
       " \n",
       " \n",
       " \n",
       "  xxmaj безысходность и xxunk жизнью ( такой короткой ) выливается в трагический исход главного героя .,xxbos « xxmaj xxunk 2 » - продолжение культовой саги о xxunk xxunk xxmaj xxunk xxunk - является ярким примером , того как культовые фильмы губят сиквелы … \n",
       " \n",
       " \n",
       " \n",
       "  xxmaj xxunk , порой просто абсурдный , сюжетик , очередное , такое же xxunk размышление о эпохе кибер - панка , конечно же xxmaj кристофер xxmaj ламберт , xxmaj шон xxmaj xxunk , и всё xxunk , во второй части вообще не уместная музыка группы xxmaj queen и великий xxmaj рассел xxmaj xxunk в кресле « директора » – всё это вторая часть « xxmaj xxunk » . \n",
       " \n",
       " \n",
       " \n",
       "  xxmaj выглядит отвратно , но если вас заинтересовало всё выше сказанное – обязательно посмотрите , ведь в конце останется только один … но когда наступит конец в конце то концов ! \n",
       " \n",
       " ,xxbos с французским кино что - то не так . xxmaj не знаю , сколько xxunk создатели заблудившихся , но у них всё равно ничего не получилось . \n",
       " \n",
       " \n",
       " \n",
       "  xxmaj размытая , xxunk xxunk xxunk xxunk , история без начала и конца . xxmaj авторы , похоже сами заблудились в поисках осмысленного сюжета , пытаясь придать действиям своих героев хоть какую - нибудь xxunk . \n",
       " \n",
       " \n",
       " \n",
       "  в итоге получился хаос , где не понятно : что , зачем и почему . xxmaj актёры xxunk , даже в чувственных сценах . xxmaj врядли они понимают смысл происходящего . \n",
       " \n",
       " \n",
       " \n",
       "  в общем , кино , которое не нужно . xxmaj не нужно было снимать .,xxbos xxmaj джоди xxmaj фостер . xxmaj именно она сделала этот фильм xxunk , превратив его своей игрой в настоящую головоломку . xxmaj её героиня вводит в заблуждение зрителя и скрывает xxunk придуманного авторами сюжета . \n",
       " \n",
       " \n",
       " \n",
       "  xxmaj xxunk одержимость xxmaj xxunk xxmaj старлинг поиском маньяка скрывает незатейливые замыслы доктора xxmaj лектора . и знаете почему . xxmaj гениальному xxmaj энтони xxmaj хопкинсу не хватило иронии , которую xxunk авторы сценария в сюжет картины . \n",
       " \n",
       " \n",
       " \n",
       "  в то время как xxmaj фостер своей эмоциональной игрой благополучно xxunk на первый план линию поиска серийного убийцы , главная сюжетная линия , которую ведёт xxmaj хопкинс , оказалась xxunk на второй план . \n",
       " \n",
       " \n",
       " \n",
       "  xxmaj это линия xxunk игры в доктора xxunk . xxmaj на самом деле , пока героиня xxmaj фостер мучительно xxunk над мотивами поведения и свойствами личности маньяка - убийцы , другой маньяк - убийца ( вот вам ирония ) пробует на ней свои знания психиатрии . \n",
       " \n",
       " \n",
       " \n",
       "  xxmaj он лечит xxmaj xxunk xxmaj старлинг , а она , бедняжка , думает , что он xxunk со следствием . xxmaj не заметив замысла сценаристов , xxmaj хопкинс сосредоточился на демонической стороне характера xxmaj лектора , xxunk иронию его действий . \n",
       " \n",
       " \n",
       " \n",
       "  xxmaj но , как ни странно , фильму это пошло на пользу . xxmaj получилась головоломка , где зритель постоянно ищет xxunk связи в xxunk сюжетных линиях . \n",
       " \n",
       " \n",
       " \n",
       "  а то , что сиквелы xxunk xxmaj ягнят xxunk и близко не стояли с оригиналом - наглядное подтверждение xxunk роли xxunk в них xxmaj джоди xxmaj фостер в создании неповторимого духа этой картины .\n",
       "y: LMLabelList\n",
       ",,,,\n",
       "Path: .;\n",
       "\n",
       "Valid: LabelList (4997 items)\n",
       "x: LMTextList\n",
       "xxbos xxmaj этот сериал я начала смотреть из за xxmaj чада xxmaj майкла xxmaj xxunk . я его начала смотреть с большим интересом и не разочаровалась совсем . xxmaj этот сериал не как все . xxmaj он особенный , даже если жизненный . xxmaj он учит нас о хорошим , о том что люди могут меняться . xxmaj это я больше всего заметила у xxmaj брук . xxmaj она стала моим любимом героем после просмотра несколько сезонов . в начале она была немного xxunk школьница , которой не трудно было перед кем - то xxunk или с кем - то переспать . xxmaj но начиная с пятого сезона её будто подменили . xxmaj она xxunk . \n",
       " \n",
       " \n",
       " \n",
       "  xxmaj мне безумно понравился этот сериал . xxmaj он начался со школьной жизни героев и продолжался , показывая , что они достигли после школы . \n",
       " \n",
       "  я , наверное , никогда не xxunk этот сериал ! \n",
       " \n",
       "  xxmaj жаль , что нельзя больше поставить : \n",
       " \n",
       " \n",
       " \n",
       "  10 из 10,xxbos xxmaj во - первых , мне бы искренне не хотелось , чтобы кто - то xxunk деньги за покупку этого фильма . xxmaj настоятельно не рекомендую смотреть в кинотеатре или как бы то еще xxunk в просмотр сей картины . и во - вторых , хочу объяснить , что платить деньги не стоит не потому , что фильм - шлак , а потому что все его достоинства ( а они есть ) не xxunk этих затрат . \n",
       " \n",
       " \n",
       " \n",
       "  xxmaj теперь выскажусь непосредственно xxunk xxunk и начну с хорошего : \n",
       " \n",
       " \n",
       " \n",
       "  1 . xxmaj девушки и юноши безусловно , бесспорно все большие молодцы . xxmaj отлично справились со своими ролями . xxmaj их игра xxunk , без налета фальши , во всех отношениях хороша и достойна нашей с вами похвалы . \n",
       " \n",
       " \n",
       " \n",
       "  2 . xxmaj несмотря на отсутствие какой бы то ни было операторской работы , мне понравилось , как снят фильм чисто в плане операторской съемки . я не знаю , возможно эффект присутствия камеры был xxunk , но в некоторых местах он вызывал у меня какое - то странное недоумение и xxunk с основного хода действия . xxmaj но в целом , я скажу скорее да , чем нет такому приему именно в этом фильме . xxmaj может быть , найдется множество несогласных со мной , но это было моим самым первым впечатлением , именно его мне бы и хотелось передать . \n",
       " \n",
       " \n",
       " \n",
       "  3 . я отлично помню свои школьные годы и могу отметить такую xxunk вещь , что несмотря на то , что школьники показаны ( совершенно незаслуженно ) катастрофически xxunk , xxunk , с xxunk в небольшое количество xxunk xxunk слов , бесконечно точно передана их психология , их поведение в тех или иных ситуациях . xxmaj мне трудно передать эту мысль , но в некоторых диалогах мне xxunk мои одноклассники 6 - 7 классов , и xxunk они с дикой точностью . \n",
       " \n",
       " \n",
       " \n",
       "  4 . xxmaj есть отлично снятые сцены . xxmaj если положить , что фильм - апельсин , то конечно в нем есть очень вкусные и сладкие xxunk . \n",
       " \n",
       "  xxmaj возможно , после такой фразы мне бы ответили , что у меня все задатки педофила , но я все равно уверена , что ценителям красоты во всех ее xxunk проявлениях найдется , что рассмотреть . \n",
       " \n",
       " \n",
       " \n",
       "  xxmaj теперь о плохом : \n",
       " \n",
       " \n",
       " \n",
       "  1 . xxmaj самое досадное , самое обидное , самое то , что разочаровало меня до глубины души , - это концовка ! xxmaj мне было трудно сдержать xxunk ' и всё ? ! ' после того , как совершенно неожиданно пошли титры . xxmaj мне хотелось продолжения , казалось , фильм xxunk , xxunk , xxunk , xxunk . \n",
       " \n",
       " \n",
       " \n",
       "  2 . xxmaj об излишней xxunk и xxunk типажей я уже говорила . xxmaj дети , xxunk на xxunk языке . xxmaj родители , постоянно xxunk xxunk окна . xxmaj учителя , тупые и xxunk до одури . xxmaj так не бывает . xxmaj жизнь xxunk со всех сторон , с каких не посмотри . я не верю , что в огромной школе не нашелся бы хороший , знающий , умеющий разговаривать с xxunk учитель . в моей школе таких учителей было подавляющее большинство ! \n",
       " \n",
       " \n",
       " \n",
       "  3 . xxmaj есть вещи , которые , как мне кажется , выдают непрофессионализм то ли режиссера , то ли сценариста ... xxmaj например , в такой обычной школе не проводят xxunk с xxunk освещением . xxmaj насколько я помню , школьные дискотеки очень наивны и совсем не похожи на те дискотеки , которые устраивают в клубах , а в фильме показана именно такая дискотека , благо что без xxunk xxunk ... xxmaj очень непрофессионально выглядит сцена похорон кота и рыбок . xxmaj ею хотели сказать что - то глубокое , xxunk ? xxmaj по - моему , не удалось . \n",
       " \n",
       " \n",
       " \n",
       "  4 . xxmaj какая - то до детскости бредовая проблематика и вообще концепция в целом . xxmaj что в итоге хотели показать - то ? xxmaj проблемы детей , подростков и их родителей , несовершенство школьной системы , три язвы современного общества : алкоголь , наркотики , угроза спида , xxunk маленьких детей ? ? ? xxmaj это хотели показать со смаком и в красках ? xxmaj но зачем ? xxmaj по моему личному мнению , xxunk зарабатывать себе имя , разговаривая со своим зрителем примерно на таком уровне : ' это дерьмо , посмотрите на него внимательно , я покажу его со всех сторон , фу , гадость ' . xxmaj так нельзя . \n",
       " \n",
       " \n",
       " \n",
       "  5 из 10,xxbos xxmaj знаете , если бы меня спросили , какую группу я больше всего люблю , то я точно xxunk бы ответить , ведь каждый месяц , а иногда и год , находится что - то новое , совершенно xxunk предыдущее , хоть и не делая его хуже . xxmaj однако среди фильмов это , как ни странно , не так . я с детства люблю определенный набор фильмов , которые , думаю , буду не прочь пересмотреть и в старости . xxmaj сегодня я расскажу об одном из таких фильмов . xxmaj посмотрел я его , правда , не в детстве , но это даже лучше . \n",
       " \n",
       " \n",
       " \n",
       "  я говорю , конечно , о фильме xxmaj the xxmaj xxunk , который у нас проходил под довольно банальным названием xxmaj однажды в xxmaj ирландии . xxmaj согласитесь , наше название настраивает больше на теплую историю о жителях холодных островов , нежели на довольно забавную местами драму о полицейских буднях xxmaj ирландской глубинки . xxmaj говоря о названии нужно также сказать , что этот фильм можно было бы xxunk ' xxmaj залечь на дно в xxmaj ирландии ' , как сказал кто - то на кинопоиске . и правда , xxmaj xxunk xxmaj xxunk очень похож на своего ' старшего брата ' . xxmaj но обо всём по порядку . \n",
       " \n",
       " \n",
       " \n",
       "  xxmaj нам рассказывается история полицейского , который не прочь xxunk экстази на смене , которых не прочь сходить к xxunk , который , в конце - концов , до ужаса xxunk , и к которому на дело по наркотикам приезжает чернокожий агент xxup фбр . xxmaj впрочем , если верить фильму , это не только его черта , но и всех жителей этого места . xxmaj на этом , кстати , основаны практически все шутки фильма , описывать нет смыслу , на бумаге это не так смешно , как на экране . \n",
       " \n",
       " \n",
       " \n",
       "  xxmaj как и большинство моих любимых фильмов , в этом фильме не так уж и много xxunk . xxmaj нет , герои не сидят весь день в подвале и что - то обсуждают , нет , здесь есть xxunk , а в конце даже какой - никакой экшон , но это не xxmaj бешеные xxmaj псы и уж тем более не какой - нибудь xxmaj адреналин , тут всё спокойней . xxmaj спокойствие , кстати , основная черта главного героя , абсолютно неподражаемого xxmaj брендана xxmaj xxunk ( я не знаю , как правильно xxunk xxmaj английские имена , идите лесом ) - что бы не происходило на экране - наш герой встретит это с каменным лицом . в этом , на мой взгляд , и заключается вся линия этого героя - его внутренние переживания ( в этом и сходство с фильмом про xxmaj брюгге - там тоже акцент сделан на моральных терзаниях героя ) и эмоции . xxmaj правда , здесь , в отличии от того же xxmaj брюгге , не говорится , что же такого наш герой сделал . и вы знаете , похоже , что нечто ужасное . xxmaj здесь нужно отметить xxunk , которую вряд ли понял рядовой зритель любой страны , кроме нашей - в одном из моментов мать гг читает xxmaj xxunk . xxmaj тут уж сами xxunk параллели . \n",
       " \n",
       " \n",
       " \n",
       "  xxmaj вся прелесть фильма заключается в этом спокойствии . в xxunk сержанта , торговцев наркотиков , да всех , кроме , что интересно , xxmaj ирландцев . xxmaj хоть какие - то эмоции проявляет американец - негр из xxup фбр и жена полицейского , которая xxunk из восточной xxmaj европы . xxmaj ну и игра xxmaj глисона , тут нечего говорить . xxmaj xxunk я свой небольшой рассказ словами , которыми агент xxup фбр весьма метко охарактеризовал главного героя : \n",
       " \n",
       " \n",
       " \n",
       "  ' xxmaj сержант , я не пойму - то ли вы ох --- но тупой , то ли ох --- но умный ',xxbos xxmaj потрясающей мультик ! я просто в диком восторге ! \n",
       " \n",
       " \n",
       " \n",
       "  xxmaj оказывается , что драконы тоже могут , а главное хотят , очень – очень хотят , дружить ! xxmaj все их xxunk , убивают , бьют , а они ведь такие милые . xxmaj но у каждого клана свои правила и законы , вот они и трудятся на дико уродливое существо – типа самого главного дракона ! но , происходит революция – и … xxunk власть меняется . \n",
       " \n",
       " \n",
       " \n",
       "  у них свой мир , xxunk и не понятный простому xxunk , с xxunk xxunk xxunk на голове . xxmaj но как всегда должен появиться кто - то , кто все изменит – этакий супер - герой ! \n",
       " \n",
       " \n",
       " \n",
       "  xxmaj xxunk – такой милый мальчик , нежный и добрый ! и именно такой чудо – ребенок , не умеющий убивать и не имеющий этой жажды крови , способен приручить черную xxmaj xxunk ! \n",
       " \n",
       " \n",
       " \n",
       "  xxmaj конечно же каждый – ну или почти каждый ( за редким исключение ) мультик – учит добру ! \n",
       " \n",
       " \n",
       " \n",
       "  xxmaj да этот тоже учит – не надо судить о людях ( в данном случае о драконах ) по первому впечатлению , оно бывает xxunk , как правило ! \n",
       " \n",
       " \n",
       " \n",
       "  xxmaj так что есть на что посмотреть и над чем подумать ! xxmaj всем советую , особенно в xxup 3d , но если его нет , то не беда , и в обычном варианте есть на что посмотреть ! \n",
       " \n",
       " \n",
       " \n",
       "  10 из 10 \n",
       " \n",
       " \n",
       " \n",
       "  p.s . xxmaj единственный минус – черную xxmaj xxunk обделили – ну это как – то не очень – все xxunk значит по парам с детишками , а эта милая xxunk прелесть одна ! xxmaj принцип « каждой твари – по паре » - не сработал ..,xxbos xxmaj мультик просто кишит национальным американским юмором . xxmaj пародию на фильмы о мафии заметят те , кто смотрел криминальные фильмы , а вряд ли таковых много среди детишек , для которых ' xxmaj подводная братва ' и предназначена . \n",
       " \n",
       " \n",
       " \n",
       "  xxmaj графика , почему - то , не впечатлила . xxmaj отчасти из - за того , что xxunk очень сильно напоминают xxunk . xxmaj досмотреть до конца не хватило сил . xxmaj даже xxmaj кристина xxmaj агилера со своей песней не спасла картину . а сколько коммерции !\n",
       "y: LMLabelList\n",
       ",,,,\n",
       "Path: .;\n",
       "\n",
       "Test: None, model=SequentialRNN(\n",
       "  (0): AWD_LSTM(\n",
       "    (encoder): Embedding(60004, 400, padding_idx=1)\n",
       "    (encoder_dp): EmbeddingDropout(\n",
       "      (emb): Embedding(60004, 400, padding_idx=1)\n",
       "    )\n",
       "    (rnns): ModuleList(\n",
       "      (0): WeightDropout(\n",
       "        (module): LSTM(400, 1150, batch_first=True)\n",
       "      )\n",
       "      (1): WeightDropout(\n",
       "        (module): LSTM(1150, 1150, batch_first=True)\n",
       "      )\n",
       "      (2): WeightDropout(\n",
       "        (module): LSTM(1150, 400, batch_first=True)\n",
       "      )\n",
       "    )\n",
       "    (input_dp): RNNDropout()\n",
       "    (hidden_dps): ModuleList(\n",
       "      (0): RNNDropout()\n",
       "      (1): RNNDropout()\n",
       "      (2): RNNDropout()\n",
       "    )\n",
       "  )\n",
       "  (1): LinearDecoder(\n",
       "    (decoder): Linear(in_features=400, out_features=60004, bias=True)\n",
       "    (output_dp): RNNDropout()\n",
       "  )\n",
       "), opt_func=functools.partial(<class 'torch.optim.adam.Adam'>, betas=(0.9, 0.99)), loss_func=FlattenedLoss of CrossEntropyLoss(), metrics=[<function accuracy at 0x7f0b027f79d8>], true_wd=True, bn_wd=True, wd=0.01, train_bn=True, path=PosixPath('models'), model_dir='', callback_fns=[functools.partial(<class 'fastai.basic_train.Recorder'>, add_time=True)], callbacks=[RNNTrainer\n",
       "learn: LanguageLearner(data=TextLMDataBunch;\n",
       "\n",
       "Train: LabelList (44973 items)\n",
       "x: LMTextList\n",
       "xxbos xxmaj очень красивая фантастика , отлично снято , оператору особая благодарность , мастерам спецэффектов тоже xxunk поклон . xxmaj все качественно и необыкновенно ! о xxmaj вине xxmaj xxunk я вообще молчу :) восхищена , очень классно ! \n",
       " \n",
       " \n",
       " \n",
       "  xxmaj нет той привычной напыщенности и ' крутости ' , как в обыкновенных боевиках , он побеждает благодаря своей силе , стремлению выжить во что бы то ни стало . xxmaj вот чего не хватает в фильме , так это xxunk рассказа , мифологии , ху из ху , так сказать :) ( как в xxmaj звездных войнах , например ) и откуда все эти xxunk и xxunk взялись . \n",
       " \n",
       " \n",
       " \n",
       "  а какой звук , это просто потрясающе ! xxmaj полный эффект присутствия , хотя может это все зависит от кинотеатра .,xxbos xxmaj нервный парнишка , нервные взрослые , раздражения и xxunk друг другом и самим собой . \n",
       " \n",
       " \n",
       " \n",
       "  xxmaj безысходность и xxunk жизнью ( такой короткой ) выливается в трагический исход главного героя .,xxbos « xxmaj xxunk 2 » - продолжение культовой саги о xxunk xxunk xxmaj xxunk xxunk - является ярким примером , того как культовые фильмы губят сиквелы … \n",
       " \n",
       " \n",
       " \n",
       "  xxmaj xxunk , порой просто абсурдный , сюжетик , очередное , такое же xxunk размышление о эпохе кибер - панка , конечно же xxmaj кристофер xxmaj ламберт , xxmaj шон xxmaj xxunk , и всё xxunk , во второй части вообще не уместная музыка группы xxmaj queen и великий xxmaj рассел xxmaj xxunk в кресле « директора » – всё это вторая часть « xxmaj xxunk » . \n",
       " \n",
       " \n",
       " \n",
       "  xxmaj выглядит отвратно , но если вас заинтересовало всё выше сказанное – обязательно посмотрите , ведь в конце останется только один … но когда наступит конец в конце то концов ! \n",
       " \n",
       " ,xxbos с французским кино что - то не так . xxmaj не знаю , сколько xxunk создатели заблудившихся , но у них всё равно ничего не получилось . \n",
       " \n",
       " \n",
       " \n",
       "  xxmaj размытая , xxunk xxunk xxunk xxunk , история без начала и конца . xxmaj авторы , похоже сами заблудились в поисках осмысленного сюжета , пытаясь придать действиям своих героев хоть какую - нибудь xxunk . \n",
       " \n",
       " \n",
       " \n",
       "  в итоге получился хаос , где не понятно : что , зачем и почему . xxmaj актёры xxunk , даже в чувственных сценах . xxmaj врядли они понимают смысл происходящего . \n",
       " \n",
       " \n",
       " \n",
       "  в общем , кино , которое не нужно . xxmaj не нужно было снимать .,xxbos xxmaj джоди xxmaj фостер . xxmaj именно она сделала этот фильм xxunk , превратив его своей игрой в настоящую головоломку . xxmaj её героиня вводит в заблуждение зрителя и скрывает xxunk придуманного авторами сюжета . \n",
       " \n",
       " \n",
       " \n",
       "  xxmaj xxunk одержимость xxmaj xxunk xxmaj старлинг поиском маньяка скрывает незатейливые замыслы доктора xxmaj лектора . и знаете почему . xxmaj гениальному xxmaj энтони xxmaj хопкинсу не хватило иронии , которую xxunk авторы сценария в сюжет картины . \n",
       " \n",
       " \n",
       " \n",
       "  в то время как xxmaj фостер своей эмоциональной игрой благополучно xxunk на первый план линию поиска серийного убийцы , главная сюжетная линия , которую ведёт xxmaj хопкинс , оказалась xxunk на второй план . \n",
       " \n",
       " \n",
       " \n",
       "  xxmaj это линия xxunk игры в доктора xxunk . xxmaj на самом деле , пока героиня xxmaj фостер мучительно xxunk над мотивами поведения и свойствами личности маньяка - убийцы , другой маньяк - убийца ( вот вам ирония ) пробует на ней свои знания психиатрии . \n",
       " \n",
       " \n",
       " \n",
       "  xxmaj он лечит xxmaj xxunk xxmaj старлинг , а она , бедняжка , думает , что он xxunk со следствием . xxmaj не заметив замысла сценаристов , xxmaj хопкинс сосредоточился на демонической стороне характера xxmaj лектора , xxunk иронию его действий . \n",
       " \n",
       " \n",
       " \n",
       "  xxmaj но , как ни странно , фильму это пошло на пользу . xxmaj получилась головоломка , где зритель постоянно ищет xxunk связи в xxunk сюжетных линиях . \n",
       " \n",
       " \n",
       " \n",
       "  а то , что сиквелы xxunk xxmaj ягнят xxunk и близко не стояли с оригиналом - наглядное подтверждение xxunk роли xxunk в них xxmaj джоди xxmaj фостер в создании неповторимого духа этой картины .\n",
       "y: LMLabelList\n",
       ",,,,\n",
       "Path: .;\n",
       "\n",
       "Valid: LabelList (4997 items)\n",
       "x: LMTextList\n",
       "xxbos xxmaj этот сериал я начала смотреть из за xxmaj чада xxmaj майкла xxmaj xxunk . я его начала смотреть с большим интересом и не разочаровалась совсем . xxmaj этот сериал не как все . xxmaj он особенный , даже если жизненный . xxmaj он учит нас о хорошим , о том что люди могут меняться . xxmaj это я больше всего заметила у xxmaj брук . xxmaj она стала моим любимом героем после просмотра несколько сезонов . в начале она была немного xxunk школьница , которой не трудно было перед кем - то xxunk или с кем - то переспать . xxmaj но начиная с пятого сезона её будто подменили . xxmaj она xxunk . \n",
       " \n",
       " \n",
       " \n",
       "  xxmaj мне безумно понравился этот сериал . xxmaj он начался со школьной жизни героев и продолжался , показывая , что они достигли после школы . \n",
       " \n",
       "  я , наверное , никогда не xxunk этот сериал ! \n",
       " \n",
       "  xxmaj жаль , что нельзя больше поставить : \n",
       " \n",
       " \n",
       " \n",
       "  10 из 10,xxbos xxmaj во - первых , мне бы искренне не хотелось , чтобы кто - то xxunk деньги за покупку этого фильма . xxmaj настоятельно не рекомендую смотреть в кинотеатре или как бы то еще xxunk в просмотр сей картины . и во - вторых , хочу объяснить , что платить деньги не стоит не потому , что фильм - шлак , а потому что все его достоинства ( а они есть ) не xxunk этих затрат . \n",
       " \n",
       " \n",
       " \n",
       "  xxmaj теперь выскажусь непосредственно xxunk xxunk и начну с хорошего : \n",
       " \n",
       " \n",
       " \n",
       "  1 . xxmaj девушки и юноши безусловно , бесспорно все большие молодцы . xxmaj отлично справились со своими ролями . xxmaj их игра xxunk , без налета фальши , во всех отношениях хороша и достойна нашей с вами похвалы . \n",
       " \n",
       " \n",
       " \n",
       "  2 . xxmaj несмотря на отсутствие какой бы то ни было операторской работы , мне понравилось , как снят фильм чисто в плане операторской съемки . я не знаю , возможно эффект присутствия камеры был xxunk , но в некоторых местах он вызывал у меня какое - то странное недоумение и xxunk с основного хода действия . xxmaj но в целом , я скажу скорее да , чем нет такому приему именно в этом фильме . xxmaj может быть , найдется множество несогласных со мной , но это было моим самым первым впечатлением , именно его мне бы и хотелось передать . \n",
       " \n",
       " \n",
       " \n",
       "  3 . я отлично помню свои школьные годы и могу отметить такую xxunk вещь , что несмотря на то , что школьники показаны ( совершенно незаслуженно ) катастрофически xxunk , xxunk , с xxunk в небольшое количество xxunk xxunk слов , бесконечно точно передана их психология , их поведение в тех или иных ситуациях . xxmaj мне трудно передать эту мысль , но в некоторых диалогах мне xxunk мои одноклассники 6 - 7 классов , и xxunk они с дикой точностью . \n",
       " \n",
       " \n",
       " \n",
       "  4 . xxmaj есть отлично снятые сцены . xxmaj если положить , что фильм - апельсин , то конечно в нем есть очень вкусные и сладкие xxunk . \n",
       " \n",
       "  xxmaj возможно , после такой фразы мне бы ответили , что у меня все задатки педофила , но я все равно уверена , что ценителям красоты во всех ее xxunk проявлениях найдется , что рассмотреть . \n",
       " \n",
       " \n",
       " \n",
       "  xxmaj теперь о плохом : \n",
       " \n",
       " \n",
       " \n",
       "  1 . xxmaj самое досадное , самое обидное , самое то , что разочаровало меня до глубины души , - это концовка ! xxmaj мне было трудно сдержать xxunk ' и всё ? ! ' после того , как совершенно неожиданно пошли титры . xxmaj мне хотелось продолжения , казалось , фильм xxunk , xxunk , xxunk , xxunk . \n",
       " \n",
       " \n",
       " \n",
       "  2 . xxmaj об излишней xxunk и xxunk типажей я уже говорила . xxmaj дети , xxunk на xxunk языке . xxmaj родители , постоянно xxunk xxunk окна . xxmaj учителя , тупые и xxunk до одури . xxmaj так не бывает . xxmaj жизнь xxunk со всех сторон , с каких не посмотри . я не верю , что в огромной школе не нашелся бы хороший , знающий , умеющий разговаривать с xxunk учитель . в моей школе таких учителей было подавляющее большинство ! \n",
       " \n",
       " \n",
       " \n",
       "  3 . xxmaj есть вещи , которые , как мне кажется , выдают непрофессионализм то ли режиссера , то ли сценариста ... xxmaj например , в такой обычной школе не проводят xxunk с xxunk освещением . xxmaj насколько я помню , школьные дискотеки очень наивны и совсем не похожи на те дискотеки , которые устраивают в клубах , а в фильме показана именно такая дискотека , благо что без xxunk xxunk ... xxmaj очень непрофессионально выглядит сцена похорон кота и рыбок . xxmaj ею хотели сказать что - то глубокое , xxunk ? xxmaj по - моему , не удалось . \n",
       " \n",
       " \n",
       " \n",
       "  4 . xxmaj какая - то до детскости бредовая проблематика и вообще концепция в целом . xxmaj что в итоге хотели показать - то ? xxmaj проблемы детей , подростков и их родителей , несовершенство школьной системы , три язвы современного общества : алкоголь , наркотики , угроза спида , xxunk маленьких детей ? ? ? xxmaj это хотели показать со смаком и в красках ? xxmaj но зачем ? xxmaj по моему личному мнению , xxunk зарабатывать себе имя , разговаривая со своим зрителем примерно на таком уровне : ' это дерьмо , посмотрите на него внимательно , я покажу его со всех сторон , фу , гадость ' . xxmaj так нельзя . \n",
       " \n",
       " \n",
       " \n",
       "  5 из 10,xxbos xxmaj знаете , если бы меня спросили , какую группу я больше всего люблю , то я точно xxunk бы ответить , ведь каждый месяц , а иногда и год , находится что - то новое , совершенно xxunk предыдущее , хоть и не делая его хуже . xxmaj однако среди фильмов это , как ни странно , не так . я с детства люблю определенный набор фильмов , которые , думаю , буду не прочь пересмотреть и в старости . xxmaj сегодня я расскажу об одном из таких фильмов . xxmaj посмотрел я его , правда , не в детстве , но это даже лучше . \n",
       " \n",
       " \n",
       " \n",
       "  я говорю , конечно , о фильме xxmaj the xxmaj xxunk , который у нас проходил под довольно банальным названием xxmaj однажды в xxmaj ирландии . xxmaj согласитесь , наше название настраивает больше на теплую историю о жителях холодных островов , нежели на довольно забавную местами драму о полицейских буднях xxmaj ирландской глубинки . xxmaj говоря о названии нужно также сказать , что этот фильм можно было бы xxunk ' xxmaj залечь на дно в xxmaj ирландии ' , как сказал кто - то на кинопоиске . и правда , xxmaj xxunk xxmaj xxunk очень похож на своего ' старшего брата ' . xxmaj но обо всём по порядку . \n",
       " \n",
       " \n",
       " \n",
       "  xxmaj нам рассказывается история полицейского , который не прочь xxunk экстази на смене , которых не прочь сходить к xxunk , который , в конце - концов , до ужаса xxunk , и к которому на дело по наркотикам приезжает чернокожий агент xxup фбр . xxmaj впрочем , если верить фильму , это не только его черта , но и всех жителей этого места . xxmaj на этом , кстати , основаны практически все шутки фильма , описывать нет смыслу , на бумаге это не так смешно , как на экране . \n",
       " \n",
       " \n",
       " \n",
       "  xxmaj как и большинство моих любимых фильмов , в этом фильме не так уж и много xxunk . xxmaj нет , герои не сидят весь день в подвале и что - то обсуждают , нет , здесь есть xxunk , а в конце даже какой - никакой экшон , но это не xxmaj бешеные xxmaj псы и уж тем более не какой - нибудь xxmaj адреналин , тут всё спокойней . xxmaj спокойствие , кстати , основная черта главного героя , абсолютно неподражаемого xxmaj брендана xxmaj xxunk ( я не знаю , как правильно xxunk xxmaj английские имена , идите лесом ) - что бы не происходило на экране - наш герой встретит это с каменным лицом . в этом , на мой взгляд , и заключается вся линия этого героя - его внутренние переживания ( в этом и сходство с фильмом про xxmaj брюгге - там тоже акцент сделан на моральных терзаниях героя ) и эмоции . xxmaj правда , здесь , в отличии от того же xxmaj брюгге , не говорится , что же такого наш герой сделал . и вы знаете , похоже , что нечто ужасное . xxmaj здесь нужно отметить xxunk , которую вряд ли понял рядовой зритель любой страны , кроме нашей - в одном из моментов мать гг читает xxmaj xxunk . xxmaj тут уж сами xxunk параллели . \n",
       " \n",
       " \n",
       " \n",
       "  xxmaj вся прелесть фильма заключается в этом спокойствии . в xxunk сержанта , торговцев наркотиков , да всех , кроме , что интересно , xxmaj ирландцев . xxmaj хоть какие - то эмоции проявляет американец - негр из xxup фбр и жена полицейского , которая xxunk из восточной xxmaj европы . xxmaj ну и игра xxmaj глисона , тут нечего говорить . xxmaj xxunk я свой небольшой рассказ словами , которыми агент xxup фбр весьма метко охарактеризовал главного героя : \n",
       " \n",
       " \n",
       " \n",
       "  ' xxmaj сержант , я не пойму - то ли вы ох --- но тупой , то ли ох --- но умный ',xxbos xxmaj потрясающей мультик ! я просто в диком восторге ! \n",
       " \n",
       " \n",
       " \n",
       "  xxmaj оказывается , что драконы тоже могут , а главное хотят , очень – очень хотят , дружить ! xxmaj все их xxunk , убивают , бьют , а они ведь такие милые . xxmaj но у каждого клана свои правила и законы , вот они и трудятся на дико уродливое существо – типа самого главного дракона ! но , происходит революция – и … xxunk власть меняется . \n",
       " \n",
       " \n",
       " \n",
       "  у них свой мир , xxunk и не понятный простому xxunk , с xxunk xxunk xxunk на голове . xxmaj но как всегда должен появиться кто - то , кто все изменит – этакий супер - герой ! \n",
       " \n",
       " \n",
       " \n",
       "  xxmaj xxunk – такой милый мальчик , нежный и добрый ! и именно такой чудо – ребенок , не умеющий убивать и не имеющий этой жажды крови , способен приручить черную xxmaj xxunk ! \n",
       " \n",
       " \n",
       " \n",
       "  xxmaj конечно же каждый – ну или почти каждый ( за редким исключение ) мультик – учит добру ! \n",
       " \n",
       " \n",
       " \n",
       "  xxmaj да этот тоже учит – не надо судить о людях ( в данном случае о драконах ) по первому впечатлению , оно бывает xxunk , как правило ! \n",
       " \n",
       " \n",
       " \n",
       "  xxmaj так что есть на что посмотреть и над чем подумать ! xxmaj всем советую , особенно в xxup 3d , но если его нет , то не беда , и в обычном варианте есть на что посмотреть ! \n",
       " \n",
       " \n",
       " \n",
       "  10 из 10 \n",
       " \n",
       " \n",
       " \n",
       "  p.s . xxmaj единственный минус – черную xxmaj xxunk обделили – ну это как – то не очень – все xxunk значит по парам с детишками , а эта милая xxunk прелесть одна ! xxmaj принцип « каждой твари – по паре » - не сработал ..,xxbos xxmaj мультик просто кишит национальным американским юмором . xxmaj пародию на фильмы о мафии заметят те , кто смотрел криминальные фильмы , а вряд ли таковых много среди детишек , для которых ' xxmaj подводная братва ' и предназначена . \n",
       " \n",
       " \n",
       " \n",
       "  xxmaj графика , почему - то , не впечатлила . xxmaj отчасти из - за того , что xxunk очень сильно напоминают xxunk . xxmaj досмотреть до конца не хватило сил . xxmaj даже xxmaj кристина xxmaj агилера со своей песней не спасла картину . а сколько коммерции !\n",
       "y: LMLabelList\n",
       ",,,,\n",
       "Path: .;\n",
       "\n",
       "Test: None, model=SequentialRNN(\n",
       "  (0): AWD_LSTM(\n",
       "    (encoder): Embedding(60004, 400, padding_idx=1)\n",
       "    (encoder_dp): EmbeddingDropout(\n",
       "      (emb): Embedding(60004, 400, padding_idx=1)\n",
       "    )\n",
       "    (rnns): ModuleList(\n",
       "      (0): WeightDropout(\n",
       "        (module): LSTM(400, 1150, batch_first=True)\n",
       "      )\n",
       "      (1): WeightDropout(\n",
       "        (module): LSTM(1150, 1150, batch_first=True)\n",
       "      )\n",
       "      (2): WeightDropout(\n",
       "        (module): LSTM(1150, 400, batch_first=True)\n",
       "      )\n",
       "    )\n",
       "    (input_dp): RNNDropout()\n",
       "    (hidden_dps): ModuleList(\n",
       "      (0): RNNDropout()\n",
       "      (1): RNNDropout()\n",
       "      (2): RNNDropout()\n",
       "    )\n",
       "  )\n",
       "  (1): LinearDecoder(\n",
       "    (decoder): Linear(in_features=400, out_features=60004, bias=True)\n",
       "    (output_dp): RNNDropout()\n",
       "  )\n",
       "), opt_func=functools.partial(<class 'torch.optim.adam.Adam'>, betas=(0.9, 0.99)), loss_func=FlattenedLoss of CrossEntropyLoss(), metrics=[<function accuracy at 0x7f0b027f79d8>], true_wd=True, bn_wd=True, wd=0.01, train_bn=True, path=PosixPath('models'), model_dir='', callback_fns=[functools.partial(<class 'fastai.basic_train.Recorder'>, add_time=True)], callbacks=[...], layer_groups=[Sequential(\n",
       "  (0): WeightDropout(\n",
       "    (module): LSTM(400, 1150, batch_first=True)\n",
       "  )\n",
       "  (1): RNNDropout()\n",
       "), Sequential(\n",
       "  (0): WeightDropout(\n",
       "    (module): LSTM(1150, 1150, batch_first=True)\n",
       "  )\n",
       "  (1): RNNDropout()\n",
       "), Sequential(\n",
       "  (0): WeightDropout(\n",
       "    (module): LSTM(1150, 400, batch_first=True)\n",
       "  )\n",
       "  (1): RNNDropout()\n",
       "), Sequential(\n",
       "  (0): Embedding(60004, 400, padding_idx=1)\n",
       "  (1): EmbeddingDropout(\n",
       "    (emb): Embedding(60004, 400, padding_idx=1)\n",
       "  )\n",
       "  (2): LinearDecoder(\n",
       "    (decoder): Linear(in_features=400, out_features=60004, bias=True)\n",
       "    (output_dp): RNNDropout()\n",
       "  )\n",
       ")], add_time=True)\n",
       "alpha: 2.0\n",
       "beta: 1.0], layer_groups=[Sequential(\n",
       "  (0): WeightDropout(\n",
       "    (module): LSTM(400, 1150, batch_first=True)\n",
       "  )\n",
       "  (1): RNNDropout()\n",
       "), Sequential(\n",
       "  (0): WeightDropout(\n",
       "    (module): LSTM(1150, 1150, batch_first=True)\n",
       "  )\n",
       "  (1): RNNDropout()\n",
       "), Sequential(\n",
       "  (0): WeightDropout(\n",
       "    (module): LSTM(1150, 400, batch_first=True)\n",
       "  )\n",
       "  (1): RNNDropout()\n",
       "), Sequential(\n",
       "  (0): Embedding(60004, 400, padding_idx=1)\n",
       "  (1): EmbeddingDropout(\n",
       "    (emb): Embedding(60004, 400, padding_idx=1)\n",
       "  )\n",
       "  (2): LinearDecoder(\n",
       "    (decoder): Linear(in_features=400, out_features=60004, bias=True)\n",
       "    (output_dp): RNNDropout()\n",
       "  )\n",
       ")], add_time=True)"
      ]
     },
     "execution_count": 22,
     "metadata": {},
     "output_type": "execute_result"
    }
   ],
   "source": [
    "learn.load('kinopoisk_tuned');"
   ]
  },
  {
   "cell_type": "code",
   "execution_count": 23,
   "metadata": {},
   "outputs": [
    {
     "data": {
      "text/html": [
       "Total time: 30:28 <p><table border=\"1\" class=\"dataframe\">\n",
       "  <thead>\n",
       "    <tr style=\"text-align: left;\">\n",
       "      <th>epoch</th>\n",
       "      <th>train_loss</th>\n",
       "      <th>valid_loss</th>\n",
       "      <th>accuracy</th>\n",
       "      <th>time</th>\n",
       "    </tr>\n",
       "  </thead>\n",
       "  <tbody>\n",
       "    <tr>\n",
       "      <td>0</td>\n",
       "      <td>3.978713</td>\n",
       "      <td>3.911488</td>\n",
       "      <td>0.338658</td>\n",
       "      <td>30:28</td>\n",
       "    </tr>\n",
       "  </tbody>\n",
       "</table>"
      ],
      "text/plain": [
       "<IPython.core.display.HTML object>"
      ]
     },
     "metadata": {},
     "output_type": "display_data"
    }
   ],
   "source": [
    "learn.fit_one_cycle(1, 1e-3, moms=(0.8, 0.7))"
   ]
  },
  {
   "cell_type": "code",
   "execution_count": null,
   "metadata": {
    "collapsed": true
   },
   "outputs": [],
   "source": []
  },
  {
   "cell_type": "code",
   "execution_count": 24,
   "metadata": {
    "collapsed": true
   },
   "outputs": [],
   "source": [
    "learn.save('kinopoisk_improved_1')"
   ]
  },
  {
   "cell_type": "code",
   "execution_count": 26,
   "metadata": {
    "collapsed": true
   },
   "outputs": [],
   "source": [
    "learn.load('kinopoisk_tuned');"
   ]
  },
  {
   "cell_type": "code",
   "execution_count": 28,
   "metadata": {},
   "outputs": [
    {
     "data": {
      "text/html": [
       "Total time: 30:29 <p><table border=\"1\" class=\"dataframe\">\n",
       "  <thead>\n",
       "    <tr style=\"text-align: left;\">\n",
       "      <th>epoch</th>\n",
       "      <th>train_loss</th>\n",
       "      <th>valid_loss</th>\n",
       "      <th>accuracy</th>\n",
       "      <th>time</th>\n",
       "    </tr>\n",
       "  </thead>\n",
       "  <tbody>\n",
       "    <tr>\n",
       "      <td>0</td>\n",
       "      <td>3.997579</td>\n",
       "      <td>3.916836</td>\n",
       "      <td>0.337654</td>\n",
       "      <td>30:29</td>\n",
       "    </tr>\n",
       "  </tbody>\n",
       "</table>"
      ],
      "text/plain": [
       "<IPython.core.display.HTML object>"
      ]
     },
     "metadata": {},
     "output_type": "display_data"
    }
   ],
   "source": [
    "learn.fit_one_cycle(1, slice(5e-3/(2.6**4),5e-3), moms=(0.8,0.7))"
   ]
  },
  {
   "cell_type": "code",
   "execution_count": 29,
   "metadata": {
    "collapsed": true
   },
   "outputs": [],
   "source": [
    "learn.save('kinopoisk_improved_2')"
   ]
  },
  {
   "cell_type": "markdown",
   "metadata": {},
   "source": [
    "Сохраняем Encoder"
   ]
  },
  {
   "cell_type": "code",
   "execution_count": 32,
   "metadata": {
    "collapsed": true
   },
   "outputs": [],
   "source": [
    "learn.save_encoder('kinopoisk_tuned_enc')"
   ]
  },
  {
   "cell_type": "code",
   "execution_count": 33,
   "metadata": {},
   "outputs": [
    {
     "name": "stdout",
     "output_type": "stream",
     "text": [
      "полный эффект присутствия . Не зря же Питер Джексон на самом деле является режиссером этого фильма , но режиссер Питер Джексон , священник , которого я не видел после просмотра фильма , не смог меня удивить .\n",
      "полный эффект присутствия . Фильм невероятно яркий , интригующий , не претендующий на звание шедевра , но , на мой взгляд , такой же забавный и линейный . Говоря откровенно , он оправдал все ожидания , и в первую очередь ,\n"
     ]
    }
   ],
   "source": [
    "TEXT = \"полный эффект присутствия\"\n",
    "N_WORDS = 40\n",
    "N_SENTENCES = 2\n",
    "\n",
    "print(\"\\n\".join(learn.predict(TEXT, N_WORDS, temperature=0.75) for _ in range(N_SENTENCES)))"
   ]
  },
  {
   "cell_type": "markdown",
   "metadata": {},
   "source": [
    "Речь стала намного более связной!"
   ]
  },
  {
   "cell_type": "code",
   "execution_count": 35,
   "metadata": {},
   "outputs": [
    {
     "name": "stdout",
     "output_type": "stream",
     "text": [
      "фильм полностью оправдал мои ожидания . Просто замечательно . \r",
      " \n",
      " \r",
      " \n",
      "  Отличный подбор актёров на главную роль . Весь фильм построен на диалогах : одни и те же . Очень понравился тот момент , когда Кристиан Бэйл играет Тома Харди . Кто же будет смотреть на Бэйла ? Он сыграл того самого полицейского , который играл в фильмах , но в целом сыграл в этом фильме не хуже самого Бэйла . Он настолько тираном , что даже не верится , что\n",
      "фильм полностью оправдал мои ожидания . Не зря я увидела ' Очень страшное кино ' и посмотрела его в одном из новостей . \r",
      " \n",
      " \r",
      " \n",
      "  Фильм получился очень смешным и забавным , хоть и сам его оставил после себя двойственное впечатление . Конечно , фанаты Вы не пожалеете о потраченном времени , но тем не менее советую посмотреть ! \r",
      " \n",
      " \r",
      " \n",
      "  10 из 10 xxbos Картина повествует о предысторию , связанной с началом войны в Ираке , когда данный фильм стал классикой американского кинематографа . Картина «\n"
     ]
    }
   ],
   "source": [
    "TEXT = \"фильм полностью оправдал\"\n",
    "N_WORDS = 90\n",
    "N_SENTENCES = 2\n",
    "\n",
    "print(\"\\n\".join(learn.predict(TEXT, N_WORDS, temperature=0.75) for _ in range(N_SENTENCES)))"
   ]
  },
  {
   "cell_type": "code",
   "execution_count": 36,
   "metadata": {},
   "outputs": [
    {
     "name": "stdout",
     "output_type": "stream",
     "text": [
      "могло быть и лучше , но дело даже не в том , что Марк Уэбб полностью оправдал свое ' Отель Гранд Будапешт ' , он по моему мнению не очень качественно копирует комикс - первоисточник , для которого нет ничего невозможного , даже если он не является ' Большому Гарри ' , то в нём как бы можно было бы поменять жанр , и назвать его лучшим фильмом режиссера . \r",
      " \n",
      " \r",
      " \n",
      "  Именно из - за Тоби Магуайра в фильме ' Человек -\n",
      "могло быть и лучше . Не лучше . \r",
      " \n",
      " \r",
      " \n",
      "  Но , несмотря на все плюсы , я не могу сказать , что остался доволен . Да , это не фильм ужасов , а скорее не о войне , а о войне . Это странная , страшная , жизненная драма . Но , боюсь , именно этот фильм о том , что такое война , что могут быть другие люди . а еще есть девушка , которую надо убить , чтобы она не любила и не желает заниматься любимым\n"
     ]
    }
   ],
   "source": [
    "TEXT = \"могло быть и\"\n",
    "N_WORDS = 90\n",
    "N_SENTENCES = 2\n",
    "\n",
    "print(\"\\n\".join(learn.predict(TEXT, N_WORDS, temperature=0.75) for _ in range(N_SENTENCES)))"
   ]
  },
  {
   "cell_type": "code",
   "execution_count": 37,
   "metadata": {},
   "outputs": [
    {
     "name": "stdout",
     "output_type": "stream",
     "text": [
      "самый настоящий провал , который я так и не понял . На мой взгляд , это одна из самых ожидаемых картин на эту тематику ! \r",
      " \n",
      " \r",
      " \n",
      "  Начну с того , что фильм , конечно , не скучный , но и не новый . По правде , Marvel - это единственная , вина , которая может быть интересна мне в\n",
      "самый настоящий провал этого фильма ! Если честно , не ожидал , что это очередная пародия на ту же ' Ночь в музее ' , но в последние годы таким фильмам не хватало одного из лучших фильмов , а на такой ' шедевр ' стоит сходить . По - моему , комиксы тут очень и очень хороши . Также\n"
     ]
    }
   ],
   "source": [
    "TEXT = \"самый настоящий провал\"\n",
    "N_WORDS = 60\n",
    "N_SENTENCES = 2\n",
    "\n",
    "print(\"\\n\".join(learn.predict(TEXT, N_WORDS, temperature=0.75) for _ in range(N_SENTENCES)))"
   ]
  },
  {
   "cell_type": "markdown",
   "metadata": {},
   "source": [
    "### Языковая модель"
   ]
  },
  {
   "cell_type": "code",
   "execution_count": 28,
   "metadata": {},
   "outputs": [
    {
     "data": {
      "text/plain": [
       "LanguageLearner(data=TextLMDataBunch;\n",
       "\n",
       "Train: LabelList (28067 items)\n",
       "x: LMTextList\n",
       "xxbos xxmaj xxunk xxunk блокаду изнутри .,xxbos xxmaj никогда у меня не будет \" одного приложения для всего \" . в топку эти xxunk xxunk .,xxbos xxmaj кури - и тебя не укусит злая собака , потому что ты xxunk , кури - и тебя не xxunk , так как ты xxunk xxunk xxunk громким xxunk , кури - и ты не умрешь от старости , просто не xxunk до нее . xxmaj дамы и господа курите насмерть ! ! !,xxbos xxmaj есть 3 типа людей : \n",
       "  xxmaj умные , которые делают все сразу . \n",
       "  xxmaj умные , которые откладывают на потом и доделывают . \n",
       "  и я ... сначала впадлу потом поздно,xxbos xxunk чет накрыло\n",
       "y: LMLabelList\n",
       ",,,,\n",
       "Path: .;\n",
       "\n",
       "Valid: LabelList (3118 items)\n",
       "x: LMTextList\n",
       "xxbos xxrep 12 а xxrep 11 ! где кот ? xxrep 5 . xxunk xxrep 5 .,xxbos xxmaj забудьте о прошлом , живите настоящим думайте о будущем .,xxbos люблю очень xxunk,xxbos xxmaj xxunk xxmaj xxunk,xxbos xxmaj новая xxunk\n",
       "y: LMLabelList\n",
       ",,,,\n",
       "Path: .;\n",
       "\n",
       "Test: None, model=SequentialRNN(\n",
       "  (0): AWD_LSTM(\n",
       "    (encoder): Embedding(22761, 400, padding_idx=1)\n",
       "    (encoder_dp): EmbeddingDropout(\n",
       "      (emb): Embedding(22761, 400, padding_idx=1)\n",
       "    )\n",
       "    (rnns): ModuleList(\n",
       "      (0): WeightDropout(\n",
       "        (module): LSTM(400, 1150, batch_first=True)\n",
       "      )\n",
       "      (1): WeightDropout(\n",
       "        (module): LSTM(1150, 1150, batch_first=True)\n",
       "      )\n",
       "      (2): WeightDropout(\n",
       "        (module): LSTM(1150, 400, batch_first=True)\n",
       "      )\n",
       "    )\n",
       "    (input_dp): RNNDropout()\n",
       "    (hidden_dps): ModuleList(\n",
       "      (0): RNNDropout()\n",
       "      (1): RNNDropout()\n",
       "      (2): RNNDropout()\n",
       "    )\n",
       "  )\n",
       "  (1): LinearDecoder(\n",
       "    (decoder): Linear(in_features=400, out_features=22761, bias=True)\n",
       "    (output_dp): RNNDropout()\n",
       "  )\n",
       "), opt_func=functools.partial(<class 'torch.optim.adam.Adam'>, betas=(0.9, 0.99)), loss_func=FlattenedLoss of CrossEntropyLoss(), metrics=[<function accuracy at 0x7f9d66e859d8>], true_wd=True, bn_wd=True, wd=0.01, train_bn=True, path=PosixPath('.'), model_dir='models', callback_fns=[functools.partial(<class 'fastai.basic_train.Recorder'>, add_time=True)], callbacks=[RNNTrainer\n",
       "learn: LanguageLearner(data=TextLMDataBunch;\n",
       "\n",
       "Train: LabelList (28067 items)\n",
       "x: LMTextList\n",
       "xxbos xxmaj xxunk xxunk блокаду изнутри .,xxbos xxmaj никогда у меня не будет \" одного приложения для всего \" . в топку эти xxunk xxunk .,xxbos xxmaj кури - и тебя не укусит злая собака , потому что ты xxunk , кури - и тебя не xxunk , так как ты xxunk xxunk xxunk громким xxunk , кури - и ты не умрешь от старости , просто не xxunk до нее . xxmaj дамы и господа курите насмерть ! ! !,xxbos xxmaj есть 3 типа людей : \n",
       "  xxmaj умные , которые делают все сразу . \n",
       "  xxmaj умные , которые откладывают на потом и доделывают . \n",
       "  и я ... сначала впадлу потом поздно,xxbos xxunk чет накрыло\n",
       "y: LMLabelList\n",
       ",,,,\n",
       "Path: .;\n",
       "\n",
       "Valid: LabelList (3118 items)\n",
       "x: LMTextList\n",
       "xxbos xxrep 12 а xxrep 11 ! где кот ? xxrep 5 . xxunk xxrep 5 .,xxbos xxmaj забудьте о прошлом , живите настоящим думайте о будущем .,xxbos люблю очень xxunk,xxbos xxmaj xxunk xxmaj xxunk,xxbos xxmaj новая xxunk\n",
       "y: LMLabelList\n",
       ",,,,\n",
       "Path: .;\n",
       "\n",
       "Test: None, model=SequentialRNN(\n",
       "  (0): AWD_LSTM(\n",
       "    (encoder): Embedding(22761, 400, padding_idx=1)\n",
       "    (encoder_dp): EmbeddingDropout(\n",
       "      (emb): Embedding(22761, 400, padding_idx=1)\n",
       "    )\n",
       "    (rnns): ModuleList(\n",
       "      (0): WeightDropout(\n",
       "        (module): LSTM(400, 1150, batch_first=True)\n",
       "      )\n",
       "      (1): WeightDropout(\n",
       "        (module): LSTM(1150, 1150, batch_first=True)\n",
       "      )\n",
       "      (2): WeightDropout(\n",
       "        (module): LSTM(1150, 400, batch_first=True)\n",
       "      )\n",
       "    )\n",
       "    (input_dp): RNNDropout()\n",
       "    (hidden_dps): ModuleList(\n",
       "      (0): RNNDropout()\n",
       "      (1): RNNDropout()\n",
       "      (2): RNNDropout()\n",
       "    )\n",
       "  )\n",
       "  (1): LinearDecoder(\n",
       "    (decoder): Linear(in_features=400, out_features=22761, bias=True)\n",
       "    (output_dp): RNNDropout()\n",
       "  )\n",
       "), opt_func=functools.partial(<class 'torch.optim.adam.Adam'>, betas=(0.9, 0.99)), loss_func=FlattenedLoss of CrossEntropyLoss(), metrics=[<function accuracy at 0x7f9d66e859d8>], true_wd=True, bn_wd=True, wd=0.01, train_bn=True, path=PosixPath('.'), model_dir='models', callback_fns=[functools.partial(<class 'fastai.basic_train.Recorder'>, add_time=True)], callbacks=[...], layer_groups=[Sequential(\n",
       "  (0): WeightDropout(\n",
       "    (module): LSTM(400, 1150, batch_first=True)\n",
       "  )\n",
       "  (1): RNNDropout()\n",
       "), Sequential(\n",
       "  (0): WeightDropout(\n",
       "    (module): LSTM(1150, 1150, batch_first=True)\n",
       "  )\n",
       "  (1): RNNDropout()\n",
       "), Sequential(\n",
       "  (0): WeightDropout(\n",
       "    (module): LSTM(1150, 400, batch_first=True)\n",
       "  )\n",
       "  (1): RNNDropout()\n",
       "), Sequential(\n",
       "  (0): Embedding(22761, 400, padding_idx=1)\n",
       "  (1): EmbeddingDropout(\n",
       "    (emb): Embedding(22761, 400, padding_idx=1)\n",
       "  )\n",
       "  (2): LinearDecoder(\n",
       "    (decoder): Linear(in_features=400, out_features=22761, bias=True)\n",
       "    (output_dp): RNNDropout()\n",
       "  )\n",
       ")], add_time=True)\n",
       "alpha: 2.0\n",
       "beta: 1.0], layer_groups=[Sequential(\n",
       "  (0): WeightDropout(\n",
       "    (module): LSTM(400, 1150, batch_first=True)\n",
       "  )\n",
       "  (1): RNNDropout()\n",
       "), Sequential(\n",
       "  (0): WeightDropout(\n",
       "    (module): LSTM(1150, 1150, batch_first=True)\n",
       "  )\n",
       "  (1): RNNDropout()\n",
       "), Sequential(\n",
       "  (0): WeightDropout(\n",
       "    (module): LSTM(1150, 400, batch_first=True)\n",
       "  )\n",
       "  (1): RNNDropout()\n",
       "), Sequential(\n",
       "  (0): Embedding(22761, 400, padding_idx=1)\n",
       "  (1): EmbeddingDropout(\n",
       "    (emb): Embedding(22761, 400, padding_idx=1)\n",
       "  )\n",
       "  (2): LinearDecoder(\n",
       "    (decoder): Linear(in_features=400, out_features=22761, bias=True)\n",
       "    (output_dp): RNNDropout()\n",
       "  )\n",
       ")], add_time=True)"
      ]
     },
     "execution_count": 28,
     "metadata": {},
     "output_type": "execute_result"
    }
   ],
   "source": [
    "learn.load('kinopoisk_tuned')"
   ]
  },
  {
   "cell_type": "code",
   "execution_count": 109,
   "metadata": {
    "collapsed": true
   },
   "outputs": [],
   "source": [
    "TextList.split_by_list??"
   ]
  },
  {
   "cell_type": "markdown",
   "metadata": {},
   "source": [
    "### Подготовим датасет для классификации"
   ]
  },
  {
   "cell_type": "code",
   "execution_count": 8,
   "metadata": {},
   "outputs": [
    {
     "data": {
      "text/plain": [
       "status\n",
       "bad         7511\n",
       "good       33440\n",
       "neutral     9019\n",
       "Name: filmId, dtype: int64"
      ]
     },
     "execution_count": 8,
     "metadata": {},
     "output_type": "execute_result"
    }
   ],
   "source": [
    "json_df.groupby('status')['filmId'].count()"
   ]
  },
  {
   "cell_type": "code",
   "execution_count": 9,
   "metadata": {
    "collapsed": true
   },
   "outputs": [],
   "source": [
    "bad_reviews = json_df[json_df.status=='bad']"
   ]
  },
  {
   "cell_type": "code",
   "execution_count": 10,
   "metadata": {
    "collapsed": true
   },
   "outputs": [],
   "source": [
    "good_reviews = json_df[json_df.status=='good'].sample(7511)"
   ]
  },
  {
   "cell_type": "code",
   "execution_count": 12,
   "metadata": {
    "collapsed": true
   },
   "outputs": [],
   "source": [
    "df_all = pd.concat((bad_reviews, good_reviews))"
   ]
  },
  {
   "cell_type": "code",
   "execution_count": 14,
   "metadata": {
    "collapsed": true
   },
   "outputs": [],
   "source": [
    "df_all = df_all.sample(frac=1).reset_index(drop=True)"
   ]
  },
  {
   "cell_type": "code",
   "execution_count": 16,
   "metadata": {},
   "outputs": [
    {
     "data": {
      "text/plain": [
       "(15022, 6)"
      ]
     },
     "execution_count": 16,
     "metadata": {},
     "output_type": "execute_result"
    }
   ],
   "source": [
    "df_all.shape"
   ]
  },
  {
   "cell_type": "code",
   "execution_count": 18,
   "metadata": {
    "collapsed": true
   },
   "outputs": [],
   "source": [
    "df_valid = df_all.iloc[:3750]"
   ]
  },
  {
   "cell_type": "code",
   "execution_count": 19,
   "metadata": {
    "collapsed": true
   },
   "outputs": [],
   "source": [
    "df_train = df_all.iloc[3750:]"
   ]
  },
  {
   "cell_type": "code",
   "execution_count": 27,
   "metadata": {
    "collapsed": true
   },
   "outputs": [],
   "source": [
    "df_valid.to_json(reviews_path/'valid_reviews.json', orient='records', lines=True)"
   ]
  },
  {
   "cell_type": "code",
   "execution_count": 30,
   "metadata": {
    "collapsed": true
   },
   "outputs": [],
   "source": [
    "df_train.to_json(reviews_path/'train_reviews.json', orient='records', lines=True)"
   ]
  },
  {
   "cell_type": "code",
   "execution_count": 31,
   "metadata": {
    "collapsed": true
   },
   "outputs": [],
   "source": [
    "df_all.to_json(reviews_path/'all_reviews.json', orient='records', lines=True)"
   ]
  },
  {
   "cell_type": "code",
   "execution_count": null,
   "metadata": {
    "collapsed": true
   },
   "outputs": [],
   "source": []
  },
  {
   "cell_type": "code",
   "execution_count": 27,
   "metadata": {
    "collapsed": true
   },
   "outputs": [],
   "source": [
    "df_valid.to_csv(reviews_path/'valid_reviews.csv', lines=True)"
   ]
  },
  {
   "cell_type": "code",
   "execution_count": 30,
   "metadata": {
    "collapsed": true
   },
   "outputs": [],
   "source": [
    "df_train.to_csv(reviews_path/'train_reviews.csv', orient='records', lines=True)"
   ]
  },
  {
   "cell_type": "code",
   "execution_count": null,
   "metadata": {
    "collapsed": true
   },
   "outputs": [],
   "source": [
    "TextList.from_csv()"
   ]
  },
  {
   "cell_type": "markdown",
   "metadata": {},
   "source": [
    "### Переходим к классификации"
   ]
  },
  {
   "cell_type": "code",
   "execution_count": 10,
   "metadata": {},
   "outputs": [
    {
     "data": {
      "text/html": [
       "<div>\n",
       "<style scoped>\n",
       "    .dataframe tbody tr th:only-of-type {\n",
       "        vertical-align: middle;\n",
       "    }\n",
       "\n",
       "    .dataframe tbody tr th {\n",
       "        vertical-align: top;\n",
       "    }\n",
       "\n",
       "    .dataframe thead th {\n",
       "        text-align: right;\n",
       "    }\n",
       "</style>\n",
       "<table border=\"1\" class=\"dataframe\">\n",
       "  <thead>\n",
       "    <tr style=\"text-align: right;\">\n",
       "      <th></th>\n",
       "      <th>filmId</th>\n",
       "      <th>numOfDislikes</th>\n",
       "      <th>numOfLikes</th>\n",
       "      <th>reviewBody</th>\n",
       "      <th>reviewTitle</th>\n",
       "      <th>status</th>\n",
       "    </tr>\n",
       "  </thead>\n",
       "  <tbody>\n",
       "    <tr>\n",
       "      <th>0</th>\n",
       "      <td>5900</td>\n",
       "      <td>6</td>\n",
       "      <td>24</td>\n",
       "      <td>Очень красивая фантастика, отлично снято, опер...</td>\n",
       "      <td></td>\n",
       "      <td>neutral</td>\n",
       "    </tr>\n",
       "    <tr>\n",
       "      <th>1</th>\n",
       "      <td>782</td>\n",
       "      <td>18</td>\n",
       "      <td>34</td>\n",
       "      <td>Мне думается, что у некоторых звёзд Голливуда ...</td>\n",
       "      <td></td>\n",
       "      <td>good</td>\n",
       "    </tr>\n",
       "    <tr>\n",
       "      <th>2</th>\n",
       "      <td>54061</td>\n",
       "      <td>16</td>\n",
       "      <td>16</td>\n",
       "      <td>Нервный парнишка, нервные взрослые, раздражени...</td>\n",
       "      <td></td>\n",
       "      <td>neutral</td>\n",
       "    </tr>\n",
       "    <tr>\n",
       "      <th>3</th>\n",
       "      <td>13682</td>\n",
       "      <td>23</td>\n",
       "      <td>17</td>\n",
       "      <td>«Горец 2» - продолжение культовой саги о бессм...</td>\n",
       "      <td></td>\n",
       "      <td>neutral</td>\n",
       "    </tr>\n",
       "    <tr>\n",
       "      <th>4</th>\n",
       "      <td>39634</td>\n",
       "      <td>9</td>\n",
       "      <td>10</td>\n",
       "      <td>Для чего делали фильм, я думаю, сами авторы то...</td>\n",
       "      <td></td>\n",
       "      <td>neutral</td>\n",
       "    </tr>\n",
       "  </tbody>\n",
       "</table>\n",
       "</div>"
      ],
      "text/plain": [
       "   filmId  numOfDislikes  numOfLikes  \\\n",
       "0    5900              6          24   \n",
       "1     782             18          34   \n",
       "2   54061             16          16   \n",
       "3   13682             23          17   \n",
       "4   39634              9          10   \n",
       "\n",
       "                                          reviewBody reviewTitle   status  \n",
       "0  Очень красивая фантастика, отлично снято, опер...              neutral  \n",
       "1  Мне думается, что у некоторых звёзд Голливуда ...                 good  \n",
       "2  Нервный парнишка, нервные взрослые, раздражени...              neutral  \n",
       "3  «Горец 2» - продолжение культовой саги о бессм...              neutral  \n",
       "4  Для чего делали фильм, я думаю, сами авторы то...              neutral  "
      ]
     },
     "execution_count": 10,
     "metadata": {},
     "output_type": "execute_result"
    }
   ],
   "source": [
    "json_df.head()"
   ]
  },
  {
   "cell_type": "code",
   "execution_count": 37,
   "metadata": {
    "collapsed": true
   },
   "outputs": [],
   "source": [
    "data.vocab.save(path/'kinopoisk_lm_vocab.pkl')"
   ]
  },
  {
   "cell_type": "code",
   "execution_count": 10,
   "metadata": {
    "collapsed": true
   },
   "outputs": [],
   "source": [
    "bs = 24"
   ]
  },
  {
   "cell_type": "code",
   "execution_count": 39,
   "metadata": {
    "collapsed": true
   },
   "outputs": [],
   "source": [
    "data_clas = (TextList.from_df(df_all, cols='reviewBody', vocab=data.vocab)\n",
    "             .random_split_by_pct(.25)\n",
    "             .label_from_df(cols='status')\n",
    "             #label them all with their folders\n",
    "             .databunch(bs=bs))\n",
    "\n",
    "data_clas.save(path/'kinopoisk_data_clas_clear.pkl')"
   ]
  },
  {
   "cell_type": "code",
   "execution_count": 11,
   "metadata": {
    "collapsed": true
   },
   "outputs": [],
   "source": [
    "data_clas = load_data(path, 'kinopoisk_data_clas_clear.pkl', bs)"
   ]
  },
  {
   "cell_type": "markdown",
   "metadata": {},
   "source": [
    "Посмотрим как выглядят данные"
   ]
  },
  {
   "cell_type": "code",
   "execution_count": 40,
   "metadata": {},
   "outputs": [
    {
     "data": {
      "text/html": [
       "<table border=\"1\" class=\"dataframe\">\n",
       "  <thead>\n",
       "    <tr style=\"text-align: right;\">\n",
       "      <th>text</th>\n",
       "      <th>target</th>\n",
       "    </tr>\n",
       "  </thead>\n",
       "  <tbody>\n",
       "    <tr>\n",
       "      <td>xxbos xxup xxunk xxup девушка ( xxmaj xxunk ’s xxmaj girl ) \\r \\n  xxrep 23 = \\r \\n  xxmaj автор рецензии : xxmaj александр xxmaj xxunk \\r \\n  xxmaj оценка : 10 / 10 \\r \\n \\r \\n  ( xxmaj замечание : xxmaj написано под впечатлением от просмотра на языке оригинала . \\r \\n  xxmaj версия с русским переводом ( xxunk ) , xxunk</td>\n",
       "      <td>good</td>\n",
       "    </tr>\n",
       "    <tr>\n",
       "      <td>xxbos xxmaj или о пользе пиратов . в общем , как - то так , главное , что алкоголь - точно зло , а пираты - не такое явное . \\r \\n \\r \\n  &lt; b &gt; xxmaj вместо xxunk : &lt; / b &gt; \\r \\n  &lt; xxup i&gt;- а ты пойдешь на пиратов ? \\r \\n  - xxmaj xxunk ! а ты ? \\r \\n</td>\n",
       "      <td>bad</td>\n",
       "    </tr>\n",
       "    <tr>\n",
       "      <td>xxbos xxmaj прочитав анонс и взглянув на постер этого фильма очень легко можно xxunk . xxmaj штампы , которые люди привыкли произносить , услышав имя ' xxmaj джеки xxmaj чан ' так и бросаются в глаза - ' xxunk трюки ' , ' непревзойденная техника ' , ' знаменитый мастер ' , ' опасный кавалер ' - казалось бы , слова эти многое объясняют , но на деле ничего не</td>\n",
       "      <td>good</td>\n",
       "    </tr>\n",
       "    <tr>\n",
       "      <td>xxbos &lt; i &gt; xxmaj злые люди бедной xxunk не дают украсть xxunk &lt; / i &gt; ( вместо xxunk ) \\r \\n \\r \\n  xxmaj конечно , было интересно – что могут немцы снять про xxmaj сталинград ? xxmaj героический эпос – как - то , вроде , неловко . xxmaj хотя есть идея : показать xxunk к xxmaj xxunk нацистов людьми . xxmaj обычными , простыми ,</td>\n",
       "      <td>bad</td>\n",
       "    </tr>\n",
       "    <tr>\n",
       "      <td>xxbos в сущности , ждать от фильма с участием &lt; b &gt; xxmaj майкла xxmaj мэдсена &lt; / b &gt; чего - то стоящего по меньшей мере наивно . xxmaj безусловно он снимался и в качественном кино , но основная масса его работ не выдерживает вообще никакой критики и ' &lt; b &gt; xxmaj xxunk xxmaj войны &lt; / b &gt; ' наглядный пример именно такого фильма . \\r \\n</td>\n",
       "      <td>bad</td>\n",
       "    </tr>\n",
       "  </tbody>\n",
       "</table>"
      ],
      "text/plain": [
       "<IPython.core.display.HTML object>"
      ]
     },
     "metadata": {},
     "output_type": "display_data"
    }
   ],
   "source": [
    "data_clas.show_batch()"
   ]
  },
  {
   "cell_type": "markdown",
   "metadata": {},
   "source": [
    "Заглянем внутрь"
   ]
  },
  {
   "cell_type": "code",
   "execution_count": 43,
   "metadata": {},
   "outputs": [
    {
     "data": {
      "text/plain": [
       "(Text xxbos xxmaj последнее творение dreamworks xxmaj animation xxunk как xxmaj xxunk 2 xxunk xxmaj xxunk xxmaj xxunk . xxmaj плюс обещали то ли постебаться над , то ли спародировать фильмы про итальянскую мафию . xxmaj по началу кажется , что все очень хорошо : диалог между xxmaj робертом xxmaj де xxmaj ниро и xxmaj мартином xxmaj скорсезе рассмешит любого , кто смотрел хотя бы один фильм о xxunk мафии ; куча ссылок на xxmaj славные xxmaj парни , xxmaj крестного xxmaj отца и xxmaj клан xxmaj сопрано ; прикольный подводный xxmaj нью - xxmaj йорк ; персонажи , в которых очень легко узнать голливудских звезд ; милый саундтрек в стиле xxunk \n",
       "  \n",
       "  \n",
       "  \n",
       "   а уж когда погибает сынишка местного крестного папы , а xxmaj оскар объявляет себя xxmaj xxunk акул , думаешь , что вот сейчас все и начнется , сейчас ребята xxunk . xxup но к середине фильма начинаешь поглядывать на часы , а к концу становиться откровенно скучно . xxmaj хорошая идея и отличная завязка умирают к концу фильма . в итоге у создателей не получилось ни детского кино ( xxmaj xxunk xxmaj xxunk ) , ни стеба , пародии на другие фильмы и ни более или менее взрослых шуток ( xxmaj xxunk 2 ) . \n",
       "  \n",
       "  \n",
       "  \n",
       "   4 из 10, EmptyLabel )"
      ]
     },
     "execution_count": 43,
     "metadata": {},
     "output_type": "execute_result"
    }
   ],
   "source": [
    "data.train_ds[6]"
   ]
  },
  {
   "cell_type": "markdown",
   "metadata": {},
   "source": [
    "But the underlying data is all numbers"
   ]
  },
  {
   "cell_type": "markdown",
   "metadata": {},
   "source": [
    "Посмотрим как выглядят данные"
   ]
  },
  {
   "cell_type": "code",
   "execution_count": 8,
   "metadata": {},
   "outputs": [
    {
     "data": {
      "text/plain": [
       "array([   2,    5,   13, 2434,    9,   16,   11,  121, 3743,    5])"
      ]
     },
     "execution_count": 8,
     "metadata": {},
     "output_type": "execute_result"
    }
   ],
   "source": [
    "data_clas.train_ds[6][0].data[:10]"
   ]
  },
  {
   "cell_type": "code",
   "execution_count": 10,
   "metadata": {
    "collapsed": true
   },
   "outputs": [],
   "source": [
    "data_clas = load_data(path, 'kinopoisk_data_clas.pkl', bs=bs)"
   ]
  },
  {
   "cell_type": "markdown",
   "metadata": {},
   "source": [
    "А теперь создадим классификатор"
   ]
  },
  {
   "cell_type": "code",
   "execution_count": 12,
   "metadata": {
    "collapsed": true
   },
   "outputs": [],
   "source": [
    "learn = text_classifier_learner(data_clas, AWD_LSTM, drop_mult=0.5)\n",
    "learn.path = path\n",
    "learn.model_dir = ''\n",
    "learn.load_encoder('kinopoisk_tuned_enc')"
   ]
  },
  {
   "cell_type": "markdown",
   "metadata": {},
   "source": [
    "### Начинаем магию"
   ]
  },
  {
   "cell_type": "code",
   "execution_count": 48,
   "metadata": {},
   "outputs": [
    {
     "data": {
      "text/html": [],
      "text/plain": [
       "<IPython.core.display.HTML object>"
      ]
     },
     "metadata": {},
     "output_type": "display_data"
    },
    {
     "name": "stdout",
     "output_type": "stream",
     "text": [
      "LR Finder is complete, type {learner_name}.recorder.plot() to see the graph.\n"
     ]
    }
   ],
   "source": [
    "learn.lr_find()"
   ]
  },
  {
   "cell_type": "code",
   "execution_count": 49,
   "metadata": {},
   "outputs": [
    {
     "data": {
      "image/png": "[encoded data removed]",
      "text/plain": [
       "<matplotlib.figure.Figure at 0x7f44a7511a90>"
      ]
     },
     "metadata": {},
     "output_type": "display_data"
    }
   ],
   "source": [
    "learn.recorder.plot()"
   ]
  },
  {
   "cell_type": "code",
   "execution_count": 50,
   "metadata": {},
   "outputs": [
    {
     "data": {
      "text/html": [
       "Total time: 03:56 <p><table border=\"1\" class=\"dataframe\">\n",
       "  <thead>\n",
       "    <tr style=\"text-align: left;\">\n",
       "      <th>epoch</th>\n",
       "      <th>train_loss</th>\n",
       "      <th>valid_loss</th>\n",
       "      <th>accuracy</th>\n",
       "      <th>time</th>\n",
       "    </tr>\n",
       "  </thead>\n",
       "  <tbody>\n",
       "    <tr>\n",
       "      <td>0</td>\n",
       "      <td>0.296268</td>\n",
       "      <td>0.220915</td>\n",
       "      <td>0.917976</td>\n",
       "      <td>03:56</td>\n",
       "    </tr>\n",
       "  </tbody>\n",
       "</table>"
      ],
      "text/plain": [
       "<IPython.core.display.HTML object>"
      ]
     },
     "metadata": {},
     "output_type": "display_data"
    }
   ],
   "source": [
    "learn.fit_one_cycle(1, 4e-2, moms=(0.8,0.7))"
   ]
  },
  {
   "cell_type": "code",
   "execution_count": 51,
   "metadata": {
    "collapsed": true
   },
   "outputs": [],
   "source": [
    "learn.save('kp_first')"
   ]
  },
  {
   "cell_type": "code",
   "execution_count": 52,
   "metadata": {
    "collapsed": true
   },
   "outputs": [],
   "source": [
    "learn.load('kp_first');"
   ]
  },
  {
   "cell_type": "markdown",
   "metadata": {},
   "source": [
    "А теперь мы продолжаем размораживать слои, обучая их \"по очереди\", начиная с конца.\n",
    "\n",
    "Мы не хотим сразу разрушить хрупкую структуру Encoder-a, который был обучен на предыдущем шаге."
   ]
  },
  {
   "cell_type": "code",
   "execution_count": 53,
   "metadata": {},
   "outputs": [
    {
     "data": {
      "text/html": [
       "Total time: 04:16 <p><table border=\"1\" class=\"dataframe\">\n",
       "  <thead>\n",
       "    <tr style=\"text-align: left;\">\n",
       "      <th>epoch</th>\n",
       "      <th>train_loss</th>\n",
       "      <th>valid_loss</th>\n",
       "      <th>accuracy</th>\n",
       "      <th>time</th>\n",
       "    </tr>\n",
       "  </thead>\n",
       "  <tbody>\n",
       "    <tr>\n",
       "      <td>0</td>\n",
       "      <td>0.184148</td>\n",
       "      <td>0.117084</td>\n",
       "      <td>0.958722</td>\n",
       "      <td>04:16</td>\n",
       "    </tr>\n",
       "  </tbody>\n",
       "</table>"
      ],
      "text/plain": [
       "<IPython.core.display.HTML object>"
      ]
     },
     "metadata": {},
     "output_type": "display_data"
    }
   ],
   "source": [
    "learn.freeze_to(-2)\n",
    "learn.fit_one_cycle(1, slice(3e-2/(2.6**4),3e-2), moms=(0.8,0.7))"
   ]
  },
  {
   "cell_type": "code",
   "execution_count": 54,
   "metadata": {
    "collapsed": true
   },
   "outputs": [],
   "source": [
    "learn.save('kp_second')"
   ]
  },
  {
   "cell_type": "code",
   "execution_count": 55,
   "metadata": {
    "collapsed": true
   },
   "outputs": [],
   "source": [
    "learn.load('kp_second');"
   ]
  },
  {
   "cell_type": "code",
   "execution_count": null,
   "metadata": {
    "collapsed": true
   },
   "outputs": [],
   "source": []
  },
  {
   "cell_type": "code",
   "execution_count": 56,
   "metadata": {},
   "outputs": [
    {
     "data": {
      "text/html": [
       "Total time: 06:24 <p><table border=\"1\" class=\"dataframe\">\n",
       "  <thead>\n",
       "    <tr style=\"text-align: left;\">\n",
       "      <th>epoch</th>\n",
       "      <th>train_loss</th>\n",
       "      <th>valid_loss</th>\n",
       "      <th>accuracy</th>\n",
       "      <th>time</th>\n",
       "    </tr>\n",
       "  </thead>\n",
       "  <tbody>\n",
       "    <tr>\n",
       "      <td>0</td>\n",
       "      <td>0.141272</td>\n",
       "      <td>0.106738</td>\n",
       "      <td>0.960053</td>\n",
       "      <td>06:24</td>\n",
       "    </tr>\n",
       "  </tbody>\n",
       "</table>"
      ],
      "text/plain": [
       "<IPython.core.display.HTML object>"
      ]
     },
     "metadata": {},
     "output_type": "display_data"
    }
   ],
   "source": [
    "learn.freeze_to(-3)\n",
    "learn.fit_one_cycle(1, slice(5e-3/(2.6**4),5e-3), moms=(0.8,0.7))"
   ]
  },
  {
   "cell_type": "code",
   "execution_count": 57,
   "metadata": {
    "collapsed": true
   },
   "outputs": [],
   "source": [
    "learn.save('kp_third')"
   ]
  },
  {
   "cell_type": "code",
   "execution_count": 33,
   "metadata": {
    "collapsed": true
   },
   "outputs": [],
   "source": [
    "learn.load('kp_third');"
   ]
  },
  {
   "cell_type": "code",
   "execution_count": 31,
   "metadata": {},
   "outputs": [
    {
     "data": {
      "text/html": [
       "Total time: 08:03 <p><table border=\"1\" class=\"dataframe\">\n",
       "  <thead>\n",
       "    <tr style=\"text-align: left;\">\n",
       "      <th>epoch</th>\n",
       "      <th>train_loss</th>\n",
       "      <th>valid_loss</th>\n",
       "      <th>accuracy</th>\n",
       "      <th>time</th>\n",
       "    </tr>\n",
       "  </thead>\n",
       "  <tbody>\n",
       "    <tr>\n",
       "      <td>0</td>\n",
       "      <td>0.111156</td>\n",
       "      <td>0.106131</td>\n",
       "      <td>0.958189</td>\n",
       "      <td>08:03</td>\n",
       "    </tr>\n",
       "  </tbody>\n",
       "</table>"
      ],
      "text/plain": [
       "<IPython.core.display.HTML object>"
      ]
     },
     "metadata": {},
     "output_type": "display_data"
    }
   ],
   "source": [
    "learn.unfreeze()\n",
    "learn.fit_one_cycle(1, slice(1e-3/(2.6**4),1e-3), moms=(0.8,0.7))"
   ]
  },
  {
   "cell_type": "code",
   "execution_count": 32,
   "metadata": {
    "collapsed": true
   },
   "outputs": [],
   "source": [
    "learn.save('kp_clas_tuned_2')"
   ]
  },
  {
   "cell_type": "code",
   "execution_count": 29,
   "metadata": {
    "collapsed": true
   },
   "outputs": [],
   "source": [
    "learn.save('kp_clas_tuned')"
   ]
  },
  {
   "cell_type": "code",
   "execution_count": null,
   "metadata": {
    "collapsed": true
   },
   "outputs": [],
   "source": [
    "learn.load('kp_clas_tuned')"
   ]
  },
  {
   "cell_type": "markdown",
   "metadata": {},
   "source": [
    "Мы натренировали нашу сеть, которая с высокой точностью определяет тональность отзыва"
   ]
  },
  {
   "cell_type": "markdown",
   "metadata": {},
   "source": [
    "Давайте проверим ее на случайном отызыве с кинопоиска"
   ]
  },
  {
   "cell_type": "code",
   "execution_count": 15,
   "metadata": {},
   "outputs": [
    {
     "data": {
      "text/plain": [
       "(Category good, tensor(1), tensor([0.3057, 0.6943]))"
      ]
     },
     "execution_count": 15,
     "metadata": {},
     "output_type": "execute_result"
    }
   ],
   "source": [
    "learn.predict('''\n",
    "«Балканский рубеж» в некотором роде уникальный фильм для нашего синематографа последнего времени. И вот почему, с одной стороны мы снимаем по лекалам телефильмов о доблестном спецназе кино, которое при прочих равных прошло бы более или менее не замеченным, а с другой стороны обозначаем проблему сосуществования народов и этнических войн на территории бывшей Югославии. К данной теме я вообще не равнодушен и было интересно взглянуть, как отечественный режиссер покажет эти моменты. И получилось совсем не плохо, по крайней мере, у меня не возникает чувства непонимания, что происходило в Боснии и Косово. Да, широкими мазками обозначена проблема, зато доходчиво донесено, что испытывали простые люди при развале страны. \n",
    "\n",
    "После конфликта во взаимодействии с силами НАТО, члены разведовательно — диверсионной группы оказываются в непростой ситуации и вынуждены остаться вне пределов России. Каждый устраивается по своему в новой жизни и старается выжить. Но изменение вектора политической обстановки вновь делает их востребованными Отечеством. Надо занять и удержать аэропорт Приштины в Косово, до подхода российских миротворцев. Захват и удержание показаны в добротной манере отечественных сериалов, останавливаться на этом не буду, меня больше порадовали второстепенные линии сюжета. Возможно, сотрудничество с сербами сделали эти линии проникновенными с чисто человеческого восприятия. Это и драма в роддоме при налетах НАТО, и непростые отношения косоваров и сербов на примере полицейского поста в Косово, и этническо — конфессиональные расстрелы, и напряжение до срывов медработников от вида пострадавших — говорят война все спишет, это так. Только вот рубцов и ран в душах людей не излечит даже время, боль и горечь потерь близких и друзей долго будет жить в памяти. \n",
    "\n",
    "Переплетение реальных фактов и художественного вымысла неплохо сочеталось в этой ленте — марш-бросок на Приштину десантников удачно дополнил бой группы Бека, восторги сербов на кадрах хроники и киношные смотрелись органично. Что касается политических перипетий, то это дело грязное и идеологический контекст можно и пропустить при просмотре, хотя ничего нереального в показанном я не увидел. Порадовали показанные будни десантников, под «Сектор газа» смотрелось реалистично, вполне реальное развлечение для отвлечения от повседневной рутины.\n",
    "\n",
    "Актеры сыграли в целом нормально и наши и сербские, из наших мне понравились Куркова, Полухин и Марин, из сербов Гойко Митич, Бикович и Родойичич. Специфический юмор только усилил игру актеров. Кустурица в концовке тоже смотрелся к месту. В целом, не проявив чудес актерского мастерства все смотрелись не плохо. \n",
    "\n",
    "Минусы конечно есть и довольно жирные, в основном связаны с навязыванием определенного идеологического подтекста, и увы, незнанием особенностей службы в войсках специального назначения. Но в целом фильм они не уродуют, поэтому смело отношу его к положительным моментам нашего кинопроката.\n",
    "''')"
   ]
  },
  {
   "cell_type": "code",
   "execution_count": 16,
   "metadata": {},
   "outputs": [
    {
     "data": {
      "text/plain": [
       "(Category bad, tensor(0), tensor([0.9772, 0.0228]))"
      ]
     },
     "execution_count": 16,
     "metadata": {},
     "output_type": "execute_result"
    }
   ],
   "source": [
    "learn.predict('''\n",
    "Пусть видят, кто против них (с)\n",
    "\n",
    "В конце 90-ых, во время очередного конфликта между сербами и албанцами, российская спецгруппа, находящаяся на территории Югославии, получает приказ захватить местный аэропорт и удержать его до прихода наших миротворцев.\n",
    "\n",
    "Режиссер «Танцев насмерть» и «Спирали», посредственных, никому ненужных картин, Андрей Волгин на западе давно бы оказался у разбитого корыта и пошел бы на прорыв, получив последний шанс или вошел бы в какую-нибудь когорту создателей сериалов, где ты просто один из тех, кто визуализирует чужие идеи. У нас же все совершенно по-другому произошло… Волгин получил большой бюджет, материал и не самых последних актеров, и что же он из этого смастерил? Все самое наипростейшее… Мотивы героев, как и предсказуемость сюжетных ходов и выпрыгивания спецэффектов из-за ушла — все это уже миллион раз использованные другими ходы, причем и реализованные сверхстандартно и стерильно. Ведь если у тебя есть антагонист, то кроме как дать ему нож и возможность оправдать рейтинг 16+ — единственный вариант продемонстрировать его характер и жестокость. Так же и с другими героями, один поет, другой постоянно про пенсию говорит, третий хочет денег, а узбечка заглянула на проект в поисках мужика, так и работают. А зрителям еще нужно разбираться причем тут НАТО, кто виноват и что делать, в общем не считая плохих дорог здесь есть все классические вопросы, волнующие русских на протяжении веков.\n",
    "\n",
    "По какой-то совершенно непонятной причине главную роль в «Балканском рубеже» исполнил Антон Пампушный («Защитники») — парень, конечно, колоритный, но с одной эмоцией на лице на любое происшествие и действие в его (их) сторону. Странно видеть таким потерянным Милоша Биковича («Лед»), у него здесь ключевая драматическая роль, но он так все это преподносит, что хочется снять ему скальп ничуть не меньше, чем террористам, которые гоняются за ним. Красивую Милену Радулович («Однажды летней ночью») при любой возможности раздевают, а героиня Равшаны Курковой («Без границ») получилась не только крутой, но еще и с юморком. Одного из самых запоминающихся бойцов с нашей стороны сыграл Сергей Марин («Анна-детективъ»), его неоднозначности и крутости, могли бы позавидовать и заграничные коллеги. Для увесистости в фильм влились: Гоша Куценко («Параграф 78»), которому очень нравится собирать себе отряды, любимейший югослав старшего поколения Гойко Митич («Апачи») и вечный Эмир Кустурица («Время цыган»). \n",
    "\n",
    "Картина «Балканских рубеж» очевидно снята явно из хороших побуждений и желания сделать, что-то свое на уровне Бэя и его «13 часов». Главные герои — такие наши Джеймсы Бонды без фантастической составляющей. Но вот снят «Балканский рубеж» самым скучным и потребительским образом: с кучей слоу-мо, увидев его количество даже создатели «Т-34» тихо стоят и покуривать в сторонке, хотя попытку сыграть в масштаб и серьезность можно и зачесть. Правда дешевые спецэффекты и длиннющие диалоги с попыткой хоть как-то раскрыть героев портят этот и так слишком затянутый фильм с нелогичным кастингом и музыкой, которая убаюкивает зрителей постоянно повторяющимся мотивом.''')"
   ]
  },
  {
   "cell_type": "code",
   "execution_count": 17,
   "metadata": {},
   "outputs": [
    {
     "data": {
      "text/plain": [
       "(Category good, tensor(1), tensor([0.0107, 0.9893]))"
      ]
     },
     "execution_count": 17,
     "metadata": {},
     "output_type": "execute_result"
    }
   ],
   "source": [
    "learn.predict('Очень хороший фильм')"
   ]
  },
  {
   "cell_type": "code",
   "execution_count": 19,
   "metadata": {},
   "outputs": [
    {
     "data": {
      "text/plain": [
       "(Category good, tensor(1), tensor([0.1069, 0.8931]))"
      ]
     },
     "execution_count": 19,
     "metadata": {},
     "output_type": "execute_result"
    }
   ],
   "source": [
    "learn.predict('Не очень хороший фильм')"
   ]
  },
  {
   "cell_type": "code",
   "execution_count": 26,
   "metadata": {},
   "outputs": [
    {
     "data": {
      "text/plain": [
       "(Category bad, tensor(0), tensor([0.8909, 0.1091]))"
      ]
     },
     "execution_count": 26,
     "metadata": {},
     "output_type": "execute_result"
    }
   ],
   "source": [
    "learn.predict('Почему то мне кажется, что фильм далек от идеала. Я бы не советовал его смотреть')"
   ]
  },
  {
   "cell_type": "code",
   "execution_count": 19,
   "metadata": {},
   "outputs": [
    {
     "data": {
      "text/plain": [
       "(Category neutral, tensor(2), tensor([0.0170, 0.1889, 0.7942]))"
      ]
     },
     "execution_count": 19,
     "metadata": {},
     "output_type": "execute_result"
    }
   ],
   "source": [
    "learn.predict(\"Фильм очень не очень. Могло бы быть и лучше. Ужасный фильм\")"
   ]
  },
  {
   "cell_type": "code",
   "execution_count": null,
   "metadata": {
    "collapsed": true
   },
   "outputs": [],
   "source": []
  },
  {
   "cell_type": "code",
   "execution_count": 75,
   "metadata": {},
   "outputs": [
    {
     "data": {
      "text/plain": [
       "(Category good, tensor(1), tensor([0.0327, 0.9673]))"
      ]
     },
     "execution_count": 75,
     "metadata": {},
     "output_type": "execute_result"
    }
   ],
   "source": [
    "learn.predict(\"Лучший фильм, который я когда-либо смотрел!\")"
   ]
  },
  {
   "cell_type": "code",
   "execution_count": 87,
   "metadata": {},
   "outputs": [
    {
     "data": {
      "text/plain": [
       "(Category bad, tensor(0), tensor([0.6440, 0.3560]))"
      ]
     },
     "execution_count": 87,
     "metadata": {},
     "output_type": "execute_result"
    }
   ],
   "source": [
    "learn.predict(\"Это худший фильм, который я когда-либо смотрел. Такие дела. Хотя может быть и стоит посмотреть фанатам\")"
   ]
  },
  {
   "cell_type": "markdown",
   "metadata": {},
   "source": [
    "## Интерпритируем результаты работы"
   ]
  },
  {
   "cell_type": "code",
   "execution_count": 36,
   "metadata": {},
   "outputs": [],
   "source": [
    "interp = ClassificationInterpretation.from_learner(learn)"
   ]
  },
  {
   "cell_type": "code",
   "execution_count": 37,
   "metadata": {},
   "outputs": [
    {
     "data": {
      "text/plain": [
       "True"
      ]
     },
     "execution_count": 37,
     "metadata": {},
     "output_type": "execute_result"
    }
   ],
   "source": [
    "losses,idxs = interp.top_losses()\n",
    "\n",
    "len(data_clas.valid_ds)==len(losses)==len(idxs)"
   ]
  },
  {
   "cell_type": "code",
   "execution_count": 38,
   "metadata": {},
   "outputs": [
    {
     "data": {
      "text/plain": [
       "[('bad', 'good', 81), ('good', 'bad', 69)]"
      ]
     },
     "execution_count": 38,
     "metadata": {},
     "output_type": "execute_result"
    }
   ],
   "source": [
    "interp.most_confused()"
   ]
  },
  {
   "cell_type": "code",
   "execution_count": 39,
   "metadata": {},
   "outputs": [
    {
     "data": {
      "image/png": "[encoded data removed]",
      "text/plain": [
       "<matplotlib.figure.Figure at 0x7fa45d185668>"
      ]
     },
     "metadata": {},
     "output_type": "display_data"
    }
   ],
   "source": [
    "interp.plot_confusion_matrix(figsize=(5,5), dpi=60)"
   ]
  },
  {
   "cell_type": "code",
   "execution_count": 70,
   "metadata": {},
   "outputs": [
    {
     "data": {
      "text/html": [
       "<div>\n",
       "<style scoped>\n",
       "    .dataframe tbody tr th:only-of-type {\n",
       "        vertical-align: middle;\n",
       "    }\n",
       "\n",
       "    .dataframe tbody tr th {\n",
       "        vertical-align: top;\n",
       "    }\n",
       "\n",
       "    .dataframe thead th {\n",
       "        text-align: right;\n",
       "    }\n",
       "</style>\n",
       "<table border=\"1\" class=\"dataframe\">\n",
       "  <thead>\n",
       "    <tr style=\"text-align: right;\">\n",
       "      <th></th>\n",
       "      <th>0</th>\n",
       "    </tr>\n",
       "  </thead>\n",
       "  <tbody>\n",
       "    <tr>\n",
       "      <th>0</th>\n",
       "      <td>(xxbos xxmaj фильм и мультипликационные эффект...</td>\n",
       "    </tr>\n",
       "  </tbody>\n",
       "</table>\n",
       "</div>"
      ],
      "text/plain": [
       "                                                   0\n",
       "0  (xxbos xxmaj фильм и мультипликационные эффект..."
      ]
     },
     "execution_count": 70,
     "metadata": {},
     "output_type": "execute_result"
    }
   ],
   "source": []
  },
  {
   "cell_type": "code",
   "execution_count": null,
   "metadata": {
    "collapsed": true
   },
   "outputs": [],
   "source": [
    "interp.data.valid_ds[idxs].to_df"
   ]
  },
  {
   "cell_type": "code",
   "execution_count": 74,
   "metadata": {},
   "outputs": [
    {
     "data": {
      "text/html": [
       "<div>\n",
       "<style scoped>\n",
       "    .dataframe tbody tr th:only-of-type {\n",
       "        vertical-align: middle;\n",
       "    }\n",
       "\n",
       "    .dataframe tbody tr th {\n",
       "        vertical-align: top;\n",
       "    }\n",
       "\n",
       "    .dataframe thead th {\n",
       "        text-align: right;\n",
       "    }\n",
       "</style>\n",
       "<table border=\"1\" class=\"dataframe\">\n",
       "  <thead>\n",
       "    <tr style=\"text-align: right;\">\n",
       "      <th></th>\n",
       "      <th>0</th>\n",
       "      <th>1</th>\n",
       "      <th>2</th>\n",
       "      <th>3</th>\n",
       "      <th>4</th>\n",
       "      <th>5</th>\n",
       "      <th>6</th>\n",
       "      <th>7</th>\n",
       "      <th>8</th>\n",
       "      <th>9</th>\n",
       "      <th>...</th>\n",
       "      <th>3745</th>\n",
       "      <th>3746</th>\n",
       "      <th>3747</th>\n",
       "      <th>3748</th>\n",
       "      <th>3749</th>\n",
       "      <th>3750</th>\n",
       "      <th>3751</th>\n",
       "      <th>3752</th>\n",
       "      <th>3753</th>\n",
       "      <th>3754</th>\n",
       "    </tr>\n",
       "  </thead>\n",
       "  <tbody>\n",
       "    <tr>\n",
       "      <th>0</th>\n",
       "      <td>[0.9794573783874512, 0.02054254710674286]</td>\n",
       "      <td>[0.08032911270856857, 0.9196708798408508]</td>\n",
       "      <td>[0.9989113807678223, 0.0010885943192988634]</td>\n",
       "      <td>[0.9978896975517273, 0.002110276138409972]</td>\n",
       "      <td>[0.9921839833259583, 0.007816040888428688]</td>\n",
       "      <td>[0.9583169221878052, 0.04168303310871124]</td>\n",
       "      <td>[0.03597991541028023, 0.9640201330184937]</td>\n",
       "      <td>[0.0012912378879263997, 0.9987087249755859]</td>\n",
       "      <td>[0.007498104125261307, 0.9925018548965454]</td>\n",
       "      <td>[0.9931135773658752, 0.006886401679366827]</td>\n",
       "      <td>...</td>\n",
       "      <td>[0.0004108767316211015, 0.9995891451835632]</td>\n",
       "      <td>[0.941908061504364, 0.058091964572668076]</td>\n",
       "      <td>[0.9941375255584717, 0.005862508900463581]</td>\n",
       "      <td>[0.0020676208660006523, 0.9979324340820312]</td>\n",
       "      <td>[0.22289299964904785, 0.7771070599555969]</td>\n",
       "      <td>[0.019873032346367836, 0.9801269769668579]</td>\n",
       "      <td>[0.9846291542053223, 0.0153708690777421]</td>\n",
       "      <td>[0.9894140958786011, 0.010585915297269821]</td>\n",
       "      <td>[0.07813524454832077, 0.9218647480010986]</td>\n",
       "      <td>[9.817669342737645e-05, 0.9999017715454102]</td>\n",
       "    </tr>\n",
       "    <tr>\n",
       "      <th>1</th>\n",
       "      <td>tensor(0)</td>\n",
       "      <td>tensor(1)</td>\n",
       "      <td>tensor(0)</td>\n",
       "      <td>tensor(0)</td>\n",
       "      <td>tensor(0)</td>\n",
       "      <td>tensor(0)</td>\n",
       "      <td>tensor(1)</td>\n",
       "      <td>tensor(1)</td>\n",
       "      <td>tensor(1)</td>\n",
       "      <td>tensor(0)</td>\n",
       "      <td>...</td>\n",
       "      <td>tensor(1)</td>\n",
       "      <td>tensor(0)</td>\n",
       "      <td>tensor(0)</td>\n",
       "      <td>tensor(1)</td>\n",
       "      <td>tensor(1)</td>\n",
       "      <td>tensor(1)</td>\n",
       "      <td>tensor(0)</td>\n",
       "      <td>tensor(0)</td>\n",
       "      <td>tensor(1)</td>\n",
       "      <td>tensor(1)</td>\n",
       "    </tr>\n",
       "    <tr>\n",
       "      <th>2</th>\n",
       "      <td>tensor(6.0022)</td>\n",
       "      <td>tensor(5.9901)</td>\n",
       "      <td>tensor(5.7649)</td>\n",
       "      <td>tensor(5.6648)</td>\n",
       "      <td>tensor(5.5806)</td>\n",
       "      <td>tensor(5.5272)</td>\n",
       "      <td>tensor(5.2282)</td>\n",
       "      <td>tensor(5.1292)</td>\n",
       "      <td>tensor(3.6016)</td>\n",
       "      <td>tensor(3.4851)</td>\n",
       "      <td>...</td>\n",
       "      <td>tensor(8.5831e-05)</td>\n",
       "      <td>tensor(7.9155e-05)</td>\n",
       "      <td>tensor(6.5327e-05)</td>\n",
       "      <td>tensor(6.2466e-05)</td>\n",
       "      <td>tensor(5.9128e-05)</td>\n",
       "      <td>tensor(5.7220e-05)</td>\n",
       "      <td>tensor(5.6744e-05)</td>\n",
       "      <td>tensor(4.6730e-05)</td>\n",
       "      <td>tensor(4.3392e-05)</td>\n",
       "      <td>tensor(-0.)</td>\n",
       "    </tr>\n",
       "  </tbody>\n",
       "</table>\n",
       "<p>3 rows × 3755 columns</p>\n",
       "</div>"
      ],
      "text/plain": [
       "                                        0     \\\n",
       "0  [0.9794573783874512, 0.02054254710674286]   \n",
       "1                                  tensor(0)   \n",
       "2                             tensor(6.0022)   \n",
       "\n",
       "                                        1     \\\n",
       "0  [0.08032911270856857, 0.9196708798408508]   \n",
       "1                                  tensor(1)   \n",
       "2                             tensor(5.9901)   \n",
       "\n",
       "                                          2     \\\n",
       "0  [0.9989113807678223, 0.0010885943192988634]   \n",
       "1                                    tensor(0)   \n",
       "2                               tensor(5.7649)   \n",
       "\n",
       "                                         3     \\\n",
       "0  [0.9978896975517273, 0.002110276138409972]   \n",
       "1                                   tensor(0)   \n",
       "2                              tensor(5.6648)   \n",
       "\n",
       "                                         4     \\\n",
       "0  [0.9921839833259583, 0.007816040888428688]   \n",
       "1                                   tensor(0)   \n",
       "2                              tensor(5.5806)   \n",
       "\n",
       "                                        5     \\\n",
       "0  [0.9583169221878052, 0.04168303310871124]   \n",
       "1                                  tensor(0)   \n",
       "2                             tensor(5.5272)   \n",
       "\n",
       "                                        6     \\\n",
       "0  [0.03597991541028023, 0.9640201330184937]   \n",
       "1                                  tensor(1)   \n",
       "2                             tensor(5.2282)   \n",
       "\n",
       "                                          7     \\\n",
       "0  [0.0012912378879263997, 0.9987087249755859]   \n",
       "1                                    tensor(1)   \n",
       "2                               tensor(5.1292)   \n",
       "\n",
       "                                         8     \\\n",
       "0  [0.007498104125261307, 0.9925018548965454]   \n",
       "1                                   tensor(1)   \n",
       "2                              tensor(3.6016)   \n",
       "\n",
       "                                         9     ...  \\\n",
       "0  [0.9931135773658752, 0.006886401679366827]  ...   \n",
       "1                                   tensor(0)  ...   \n",
       "2                              tensor(3.4851)  ...   \n",
       "\n",
       "                                          3745  \\\n",
       "0  [0.0004108767316211015, 0.9995891451835632]   \n",
       "1                                    tensor(1)   \n",
       "2                           tensor(8.5831e-05)   \n",
       "\n",
       "                                        3746  \\\n",
       "0  [0.941908061504364, 0.058091964572668076]   \n",
       "1                                  tensor(0)   \n",
       "2                         tensor(7.9155e-05)   \n",
       "\n",
       "                                         3747  \\\n",
       "0  [0.9941375255584717, 0.005862508900463581]   \n",
       "1                                   tensor(0)   \n",
       "2                          tensor(6.5327e-05)   \n",
       "\n",
       "                                          3748  \\\n",
       "0  [0.0020676208660006523, 0.9979324340820312]   \n",
       "1                                    tensor(1)   \n",
       "2                           tensor(6.2466e-05)   \n",
       "\n",
       "                                        3749  \\\n",
       "0  [0.22289299964904785, 0.7771070599555969]   \n",
       "1                                  tensor(1)   \n",
       "2                         tensor(5.9128e-05)   \n",
       "\n",
       "                                         3750  \\\n",
       "0  [0.019873032346367836, 0.9801269769668579]   \n",
       "1                                   tensor(1)   \n",
       "2                          tensor(5.7220e-05)   \n",
       "\n",
       "                                       3751  \\\n",
       "0  [0.9846291542053223, 0.0153708690777421]   \n",
       "1                                 tensor(0)   \n",
       "2                        tensor(5.6744e-05)   \n",
       "\n",
       "                                         3752  \\\n",
       "0  [0.9894140958786011, 0.010585915297269821]   \n",
       "1                                   tensor(0)   \n",
       "2                          tensor(4.6730e-05)   \n",
       "\n",
       "                                        3753  \\\n",
       "0  [0.07813524454832077, 0.9218647480010986]   \n",
       "1                                  tensor(1)   \n",
       "2                         tensor(4.3392e-05)   \n",
       "\n",
       "                                          3754  \n",
       "0  [9.817669342737645e-05, 0.9999017715454102]  \n",
       "1                                    tensor(1)  \n",
       "2                                  tensor(-0.)  \n",
       "\n",
       "[3 rows x 3755 columns]"
      ]
     },
     "execution_count": 74,
     "metadata": {},
     "output_type": "execute_result"
    }
   ],
   "source": [
    "pd.DataFrame([interp.probs.tolist(), interp.y_true, losses])"
   ]
  },
  {
   "cell_type": "code",
   "execution_count": 41,
   "metadata": {},
   "outputs": [
    {
     "data": {
      "text/plain": [
       "tensor([1, 1, 0,  ..., 1, 1, 1])"
      ]
     },
     "execution_count": 41,
     "metadata": {},
     "output_type": "execute_result"
    }
   ],
   "source": [
    "interp.pred_class"
   ]
  },
  {
   "cell_type": "code",
   "execution_count": 40,
   "metadata": {},
   "outputs": [
    {
     "data": {
      "text/plain": [
       "tensor([2, 1, 0,  ..., 2, 1, 1])"
      ]
     },
     "execution_count": 40,
     "metadata": {},
     "output_type": "execute_result"
    }
   ],
   "source": [
    "interp.y_true"
   ]
  },
  {
   "cell_type": "code",
   "execution_count": 42,
   "metadata": {
    "collapsed": true
   },
   "outputs": [],
   "source": [
    "idxs_sample = idxs[:10]"
   ]
  },
  {
   "cell_type": "markdown",
   "metadata": {},
   "source": [
    "## Предыдущий тип"
   ]
  },
  {
   "cell_type": "code",
   "execution_count": null,
   "metadata": {
    "collapsed": true
   },
   "outputs": [],
   "source": []
  },
  {
   "cell_type": "code",
   "execution_count": 20,
   "metadata": {
    "collapsed": true
   },
   "outputs": [],
   "source": [
    "interp = ClassificationInterpretation.from_learner(learn)"
   ]
  },
  {
   "cell_type": "code",
   "execution_count": 22,
   "metadata": {},
   "outputs": [
    {
     "data": {
      "text/plain": [
       "True"
      ]
     },
     "execution_count": 22,
     "metadata": {},
     "output_type": "execute_result"
    }
   ],
   "source": [
    "losses,idxs = interp.top_losses()\n",
    "\n",
    "len(data_clas.valid_ds)==len(losses)==len(idxs)"
   ]
  },
  {
   "cell_type": "code",
   "execution_count": 26,
   "metadata": {},
   "outputs": [
    {
     "data": {
      "text/plain": [
       "[('neutral', 'good', 996),\n",
       " ('bad', 'neutral', 441),\n",
       " ('good', 'neutral', 222),\n",
       " ('neutral', 'bad', 206),\n",
       " ('bad', 'good', 114),\n",
       " ('good', 'bad', 32)]"
      ]
     },
     "execution_count": 26,
     "metadata": {},
     "output_type": "execute_result"
    }
   ],
   "source": [
    "interp.most_confused()"
   ]
  },
  {
   "cell_type": "code",
   "execution_count": 25,
   "metadata": {},
   "outputs": [
    {
     "data": {
      "image/png": "[encoded data removed]",
      "text/plain": [
       "<matplotlib.figure.Figure at 0x7fb6d4fdacf8>"
      ]
     },
     "metadata": {},
     "output_type": "display_data"
    }
   ],
   "source": [
    "interp.plot_confusion_matrix(figsize=(5,5), dpi=60)"
   ]
  },
  {
   "cell_type": "code",
   "execution_count": 33,
   "metadata": {
    "collapsed": true
   },
   "outputs": [],
   "source": [
    "top_loss = interp.data.valid_ds[idxs[:10]]"
   ]
  },
  {
   "cell_type": "code",
   "execution_count": 41,
   "metadata": {},
   "outputs": [
    {
     "data": {
      "text/plain": [
       "tensor([1, 1, 0,  ..., 1, 1, 1])"
      ]
     },
     "execution_count": 41,
     "metadata": {},
     "output_type": "execute_result"
    }
   ],
   "source": [
    "interp.pred_class"
   ]
  },
  {
   "cell_type": "code",
   "execution_count": 40,
   "metadata": {},
   "outputs": [
    {
     "data": {
      "text/plain": [
       "tensor([2, 1, 0,  ..., 2, 1, 1])"
      ]
     },
     "execution_count": 40,
     "metadata": {},
     "output_type": "execute_result"
    }
   ],
   "source": [
    "interp.y_true"
   ]
  },
  {
   "cell_type": "code",
   "execution_count": 42,
   "metadata": {
    "collapsed": true
   },
   "outputs": [],
   "source": [
    "idxs_sample = idxs[:10]"
   ]
  },
  {
   "cell_type": "code",
   "execution_count": 45,
   "metadata": {},
   "outputs": [
    {
     "data": {
      "text/html": [
       "<div>\n",
       "<style scoped>\n",
       "    .dataframe tbody tr th:only-of-type {\n",
       "        vertical-align: middle;\n",
       "    }\n",
       "\n",
       "    .dataframe tbody tr th {\n",
       "        vertical-align: top;\n",
       "    }\n",
       "\n",
       "    .dataframe thead th {\n",
       "        text-align: right;\n",
       "    }\n",
       "</style>\n",
       "<table border=\"1\" class=\"dataframe\">\n",
       "  <thead>\n",
       "    <tr style=\"text-align: right;\">\n",
       "      <th></th>\n",
       "      <th>0</th>\n",
       "    </tr>\n",
       "  </thead>\n",
       "  <tbody>\n",
       "    <tr>\n",
       "      <th>0</th>\n",
       "      <td>(xxbos &lt; i &gt; xxmaj за что все дети и взрослые ...</td>\n",
       "    </tr>\n",
       "    <tr>\n",
       "      <th>1</th>\n",
       "      <td>[tensor(1), tensor(1), tensor(1), tensor(1), t...</td>\n",
       "    </tr>\n",
       "  </tbody>\n",
       "</table>\n",
       "</div>"
      ],
      "text/plain": [
       "                                                   0\n",
       "0  (xxbos < i > xxmaj за что все дети и взрослые ...\n",
       "1  [tensor(1), tensor(1), tensor(1), tensor(1), t..."
      ]
     },
     "execution_count": 45,
     "metadata": {},
     "output_type": "execute_result"
    }
   ],
   "source": [
    "pd.DataFrame([interp.data.valid_ds[idxs_sample].x, interp.pred_class[idxs_sample]])"
   ]
  },
  {
   "cell_type": "code",
   "execution_count": 43,
   "metadata": {},
   "outputs": [
    {
     "data": {
      "text/plain": [
       "TextList (10 items)\n",
       "xxbos < i > xxmaj за что все дети и взрослые любят сказки , так это за счастливый , добрый конец . xxmaj конец xxunk . xxmaj чем - то все обязательно закончится , но любителей , читателей , xxunk сказок как всегда в концовке ожидает счастье , дружба и любовь . < xxunk колец ' < / b > несмотря на устрашающих не только детей орков и прочую нечисть является тоже сказкой , правда , более взрослой нежели ' xxunk - лебеди ' , ' xxmaj маша и медведь ' . xxmaj вот и этой сказке пришла пора проститься с нами , но перед тем , как она с нами это сделает , она подарит нам неописуемой красоты более xxunk зрелище , которое останется в памяти навсегда и подарит ... веру и надежду в новую трилогию ! < / i > \n",
       " \n",
       " \n",
       " \n",
       "  xxmaj что - то расписывать цельное , в общих чертах , искать глубокий смысл или xxunk задумку режиссера в части третьей громадной саги , которая и создавалась - то одновременно - считаю делом лишним . xxmaj ведь трилогия < xxunk колец ' < / b > есть не что иное как единый фильм , только разбитый на три части дабы и зритель не скучал долгих часов 10 , да и бюджет xxunk xxunk в разы . xxmaj ведь ничего за исключением сюжета не меняется . xxmaj все те же герои , те же заботы , та же задача , та жа атмосфера , те же краски , то же xxmaj средиземье . xxmaj посему ваш покорный слуга считает xxunk выразить во всей полноте лишь самые яркие для него эмоции , отобразить в xxunk важные моменты и подвести итоги . \n",
       " \n",
       " \n",
       " \n",
       "  xxmaj так уж сложилось , что трилогию < xxunk колец ' < / b > мне удалось просмотреть лишь во время выхода трилогии новой , о < xxunk ' < / b > , пускай и во всех красках xxmaj blu - ray . xxmaj но еще в детстве , глядя на постеры ' xxmaj властелина колец ' , более всего меня xxunk седовласый старец , которого частенько xxunk с xxmaj дамблдором из xxmaj xxunk ... в году 2015 , во время просмотра заключительной части , я не просто смотрел , я наслаждался каждым движением , каждой мимикой < b > xxmaj xxunk xxmaj xxunk < / b>. xxmaj xxunk его игрой в предыдущих двух частях и недавно xxunk ' xxmaj коде да xxmaj винчи ' , я просто любовался каждым кадром с участием этого безмерно талантливого и уже немолодого британского актера . xxmaj его < b > xxmaj xxunk < / b > самое настоящее мудрое олицетворение добра , справедливости и света . xxmaj самое интересное , что по мере приближения развязки в трилогии из неуклюжего , серого , xxunk мага xxmaj xxunk превращается в приятно одетого , xxunk , светлого волшебника , xxunk в хорошем смысле трепетать перед персонажем , за которым наблюдая получаешь истинное наслаждение . \n",
       " \n",
       " \n",
       " \n",
       "  < b > xxmaj арагорн < / b > с первой части мне также был приятен , как и < b > xxmaj леголас < / b>. xxmaj подбор ну просто ' в яблочко ' < b > xxmaj мортенсена < / b > , < b > xxmaj блума < / b > и прочей компании во многом и способствовал успеху этой картины . xxmaj но что еще более приятно , так это что с каждой частью каждый из актеров расцветает все больше ярче . и это касается всех без исключения , и < b > xxmaj элайджи xxmaj вуда < / b > , и < b > xxmaj xxunk < / b > , и < b > xxmaj блума < / b > , и < b > xxmaj мортенсена < / b > , и эпизодической < b > xxmaj бланшетт < / b>. xxmaj хотя возможно я и xxunk ... xxmaj быть может это моя нарастающая любовь ко всем светлым персонажам фильма . в любом случае заслуга < b > xxmaj питера xxmaj джексона < / b > не просто большая , она огромнейшая ! \n",
       " \n",
       " \n",
       " \n",
       "  xxmaj начало фильма открывает тандем незнакомых ранее личностей . xxmaj учитывая что фильмы выходили раз в год , а названий сложных и имен было в достатке , как и героев , посему проскакивает легкий страх - кто все эти двое люди ? xxmaj но он тут же улетучивается , если присмотреться ближе к внешности одного из хоббитов . < b > xxmaj голлум < / b>. xxmaj хотел бы отметить то , что наконец - то xxmaj джексон предоставил нам xxunk актера , которого и ранее было много , но мы его не видели ( как ни парадоксально это звучит ) . xxmaj восхищаться в данном случае можно двумя вещами : развитием компьютерных технологий и господином < b > xxmaj xxunk < / b > с его талантом . \n",
       " \n",
       " \n",
       " \n",
       "  xxmaj несмотря на предыдущий xxunk опыт меня все же волновал долгий хронометраж части под номером 3 . xxmaj но куда делись эти 3 с половиной часа ! xxmaj они улетучились ! xxmaj правдоподобные батальные сцены , яркие костюмы , харизматичные герои и все это воедино соединяет ... добро ! xxmaj все < xxunk короля ' < / b > так и пронизано добром и светом ! xxmaj они здесь везде и во всем ! xxmaj даже маленькие хоббиты < b > xxmaj xxunk < / b > и < b > xxmaj xxunk < / b > , xxunk главным героям своей xxunk палки в колеса , превратились в безумно приятных маленьких героев - храбрецов . а < b > xxmaj питер xxmaj джексон < / b > неприкрыто целый фильм нам намекает : любите друг друга , живете в мире и xxunk , будьте верными друзьями и творите добро ! \n",
       " \n",
       " \n",
       " \n",
       "  xxmaj легендарная xxunk , снятая по легендарной книге завершилась . xxmaj казалось бы ... конец . xxmaj но < b > xxmaj питер xxmaj джексон < / b > , как никто другой знает , что простому человеку после чего - то грандиозно - шедеврального всегда необходимо это шедевральное повторить . xxmaj ну хоть разок , но повторить . а почему собственно и нет , подумал < b > xxmaj питер xxmaj джексон < / b > , когда < b > xxmaj дж . xxup р. xxmaj толкиен < / b > давным - давно предоставил на суд всему миру xxunk поле для действий современным кинематографистам . xxmaj так и появилась на свет новая xxunk о < xxunk ' < / b > спустя почти ровно 10 лет . с теми самыми актерами , пускай и с xxunk уже морщинами , с более xxunk спецэффектами и с новыми героями . \n",
       " \n",
       " \n",
       " \n",
       "  xxmaj все хорошее когда - нибудь заканчивается , но xxmaj питер xxmaj джексон это хорошее сумел продлить чуть дольше ... \n",
       " \n",
       " \n",
       " \n",
       "  xxmaj на одну трилогию больше ... \n",
       " \n",
       " \n",
       " \n",
       "  < b > xxmaj виват xxmaj питер xxmaj джексон ! xxmaj виват король ! < / b > \n",
       " \n",
       " \n",
       " \n",
       "  10 из 10,xxbos я люблю вестерны и нужно сказать , что после того что сделали с этим жанром xxmaj серджо xxmaj леоне и xxmaj клинт xxmaj иствуд , достаточно сложно xxunk что - то новое , запоминающееся . \n",
       " \n",
       " \n",
       " \n",
       "  xxmaj конечно фильм ' xxmaj профессионалы ' снимался в 1966 году ( и кстати сделал очень неплохие сборы ) и для того времени кино получилось очень впечатляющим , но сегодня оно не смотрится как шедевр . \n",
       " \n",
       " \n",
       " \n",
       "  xxmaj думаю это был такой искусственный , xxunk на успех своими продюсерами блокбастер . xxmaj был приглашен солидный режиссер , очень влиятельные актеры ( xxmaj марвин , xxmaj райан , xxmaj ланкастер ) . xxmaj была xxunk xxmaj кардинале . xxmaj был подготовлен очень красивый сценарий и была проделана очень хорошая операторская работа . \n",
       " \n",
       " \n",
       " \n",
       "  xxmaj но мне кажется , что фильм слишком пресный , отсутствует изюминка , внутреннее очарование . xxmaj сюжет достаточно сильно перекликается с xxmaj великолепной xxunk , только вместо охраны земли - от ' xxunk ' требуется вернуть xxunk жену . \n",
       " \n",
       " \n",
       " \n",
       "  xxmaj не слишком впечатляет и развязка фильма - сложно поверить в то , что циничные герои , профессия которых заключается в насилии поведут себя так , как они повели . xxmaj фильм полностью проигрывает в сравнении с вышедшей в тот год ' xxmaj xxunk ' с xxmaj брандо : после ' xxmaj xxunk ' остается в памяти xxunk над xxunk , а вот после ' xxmaj профессионалов ' таких явных фрагментов в памяти не остается . xxmaj впрочем , разве что очень выразителен xxmaj вуди xxmaj xxunk . \n",
       " \n",
       " \n",
       " \n",
       "  5 из 10,xxbos xxmaj американский футбол всегда был чем то , нежели обычный вид спорта . xxmaj он всегда являлся и по сей день остаётся некой частью культурной ценности этой страны . xxmaj так же , как скажем xxmaj xxunk для xxmaj англичан и всего мира , хоккей для xxmaj канады и xxmaj россиян . xxmaj на этом список можно продолжать до бесконечности . я очень люблю этот вид xxunk спорта . xxmaj удаётся в него играть со знакомыми и друзьями . xxmaj не смотря на то , что у нас в стране об этой игре знает мало кто . xxmaj да и слежу за xxunk благодаря xxunk телевидению . xxmaj во многом именно из - за этого я очень трепетно отношусь к подобного рода фильмам . xxmaj этот фильм я посмотрел еще тогда , когда он только вышел . xxmaj тогда он произвёл на меня очень сильное впечатление . xxmaj пересмотрев его несколько минут тому назад , я испытал намного большее впечатление , чем испытал ранее . xxmaj казалось бы , фильмов на эту тему очень много . xxmaj но < b > xxmaj фил xxmaj xxunk < / b > привнёс в проект нечто уникальное и от этого фильм смотрится с невероятным интересом . < b > xxmaj фил < / b > бывший клипмейкер . в связи с чем , зачатки и основы его бывшей профессии , тут ощущаются очень сильно . xxmaj особенно когда смотришь великолепно снятые сцены игр . xxmaj удачные ракурсы , резкая операторская работа , динамичная съемка и xxunk монтаж . xxmaj всё это создавало образ очень зрелищной , захватывающей , эффектной и динамичной игры . в связи с чем , ты буквально становился участником этой игры . а сам просмотр фильм , начинал доставлять не только огромное удовольствие . xxmaj впечатляет то , что xxmaj фил снял достаточно серьёзное и xxunk кино , которое ничуть не нервирует своим xxunk . xxmaj скорее наоборот . xxmaj ты смотришь фильм и наслаждаешься увиденным . xxmaj но при этом , не вольно ощущаешь то , какого эффекта пытался добиться режиссер . в картине присутствует обилие очень сильных и эмоциональных моментов , которые во многом держатся на сценах игр . xxmaj помимо этого , стоит выделить сцену , когда парни передают цветы тренеру , что бы тот , передал цветы своей умирающей матери . xxmaj признаться , я пустил пару xxunk . xxmaj когда как в финале ленты , уровень адреналина в моей крови xxunk . я невольно начинал остро сопереживать героям и даже xxunk определенные слова . xxmaj разве это не лучшее определение работы , которую проделал режиссер ? xxmaj отдельное спасибо за нарезку из документальных видео , которые идут под финальные титры . xxmaj там мы имеем возможность увидеть людей , которые стали прототипами главных героев . xxmaj меня лично пробрало . \n",
       " \n",
       " \n",
       " \n",
       "  я с огромным уважением отношусь к подобным проектам . xxmaj ведь это великая ответственность . xxmaj показать очень серьезную историю так , что бы зритель полностью оценил действие и кое чему научился . xxmaj получается не у всех . xxmaj но тут создатели постарались и это заметно сильно ощущается . xxmaj ценность подобных картин в том , что они отражают реальные жизненные истории и настоящих людей , которые окружают нас каждое мгновение нашей жизни . xxmaj что позволяет нам , поставить себя на место определенного героя и многому научится на увиденном . а возможно даже , найти в определенном герое то , что ты видишь в своём друге или близком тебе человеке . в чём главная мораль ленты ? в том , что плохих и хороших людей не бывает . xxmaj существует лишь степени того и другого . xxmaj фильм о том , что < b > каждый достоин второго шанса , который сделает его лучше < / b>. xxmaj что мы видим на фоне главных героев ленты . xxmaj они были настоящими xxunk общества и преступниками . xxmaj но они изменились . xxmaj они стали абсолютно другими людьми и превратились в настоящую команду . xxmaj они xxunk и стали семьей . xxmaj где каждый , готов пожертвовать собой , ради другого . а как можно добиться такого эффекта ? xxmaj безусловно с помощью спорта . xxmaj спорт всегда делал людей более xxunk и xxunk . а какой спорт наиболее важный и xxunk в xxmaj американской культуре ? xxmaj конечно же , американский футбол . xxmaj создатели ярко показали и то , что не только преступники изменились на экране . xxmaj но и главные герои в лице xxunk ленты . xxmaj ведь они учились не только тому , как надо играть . а скорее и тому , как надо жить . в картине огромное количество действительно сильных и эмоционально xxunk сцен . xxmaj взять хоть финал . xxmaj наблюдая за героем , ты действительно понимаешь , что это настоящее счастье для любого тренера и педагога . xxmaj особенно тогда , когда ты понимаешь , что ты подействовал на этих людей , сделал их лучше и они искренне благодарны тебе за это . xxmaj пожалуй нет большего счастья . xxmaj сюжет получился достаточно простым и классическим для жанра . в принципе , сразу ясно , чем закончится фильм . xxmaj вот только , тут больше привлекает тот процесс , который довёл фильм до подобного финала . а самое главное , не смотря на достаточное большое количество морали в ленте , фильм смотрится действительно с интересом и даже больше . \n",
       " \n",
       " \n",
       " \n",
       "  < b > xxmaj дуэйн xxmaj джонсон < / b > достаточно удачно перебрался в боевики , когда как , он раньше был известен карьерой рестлера . xxmaj он полностью погряз в образах крутых парней и героев боевиков . xxmaj этот фильм стал для него идеальной возможностью доказать то , что он не ограничен этим амплуа и является очень талантливым актером . < b > xxmaj xxunk < / b > достался очень глубокий и не простой персонаж . xxmaj показал его < b > xxmaj скала < / b > просто великолепно . xxmaj спору нет , ему удалось показать всю глубину и эмоциональную составляющую своего героя . в выше упомянутой сцене с xxunk в виде цветов , я даже прослезился . xxmaj ведь наблюдать за xxunk < b > xxmaj скалы < / b > без xxunk слёз , просто невозможно . xxmaj хорошо смотрелся и < b > xxmaj xxunk < / b > , который удачно перебрался в актерскую среду из музыкального бизнеса . xxmaj сыграна роль очень эмоционально и естественно . xxmaj выделять остальных актеров , нет смысла . xxmaj все справились просто великолепно и показали на экране , очень интересных и поистине настоящих персонажей . \n",
       " \n",
       " \n",
       " \n",
       "  я очень люблю работы < b > xxmaj тревора xxmaj xxunk < / b > за то , как он удачно эксплуатирует своё главное достоинство . xxmaj оно заключается в том , как великолепно он xxunk классическую и xxunk музыку , с современными музыкальными инструментами и xxunk . в данной ленте , выделяется великолепная комбинация xxunk и xxunk инструментов , с xxunk и xxunk . в совокупности , музыка получилась достаточно xxunk , но очень богатой . xxmaj ведь они идеально смотрелись как в качестве xxunk дополнения зрелищных сцен игр , так и в качестве душевных xxunk , которые идеально отражали всё настроение сцены . xxmaj одна из лучших работ < b > xxmaj тревора < / b>. \n",
       " \n",
       " \n",
       " \n",
       "  < b > xxmaj моя оценка картине \n",
       " \n",
       " \n",
       " \n",
       "  10 из 10 \n",
       " \n",
       " \n",
       " \n",
       "  xxmaj очень глубокое , xxunk , глубоко моральное и эмоциональное кино . xxmaj такое кино наиболее ценно , потому что , она о нас и способна перевоспитать нас во многом . xxmaj один из лучших фильмов , что я когда либо видел и настолько качественная лента , что я смело советую посмотреть её каждому . < / b >,xxbos xxmaj мультфильм xxmaj ральфа xxmaj бакши « xxmaj властелин колец » был снят по величайшему роману xxmaj толкиена . xxmaj это первая экранизация произведения . к сожалению , ничего величайшего в мультфильме нет . \n",
       " \n",
       " \n",
       " \n",
       "  xxmaj трудно было передать весь эпос огромного и величественного мира , созданного xxmaj xxunk , но , например , xxunk современной трилогии это практически удалось . xxmaj бюджет « xxmaj властелина колец » , снятого xxmaj бакши – 8 миллионов долларов . xxmaj даже для 1978 года это страшно мало , ведь из него не пытались сделать классический рисованный мультфильм ( для которого восьми миллионов было бы достаточно ) , как , например , создали « xxmaj хоббита » 1977 ( бюджет – 3 миллиона ) , а наоборот , режиссер стремился создать мрачную картину , которая могла уже называться не детским мультиком , а настоящей драмой , сделанной в мультипликации . xxmaj однако многое действительно подкачало . \n",
       " \n",
       " \n",
       " \n",
       "  xxunk минут для того , чтобы показать все события двух частей – недостаточно . xxmaj сценаристы попытались максимально уложиться во времени , поэтому огромное количество важных моментов упущено , многих героев не показали , но тут сразу же минус : некоторые абсолютно xxunk моменты растянули . xxmaj например , момент , когда xxmaj фродо , будучи xxunk в плечо , убегал на коне от xxunk его xxmaj xxunk . xxmaj эпизод показали очень подробно , но это совершенно не нужно ; лучше бы подробно передали происходящее на совете , когда xxunk , что делать с кольцом . xxmaj нам же его сильно сократили . xxmaj итак , работа сценаристов оставляет желать лучшего . \n",
       " \n",
       " \n",
       " \n",
       "  xxmaj трудно поспорить с тем , что анимация здесь довольно своеобразная . xxmaj она не похожа на мультфильмы того времени , и это неплохо . xxmaj но некоторые эпизоды делались в совсем другом стиле : нам показывают реально снятых людей , xxunk в анимационных . я считаю , что это колоссальная ошибка . xxmaj аниматорам надо было определиться , в каком стиле им работать . xxmaj эти резкие переходы раздражают , а также отрицательно влияют на впечатления о фильме . xxmaj однако это не все недочеты анимации . xxmaj многие герои нарисованы ужасно , абсолютно не в сочетании с xxunk xxmaj толкиена . xxmaj так , xxmaj арагорн в мультфильме выглядит как индеец , а xxunk здесь какой - то ловкий и быстрый , когда как в книге эти существа ходили и разговаривали очень медленно , а о том , как выглядят орки и говорить нечего . xxmaj их образ совершенно не удался , не говоря уже о том , что об xxunk - xxunk , созданных xxmaj xxunk , не сказано ни слова . я написал далеко не обо всех анимационных недочетах , но основные выделил . \n",
       " \n",
       " \n",
       " \n",
       "  xxmaj также можно упомянуть большое количество сюжетных недоработок и упущения важных моментов в диалогах . xxmaj кажется , что фильм рассчитан только на людей , которые читали книгу , и которые сами смогут заполнить все минусы . а многие моменты и персонажи выглядели просто смешно . xxmaj например , образ тролля в xxmaj xxunk , падение xxmaj гендальфа в пропасть с xxmaj xxunk ( образ которого тоже подкачал ) , неуклюжие выражения лица xxmaj сэма и т.д . \n",
       " \n",
       " \n",
       " \n",
       "  к плюсам можно лишь отнести хорошо подобранный саундтрек , отражающий масштабные сражения и боевой дух героев , а также отлично нарисованный образ xxmaj xxunk . xxmaj этот персонаж выделяется среди остальных . \n",
       " \n",
       " \n",
       " \n",
       "  в целом , ни режиссеру , ни аниматорам , ни сценаристам не удалось передать дух произведения . xxmaj трилогия xxmaj джексона смотрится в десятки раз интереснее . xxmaj стоит смотреть только фанатам трилогии и то , я думаю , они останутся разочарованными . \n",
       " \n",
       " \n",
       " \n",
       "  5 из 10,xxbos xxmaj на фоне тотального дефицита хороших , добрых , смешных фильмов мне бы наверное понравился любой более - менее сносный фильм . xxmaj но этот фильм - совсем не рак , который и на безрыбье рыба . \n",
       " \n",
       " \n",
       " \n",
       "  xxmaj вот небольшой список из того , что мне понравилось в картине : \n",
       " \n",
       " \n",
       " \n",
       "  1 . xxmaj особенно красиво снято два момента : проход главного героя в начале фильма - по xxunk и в конце фильма - по церкви под песню xxmaj джонни xxmaj кэша ' xxmaj the man xxunk xxunk ' . xxmaj не знаю , чья в этом заслуга : оператора или режиссера , но снято здорово . \n",
       " \n",
       " \n",
       " \n",
       "  2 . xxmaj прически xxmaj кейт xxmaj хадсон пару раз заставляли меня нажать на паузу : хотелось узнать , как ' без рук и xxunk сделана xxunk ' . xxmaj выглядят прически очень просто и сделаны без xxunk участия xxunk и xxunk . в общем , лично для меня загадка . \n",
       " \n",
       " \n",
       " \n",
       "  3 . xxmaj общая картина фильма радует глаз : интерьеры , одежда героев , улицы и виды . \n",
       " \n",
       " \n",
       " \n",
       "  4 . xxmaj игра xxmaj алека xxmaj болдуина мне очень понравилась : оказывается , он хороший комик . \n",
       " \n",
       " \n",
       " \n",
       "  5 . xxmaj сцену с бровями многие упоминали , а на официальном сайте фильма даже конкурс какой - то есть , связанный с виртуальным xxunk бровей . xxmaj интересно , как бы я выглядела без бровей . \n",
       " \n",
       " \n",
       " \n",
       "  6 . xxmaj фраза xxmaj xxunk , xxunk в тайны женской психики : ' xxmaj если хочу отпугнуть девушку , то xxunk ей , что я дерьмо . xxmaj хочу xxunk - xxunk ей , что она дерьмо ' . \n",
       " \n",
       " \n",
       " \n",
       "  7 . xxmaj сцена , где xxmaj xxunk смотрит ' xxmaj привидение ' и пускает слезу , тоже смешная и милая . xxmaj заметьте , что при первом знакомстве героев вокруг головы xxmaj кейт xxunk ореол . xxmaj как впрочем и в конце . \n",
       " \n",
       " \n",
       " \n",
       "  в общем , фильм очень поднимает настроение . xxmaj за что ему и спасибо . xxmaj хотя в наше время уже пора медали давать тем , кто пытается делать такие позитивные фильмы . \n",
       " \n",
       " \n",
       " \n",
       "  10 из 10\n",
       "Path: ."
      ]
     },
     "execution_count": 43,
     "metadata": {},
     "output_type": "execute_result"
    }
   ],
   "source": [
    "interp.data.valid_ds[idxs_sample].x"
   ]
  },
  {
   "cell_type": "markdown",
   "metadata": {},
   "source": [
    "### With the data block API"
   ]
  },
  {
   "cell_type": "markdown",
   "metadata": {},
   "source": [
    "We can use the data block API with NLP and have a lot more flexibility than what the default factory methods offer. In the previous example for instance, the data was randomly split between train and validation instead of reading the third column of the csv.\n",
    "\n",
    "With the data block API though, we have to manually call the tokenize and numericalize steps. This allows more flexibility, and if you're not using the defaults from fastai, the variaous arguments to pass will appear in the step they're revelant, so it'll be more readable."
   ]
  },
  {
   "cell_type": "code",
   "execution_count": null,
   "metadata": {
    "collapsed": true
   },
   "outputs": [],
   "source": [
    "data = (TextList.from_csv(path, 'texts.csv', cols='text')\n",
    "                .split_from_df(col=2)\n",
    "                .label_from_df(cols=0)\n",
    "                .databunch())"
   ]
  },
  {
   "cell_type": "markdown",
   "metadata": {},
   "source": [
    "## Classifier"
   ]
  },
  {
   "cell_type": "markdown",
   "metadata": {},
   "source": [
    "Now, we'll create a new data object that only grabs the labelled data and keeps those labels. Again, this line takes a bit of time."
   ]
  },
  {
   "cell_type": "code",
   "execution_count": null,
   "metadata": {
    "collapsed": true
   },
   "outputs": [],
   "source": [
    "path = untar_data(URLs.IMDB)"
   ]
  },
  {
   "cell_type": "code",
   "execution_count": null,
   "metadata": {
    "collapsed": true
   },
   "outputs": [],
   "source": [
    "data_clas = (TextList.from_folder(path, vocab=data_lm.vocab)\n",
    "             #grab all the text files in path\n",
    "             .split_by_folder(valid='test')\n",
    "             #split by train and valid folder (that only keeps 'train' and 'test' so no need to filter)\n",
    "             .label_from_folder(classes=['neg', 'pos'])\n",
    "             #label them all with their folders\n",
    "             .databunch(bs=bs))\n",
    "\n",
    "data_clas.save('data_clas.pkl')"
   ]
  },
  {
   "cell_type": "code",
   "execution_count": null,
   "metadata": {
    "collapsed": true
   },
   "outputs": [],
   "source": [
    "data_clas = load_data(path, 'data_clas.pkl', bs=bs)"
   ]
  },
  {
   "cell_type": "code",
   "execution_count": null,
   "metadata": {},
   "outputs": [
    {
     "data": {
      "text/html": [
       "<table>  <col width='90%'>  <col width='10%'>  <tr>\n",
       "    <th>text</th>\n",
       "    <th>target</th>\n",
       "  </tr>\n",
       "  <tr>\n",
       "    <th>xxbos xxmaj match 1 : xxmaj tag xxmaj team xxmaj table xxmaj match xxmaj bubba xxmaj ray and xxmaj spike xxmaj dudley vs xxmaj eddie xxmaj guerrero and xxmaj chris xxmaj benoit xxmaj bubba xxmaj ray and xxmaj spike xxmaj dudley started things off with a xxmaj tag xxmaj team xxmaj table xxmaj match against xxmaj eddie xxmaj guerrero and xxmaj chris xxmaj benoit . xxmaj according to the rules</th>\n",
       "    <th>pos</th>\n",
       "  </tr>\n",
       "  <tr>\n",
       "    <th>xxbos xxmaj titanic directed by xxmaj james xxmaj cameron presents a fictional love story on the historical setting of the xxmaj titanic . xxmaj the plot is simple , xxunk , or not for those who love plots that twist and turn and keep you in suspense . xxmaj the end of the movie can be figured out within minutes of the start of the film , but the love</th>\n",
       "    <th>pos</th>\n",
       "  </tr>\n",
       "  <tr>\n",
       "    <th>xxbos xxmaj here are the matches . . . ( adv . = advantage ) \\n\\n xxmaj the xxmaj warriors ( xxmaj ultimate xxmaj warrior , xxmaj texas xxmaj tornado and xxmaj legion of xxmaj doom ) v xxmaj the xxmaj perfect xxmaj team ( xxmaj mr xxmaj perfect , xxmaj ax , xxmaj smash and xxmaj crush of xxmaj demolition ) : xxmaj ax is the first to go</th>\n",
       "    <th>neg</th>\n",
       "  </tr>\n",
       "  <tr>\n",
       "    <th>xxbos i felt duty bound to watch the 1983 xxmaj timothy xxmaj dalton / xxmaj zelah xxmaj clarke adaptation of \" xxmaj jane xxmaj eyre , \" because i 'd just written an article about the 2006 xxup bbc \" xxmaj jane xxmaj eyre \" for xxunk . \\n\\n xxmaj so , i approached watching this the way i 'd approach doing homework . \\n\\n i was irritated at first</th>\n",
       "    <th>pos</th>\n",
       "  </tr>\n",
       "  <tr>\n",
       "    <th>xxbos xxmaj no , this is n't a sequel to the fabulous xxup ova series , but rather a remake of the events that occurred after the death of xxmaj xxunk ( and the disappearance of xxmaj woodchuck ) . xxmaj it is also more accurate to the novels that inspired this wonderful series , which is why characters ( namely xxmaj orson and xxmaj xxunk ) are xxunk ,</th>\n",
       "    <th>pos</th>\n",
       "  </tr>\n",
       "</table>\n"
      ],
      "text/plain": [
       "<IPython.core.display.HTML object>"
      ]
     },
     "metadata": {},
     "output_type": "display_data"
    }
   ],
   "source": [
    "data_clas.show_batch()"
   ]
  },
  {
   "cell_type": "markdown",
   "metadata": {},
   "source": [
    "We can then create a model to classify those reviews and load the encoder we saved before."
   ]
  },
  {
   "cell_type": "code",
   "execution_count": null,
   "metadata": {
    "collapsed": true
   },
   "outputs": [],
   "source": [
    "learn = text_classifier_learner(data_clas, AWD_LSTM, drop_mult=0.5)\n",
    "learn.load_encoder('fine_tuned_enc')"
   ]
  },
  {
   "cell_type": "code",
   "execution_count": null,
   "metadata": {
    "collapsed": true
   },
   "outputs": [],
   "source": [
    "learn.lr_find()"
   ]
  },
  {
   "cell_type": "code",
   "execution_count": null,
   "metadata": {
    "collapsed": true
   },
   "outputs": [],
   "source": [
    "learn.recorder.plot()"
   ]
  },
  {
   "cell_type": "code",
   "execution_count": null,
   "metadata": {},
   "outputs": [
    {
     "data": {
      "text/html": [
       "Total time: 03:40 <p><table style='width:300px; margin-bottom:10px'>\n",
       "  <tr>\n",
       "    <th>epoch</th>\n",
       "    <th>train_loss</th>\n",
       "    <th>valid_loss</th>\n",
       "    <th>accuracy</th>\n",
       "  </tr>\n",
       "  <tr>\n",
       "    <th>1</th>\n",
       "    <th>0.310078</th>\n",
       "    <th>0.197204</th>\n",
       "    <th>0.926960</th>\n",
       "  </tr>\n",
       "</table>\n"
      ],
      "text/plain": [
       "<IPython.core.display.HTML object>"
      ]
     },
     "metadata": {},
     "output_type": "display_data"
    }
   ],
   "source": [
    "learn.fit_one_cycle(1, 2e-2, moms=(0.8,0.7))"
   ]
  },
  {
   "cell_type": "code",
   "execution_count": null,
   "metadata": {
    "collapsed": true
   },
   "outputs": [],
   "source": [
    "learn.save('first')"
   ]
  },
  {
   "cell_type": "code",
   "execution_count": null,
   "metadata": {
    "collapsed": true
   },
   "outputs": [],
   "source": [
    "learn.load('first');"
   ]
  },
  {
   "cell_type": "code",
   "execution_count": null,
   "metadata": {},
   "outputs": [
    {
     "data": {
      "text/html": [
       "Total time: 04:03 <p><table style='width:300px; margin-bottom:10px'>\n",
       "  <tr>\n",
       "    <th>epoch</th>\n",
       "    <th>train_loss</th>\n",
       "    <th>valid_loss</th>\n",
       "    <th>accuracy</th>\n",
       "  </tr>\n",
       "  <tr>\n",
       "    <th>1</th>\n",
       "    <th>0.255913</th>\n",
       "    <th>0.169186</th>\n",
       "    <th>0.937800</th>\n",
       "  </tr>\n",
       "</table>\n"
      ],
      "text/plain": [
       "<IPython.core.display.HTML object>"
      ]
     },
     "metadata": {},
     "output_type": "display_data"
    }
   ],
   "source": [
    "learn.freeze_to(-2)\n",
    "learn.fit_one_cycle(1, slice(1e-2/(2.6**4),1e-2), moms=(0.8,0.7))"
   ]
  },
  {
   "cell_type": "code",
   "execution_count": null,
   "metadata": {
    "collapsed": true
   },
   "outputs": [],
   "source": [
    "learn.save('second')"
   ]
  },
  {
   "cell_type": "code",
   "execution_count": null,
   "metadata": {
    "collapsed": true
   },
   "outputs": [],
   "source": [
    "learn.load('second');"
   ]
  },
  {
   "cell_type": "code",
   "execution_count": null,
   "metadata": {},
   "outputs": [
    {
     "data": {
      "text/html": [
       "Total time: 05:42 <p><table style='width:300px; margin-bottom:10px'>\n",
       "  <tr>\n",
       "    <th>epoch</th>\n",
       "    <th>train_loss</th>\n",
       "    <th>valid_loss</th>\n",
       "    <th>accuracy</th>\n",
       "  </tr>\n",
       "  <tr>\n",
       "    <th>1</th>\n",
       "    <th>0.223174</th>\n",
       "    <th>0.165679</th>\n",
       "    <th>0.939600</th>\n",
       "  </tr>\n",
       "</table>\n"
      ],
      "text/plain": [
       "<IPython.core.display.HTML object>"
      ]
     },
     "metadata": {},
     "output_type": "display_data"
    }
   ],
   "source": [
    "learn.freeze_to(-3)\n",
    "learn.fit_one_cycle(1, slice(5e-3/(2.6**4),5e-3), moms=(0.8,0.7))"
   ]
  },
  {
   "cell_type": "code",
   "execution_count": null,
   "metadata": {
    "collapsed": true
   },
   "outputs": [],
   "source": [
    "learn.save('third')"
   ]
  },
  {
   "cell_type": "code",
   "execution_count": null,
   "metadata": {
    "collapsed": true
   },
   "outputs": [],
   "source": [
    "learn.load('third');"
   ]
  },
  {
   "cell_type": "code",
   "execution_count": null,
   "metadata": {},
   "outputs": [
    {
     "data": {
      "text/html": [
       "Total time: 15:17 <p><table style='width:300px; margin-bottom:10px'>\n",
       "  <tr>\n",
       "    <th>epoch</th>\n",
       "    <th>train_loss</th>\n",
       "    <th>valid_loss</th>\n",
       "    <th>accuracy</th>\n",
       "  </tr>\n",
       "  <tr>\n",
       "    <th>1</th>\n",
       "    <th>0.240424</th>\n",
       "    <th>0.155204</th>\n",
       "    <th>0.943160</th>\n",
       "  </tr>\n",
       "  <tr>\n",
       "    <th>2</th>\n",
       "    <th>0.217462</th>\n",
       "    <th>0.153421</th>\n",
       "    <th>0.943960</th>\n",
       "  </tr>\n",
       "</table>\n"
      ],
      "text/plain": [
       "<IPython.core.display.HTML object>"
      ]
     },
     "metadata": {},
     "output_type": "display_data"
    }
   ],
   "source": [
    "learn.unfreeze()\n",
    "learn.fit_one_cycle(2, slice(1e-3/(2.6**4),1e-3), moms=(0.8,0.7))"
   ]
  },
  {
   "cell_type": "code",
   "execution_count": null,
   "metadata": {},
   "outputs": [
    {
     "data": {
      "text/plain": [
       "(Category pos, tensor(1), tensor([7.5928e-04, 9.9924e-01]))"
      ]
     },
     "execution_count": null,
     "metadata": {},
     "output_type": "execute_result"
    }
   ],
   "source": [
    "learn.predict(\"I really loved that movie, it was awesome!\")"
   ]
  },
  {
   "cell_type": "code",
   "execution_count": null,
   "metadata": {
    "collapsed": true
   },
   "outputs": [],
   "source": []
  }
 ],
 "metadata": {
  "kernelspec": {
   "display_name": "Python 3",
   "language": "python",
   "name": "python3"
  },
  "language_info": {
   "codemirror_mode": {
    "name": "ipython",
    "version": 3
   },
   "file_extension": ".py",
   "mimetype": "text/x-python",
   "name": "python",
   "nbconvert_exporter": "python",
   "pygments_lexer": "ipython3",
   "version": "3.6.3"
  }
 },
 "nbformat": 4,
 "nbformat_minor": 2
}
